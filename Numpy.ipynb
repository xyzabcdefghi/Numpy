{
 "cells": [
  {
   "cell_type": "code",
   "execution_count": 17,
   "id": "7a6a36a7-6b62-44e6-9b6c-047da67ebd1c",
   "metadata": {},
   "outputs": [],
   "source": [
    "import numpy as np"
   ]
  },
  {
   "cell_type": "code",
   "execution_count": 19,
   "id": "d6fd7c35-97c4-4b6e-ada7-d42ab3cd4ad2",
   "metadata": {},
   "outputs": [
    {
     "name": "stdout",
     "output_type": "stream",
     "text": [
      "1.26.4\n"
     ]
    },
    {
     "data": {
      "text/plain": [
       "'1.26.4'"
      ]
     },
     "execution_count": 19,
     "metadata": {},
     "output_type": "execute_result"
    }
   ],
   "source": [
    "# find version of numpy\n",
    "import numpy as np  # np is an abbreviation of numpy\n",
    "\n",
    "print(np.__version__)\n",
    "np.version.version"
   ]
  },
  {
   "cell_type": "code",
   "execution_count": 2,
   "id": "f53520a8-e4a0-4462-8521-d5b42f41c042",
   "metadata": {},
   "outputs": [
    {
     "name": "stdout",
     "output_type": "stream",
     "text": [
      "Shape: (5,)\n",
      "each item size : 4 bytes\n",
      "ndim:No. of axes/dimensions: 1\n",
      "size:length of the array: 5\n",
      "array_1d= [1 2 3 4 5]\n"
     ]
    },
    {
     "data": {
      "text/plain": [
       "array([1, 2, 3, 4, 5])"
      ]
     },
     "execution_count": 2,
     "metadata": {},
     "output_type": "execute_result"
    }
   ],
   "source": [
    "# Creating a 1D array  using np.array() function\n",
    "array_1d = np.array([1, 2, 3, 4, 5])\n",
    "\n",
    "# Using ndarray attributes to learn about its structure and properties\n",
    "\n",
    "# ndarray.ndim: The number of axes (dimensions) of the array.\n",
    "# ndarray.shape: The dimensions of the array, represented as a tuple.\n",
    "# ndarray.size: The total number of elements in the array.\n",
    "# ndarray.dtype: The data type of the elements in the array.\n",
    "# ndarray.itemsize: The size in bytes of each element in the array.\n",
    "\n",
    "print(\"Shape:\", array_1d.shape)  # Shape: (5,)\n",
    "print(\"each item size :\", array_1d.itemsize, \"bytes\")   # each item size : 4 bytes\n",
    "print(\"ndim:No. of axes/dimensions:\", array_1d.ndim)  #  1\n",
    "print(\"size:length of the array:\", array_1d.size)  #  size:length of the array: 5\n",
    "# observe the difference for below 2 lines\n",
    "print(\"array_1d=\",array_1d) # array_1d= [1 2 3 4 5]\n",
    "array_1d   #  array([1, 2, 3, 4, 5])"
   ]
  },
  {
   "cell_type": "code",
   "execution_count": 4,
   "id": "2610d562-ac7b-4d06-93df-ee4116cb46f4",
   "metadata": {},
   "outputs": [
    {
     "name": "stdout",
     "output_type": "stream",
     "text": [
      "<class 'numpy.ndarray'>\n"
     ]
    },
    {
     "data": {
      "text/plain": [
       "numpy.ndarray"
      ]
     },
     "execution_count": 4,
     "metadata": {},
     "output_type": "execute_result"
    }
   ],
   "source": [
    "# check that a newly created object is an ndarray using type()\n",
    "print(type(array_1d))  # <class 'numpy.ndarray'>\n",
    "type(array_1d)"
   ]
  },
  {
   "cell_type": "code",
   "execution_count": 118,
   "id": "354f4ad1-8cfd-4500-a31c-9aa7a37906bd",
   "metadata": {},
   "outputs": [
    {
     "name": "stdout",
     "output_type": "stream",
     "text": [
      "int32\n",
      "int32\n"
     ]
    },
    {
     "data": {
      "text/plain": [
       "dtype('int32')"
      ]
     },
     "execution_count": 118,
     "metadata": {},
     "output_type": "execute_result"
    }
   ],
   "source": [
    "print(array_1d.dtype)      # int32               ----- int type takes 32/8= 4 bytes\n",
    "print(array_1d.dtype.name) # int32 \n",
    "array_1d.dtype             # dtype('int32')\n"
   ]
  },
  {
   "cell_type": "code",
   "execution_count": 33,
   "id": "6ea610bd-6b8b-4aa1-909e-b44f5fee830f",
   "metadata": {},
   "outputs": [
    {
     "data": {
      "text/plain": [
       "array([ True,  True,  True, False,  True])"
      ]
     },
     "execution_count": 33,
     "metadata": {},
     "output_type": "execute_result"
    }
   ],
   "source": [
    "# providing optional dtype parameter\n",
    "list=[5,6,7,0,-7]\n",
    "arr1d=np.array(list,dtype=bool)\n",
    "arr1d"
   ]
  },
  {
   "cell_type": "code",
   "execution_count": 119,
   "id": "cab3585d-aaaf-45a3-9895-8eeef4d004fc",
   "metadata": {},
   "outputs": [
    {
     "data": {
      "text/plain": [
       "'int32'"
      ]
     },
     "execution_count": 119,
     "metadata": {},
     "output_type": "execute_result"
    }
   ],
   "source": [
    "array_1d.dtype.name   # 'int32'"
   ]
  },
  {
   "cell_type": "code",
   "execution_count": 45,
   "id": "817daa05-5ac3-4cfc-afc9-73269aa1d480",
   "metadata": {},
   "outputs": [
    {
     "name": "stdout",
     "output_type": "stream",
     "text": [
      "<class 'numpy.ndarray'>\n",
      "int32\n",
      "Shape: (2, 3)\n",
      "Itemsize:(each element takes 4 bytes )\n",
      "ndim:(No. of axes): 2\n",
      "size:length of the array: 6\n",
      "array_2d=\n",
      " [[1 2 3]\n",
      " [4 5 6]]\n"
     ]
    },
    {
     "data": {
      "text/plain": [
       "array([[1, 2, 3],\n",
       "       [4, 5, 6]])"
      ]
     },
     "execution_count": 45,
     "metadata": {},
     "output_type": "execute_result"
    }
   ],
   "source": [
    "# Creating a 2D array\n",
    "array_2d = np.array([[1, 2, 3], [4, 5, 6]])\n",
    "print(type(array_2d))  # <class 'numpy.ndarray'>\n",
    "print(array_2d.dtype)  # int32\n",
    "print(\"Shape:\", array_2d.shape)  # Shape: (2,3)\n",
    "print(\"Itemsize:(each element takes\", array_2d.itemsize, \"bytes )\") \n",
    " # Itemsize:(each element takes 4 bytes )\n",
    "print(\"ndim:(No. of axes):\", array_2d.ndim)  #  2\n",
    "print(\"size:length of the array:\", array_2d.size)  #  size:length of the array: 6\n",
    "print(\"array_2d=\\n\",array_2d)\n",
    "array_2d"
   ]
  },
  {
   "cell_type": "code",
   "execution_count": 6,
   "id": "d46cceb4-050b-4ead-9c41-1be535223219",
   "metadata": {},
   "outputs": [
    {
     "name": "stdout",
     "output_type": "stream",
     "text": [
      "1D array(5)filled with zeroes[using np.zeros((5)] =\n",
      " [0. 0. 0. 0. 0.]\n",
      "2D array(3X3)filled with zeroes[using np.zeros((3, 3)] =\n",
      " [[0. 0. 0.]\n",
      " [0. 0. 0.]\n",
      " [0. 0. 0.]]\n",
      "1D array(5)filled with ones [using np.ones((5))] =\n",
      " [1. 1. 1. 1. 1.]\n",
      "2D array(2X2)filled with ones [using np.ones((2, 2))] =\n",
      " [[1. 1.]\n",
      " [1. 1.]]\n",
      "1D array [using np.arange(10)] =\n",
      " [0 1 2 3 4 5 6 7 8 9]\n",
      "array [using np.linspace(0, 1, num=5)] =\n",
      " [0.   0.25 0.5  0.75 1.  ]\n",
      "2D array(2X3) [using  np.random.rand(2, 3)] =\n",
      " [[0.55332802 0.989349   0.86198271]\n",
      " [0.91730575 0.07773448 0.4334485 ]]\n"
     ]
    }
   ],
   "source": [
    "# Intrinsic Creation of Arrays\n",
    "# Using Built-in Functions to create arrays with predefined values:\n",
    "# np.zeros(): Creates an array filled with zeros.\n",
    "# np.ones(): Creates an array filled with ones.\n",
    "# np.arange(): Creates an array with a range of numbers.\n",
    "# np.linspace(): Creates an array with evenly spaced numbers over a specified interval.\n",
    "# np.random.rand(): Creates an array with random numbers.\n",
    "\n",
    "# Create a 1D array of zeros\n",
    "zeros1D = np.zeros((5))\n",
    "print(\"1D array(5)filled with zeroes[using np.zeros((5)] =\\n\",zeros1D)\n",
    "\n",
    "# Create a 2D array of zeros\n",
    "zeros2D = np.zeros((3, 3))\n",
    "print(\"2D array(3X3)filled with zeroes[using np.zeros((3, 3)] =\\n\",zeros2D)\n",
    "\n",
    "# Create a 1D array of ones\n",
    "ones1D = np.ones((5))\n",
    "print(\"1D array(5)filled with ones [using np.ones((5))] =\\n\",ones1D)\n",
    "\n",
    "# Create a 2D array of ones\n",
    "ones2D = np.ones((2, 2))\n",
    "print(\"2D array(2X2)filled with ones [using np.ones((2, 2))] =\\n\",ones2D)\n",
    "\n",
    "# Create a 1D array with a range of numbers\n",
    "range_array = np.arange(10)\n",
    "print(\"1D array [using np.arange(10)] =\\n\",range_array)\n",
    "\n",
    "# Create a 1D array with evenly spaced numbers\n",
    "linspace_array = np.linspace(0, 1, num=5) # num default value is 50\n",
    "print(\"array [using np.linspace(0, 1, num=5)] =\\n\",linspace_array)\n",
    "\n",
    "# Create an array with random numbers\n",
    "random_array = np.random.rand(2, 3)\n",
    "print(\"2D array(2X3) [using  np.random.rand(2, 3)] =\\n\" ,random_array) "
   ]
  },
  {
   "cell_type": "code",
   "execution_count": 57,
   "id": "815a0990-79c7-4f2b-be8d-8484ea9c7e32",
   "metadata": {},
   "outputs": [
    {
     "name": "stdout",
     "output_type": "stream",
     "text": [
      "[0 1 2 3 4 5 6 7 8 9]\n",
      "[ 5  6  7  8  9 10 11 12 13 14]\n",
      "[10 15 20 25]\n",
      "[10  9  8  7  6  5  4  3  2  1]\n",
      "[0.  0.5 1.  1.5]\n",
      "[0. 1. 2. 3. 4. 5.]\n",
      "float32\n"
     ]
    }
   ],
   "source": [
    "'''\n",
    "The function np.arange() in NumPy is used to generate arrays with regularly incrementing values.\n",
    "It's quite similar to Python's built-in range() function but returns an ndarray instead of a list.\n",
    "\n",
    "numpy.arange([start, ]stop, [step, ] [dtype=None])\n",
    "\n",
    "start: [optional] The start of the interval range. By default, it starts at 0.\n",
    "stop: The end of the interval range. This number is not included in the range.\n",
    "step: [optional] The spacing between two adjacent values. Default is 1.\n",
    "dtype: [optional] The type of the output array. If not specified, the data type is inferred from the \n",
    "other input arguments.\n",
    "\n",
    "'''\n",
    "\n",
    "# Generate an array starting from 0 up to (but not including) 10.\n",
    "arr = np.arange(10)  # only stop is specified, start will be 0, and step is 1\n",
    "print(arr)  #  [0 1 2 3 4 5 6 7 8 9]\n",
    "\n",
    "arr = np.arange(5, 15)  # Specifying a Start and Stop\n",
    "print(arr)  #  [ 5  6  7  8  9 10 11 12 13 14]\n",
    "\n",
    "# Using a Step: Create an array from 10 to 30, with a step of 5.\n",
    "arr = np.arange(10, 30, 5)\n",
    "print(arr)  # [10 15 20 25]\n",
    "\n",
    "# Negative Step: Create a decreasing array from 10 to 0.\n",
    "arr = np.arange(10, 0, -1)\n",
    "print(arr)  #  [10  9  8  7  6  5  4  3  2  1]\n",
    "\n",
    "arr = np.arange(0, 2, 0.5)  #  stpe is in float\n",
    "print(arr)  #  [0.  0.5 1.  1.5]\n",
    "\n",
    "# Specifying Data Type: Generate an array of integers from 0 to 5, \n",
    "# specifying the data type explicitly.\n",
    "\n",
    "arr = np.arange(6, dtype=np.float32)\n",
    "print(arr)  #  [0. 1. 2. 3. 4. 5.]\n",
    "print(arr.dtype)  #  float32"
   ]
  },
  {
   "cell_type": "code",
   "execution_count": 5,
   "id": "5f04694e-0564-4b03-a56f-77e0d008c5ad",
   "metadata": {},
   "outputs": [
    {
     "name": "stdout",
     "output_type": "stream",
     "text": [
      "[[1 2 3]\n",
      " [4 5 6]] \n",
      "\n",
      "[[1 2 3]\n",
      " [4 5 6]] \n",
      "\n",
      "[[1 2 3]\n",
      " [4 5 6]\n",
      " [7 8 9]]\n",
      "[[1 2 3]\n",
      " [4 5 6]\n",
      " [7 8 9]]\n"
     ]
    },
    {
     "data": {
      "text/plain": [
       "array([[1, 2, 3],\n",
       "       [4, 5, 6],\n",
       "       [7, 8, 9]])"
      ]
     },
     "execution_count": 5,
     "metadata": {},
     "output_type": "execute_result"
    }
   ],
   "source": [
    "# sequences of tuples and lists interconnected make no difference.\n",
    "\n",
    "c = np.array([[1, 2, 3],[4, 5, 6]])\n",
    "\n",
    "d = np.array(((1, 2, 3),(4, 5, 6)))\n",
    "e = np.array([(1, 2, 3), [4, 5, 6], (7, 8, 9)])\n",
    "f = np.array(([1, 2, 3], [4, 5, 6], [7, 8, 9]))\n",
    "\n",
    "print(c,\"\\n\")\n",
    "print(d,\"\\n\")\n",
    "print(e)\n",
    "print(f)\n",
    "f"
   ]
  },
  {
   "cell_type": "code",
   "execution_count": 8,
   "id": "b30e4178-12b2-4d53-9d74-b5a734b33d04",
   "metadata": {},
   "outputs": [
    {
     "data": {
      "text/plain": [
       "array([['a', 'b'],\n",
       "       ['c', 'de']], dtype='<U2')"
      ]
     },
     "execution_count": 8,
     "metadata": {},
     "output_type": "execute_result"
    }
   ],
   "source": [
    "g = np.array([['a', 'b'],['c', 'de']])\n",
    "g                                     "
   ]
  },
  {
   "cell_type": "code",
   "execution_count": 67,
   "id": "36abeeab-a354-41ee-ba8a-604132016cc1",
   "metadata": {},
   "outputs": [
    {
     "data": {
      "text/plain": [
       "dtype('<U1')"
      ]
     },
     "execution_count": 67,
     "metadata": {},
     "output_type": "execute_result"
    }
   ],
   "source": [
    "g.dtype    #   dtype('<U1')\n",
    "# '<U1' stands for a Unicode string with a maximum length of 1 character\n",
    "# The 'U' indicates that the data type is a Unicode string.\n",
    "# The 1 specifies that the string can hold a maximum of 1 character.\n",
    "# The '< ' (little-endian) refers to the byte order, but for strings, \n",
    "# this isn't particularly relevant as strings are not sensitive to byte order like numeric types might be."
   ]
  },
  {
   "cell_type": "code",
   "execution_count": 69,
   "id": "0e9c7b37-0309-4276-9aff-5660ab7b429e",
   "metadata": {},
   "outputs": [
    {
     "data": {
      "text/plain": [
       "'str32'"
      ]
     },
     "execution_count": 69,
     "metadata": {},
     "output_type": "execute_result"
    }
   ],
   "source": [
    "g.dtype.name         #                  'str32'\n",
    "\n",
    "# str: This indicates that the data type is a string.\n",
    "# 32: This indicates that each string in the array can have a maximum of 32 characters."
   ]
  },
  {
   "cell_type": "code",
   "execution_count": 73,
   "id": "87d416b5-6735-400e-89d7-3ee153f0f8cc",
   "metadata": {},
   "outputs": [
    {
     "data": {
      "text/plain": [
       "array([[1.+0.j, 2.+0.j, 3.+0.j],\n",
       "       [4.+0.j, 5.+0.j, 6.+0.j]])"
      ]
     },
     "execution_count": 73,
     "metadata": {},
     "output_type": "execute_result"
    }
   ],
   "source": [
    "#f = np.array([[1, 2, 3],[4, 5, 6]], dtype=np.float16)\n",
    "f = np.array([[1, 2, 3],[4, 5, 6]], dtype=complex)\n",
    "f "
   ]
  },
  {
   "cell_type": "code",
   "execution_count": 128,
   "id": "11fff151-998d-4b0e-916b-5bf165cc48e8",
   "metadata": {},
   "outputs": [
    {
     "data": {
      "text/plain": [
       "array([4, 5, 6, 7, 8, 9])"
      ]
     },
     "execution_count": 128,
     "metadata": {},
     "output_type": "execute_result"
    }
   ],
   "source": [
    "np.arange(4,10) "
   ]
  },
  {
   "cell_type": "code",
   "execution_count": 129,
   "id": "b05ad09c-5371-4cb8-9805-54addc48c5d8",
   "metadata": {},
   "outputs": [
    {
     "data": {
      "text/plain": [
       "array([4. , 4.6, 5.2, 5.8, 6.4, 7. , 7.6, 8.2, 8.8, 9.4])"
      ]
     },
     "execution_count": 129,
     "metadata": {},
     "output_type": "execute_result"
    }
   ],
   "source": [
    "np.arange(4,10,0.6)"
   ]
  },
  {
   "cell_type": "code",
   "execution_count": 130,
   "id": "4e138534-03f2-44b3-bbbd-8aff72696525",
   "metadata": {},
   "outputs": [
    {
     "data": {
      "text/plain": [
       "array([ 4,  5,  6,  7,  8,  9, 10, 11, 12, 13, 14, 15])"
      ]
     },
     "execution_count": 130,
     "metadata": {},
     "output_type": "execute_result"
    }
   ],
   "source": [
    "np.arange(4,16)"
   ]
  },
  {
   "cell_type": "code",
   "execution_count": 131,
   "id": "89a8de00-49c9-4f0c-9537-6ee4e0e90d90",
   "metadata": {},
   "outputs": [
    {
     "data": {
      "text/plain": [
       "array([[ 4,  5,  6,  7],\n",
       "       [ 8,  9, 10, 11],\n",
       "       [12, 13, 14, 15]])"
      ]
     },
     "execution_count": 131,
     "metadata": {},
     "output_type": "execute_result"
    }
   ],
   "source": [
    "np.arange(4,16,1).reshape(3,4)"
   ]
  },
  {
   "cell_type": "code",
   "execution_count": 132,
   "id": "e1c838a4-d998-40a6-ba34-7cded798ca8f",
   "metadata": {},
   "outputs": [
    {
     "data": {
      "text/plain": [
       "array([ 1.,  4.,  7., 10.])"
      ]
     },
     "execution_count": 132,
     "metadata": {},
     "output_type": "execute_result"
    }
   ],
   "source": [
    "np.linspace(1,10,4) # third par: No. of elements into which we want the interval to be split."
   ]
  },
  {
   "cell_type": "code",
   "execution_count": 133,
   "id": "ce920510-dcf0-48c2-8d9c-61c39342d93c",
   "metadata": {},
   "outputs": [
    {
     "data": {
      "text/plain": [
       "array([ 1. ,  2.8,  4.6,  6.4,  8.2, 10. ])"
      ]
     },
     "execution_count": 133,
     "metadata": {},
     "output_type": "execute_result"
    }
   ],
   "source": [
    "np.linspace(1,10,6) "
   ]
  },
  {
   "cell_type": "code",
   "execution_count": 134,
   "id": "34d7a760-1c27-4053-a9d1-6424bf3cd981",
   "metadata": {},
   "outputs": [
    {
     "data": {
      "text/plain": [
       "array([[ 1. ,  2.8],\n",
       "       [ 4.6,  6.4],\n",
       "       [ 8.2, 10. ]])"
      ]
     },
     "execution_count": 134,
     "metadata": {},
     "output_type": "execute_result"
    }
   ],
   "source": [
    "np.linspace(1,10,6).reshape(3,2)"
   ]
  },
  {
   "cell_type": "code",
   "execution_count": 81,
   "id": "7ee1ed5c-d5c3-4f33-b140-a82509d57170",
   "metadata": {},
   "outputs": [
    {
     "name": "stdout",
     "output_type": "stream",
     "text": [
      "a= [1 2 3 4 5]\n",
      "a+2=: [3 4 5 6 7]\n"
     ]
    }
   ],
   "source": [
    "# Basic Operations\n",
    "\n",
    "a=np.arange(1,6)\n",
    "print(\"a=\", a)\n",
    "# sum of an array with a scalar ( element-wise sum)\n",
    "print(\"a+2=:\", a+2)"
   ]
  },
  {
   "cell_type": "code",
   "execution_count": 87,
   "id": "58aef23b-048f-4c12-b4a2-b6d89f74285a",
   "metadata": {},
   "outputs": [
    {
     "name": "stdout",
     "output_type": "stream",
     "text": [
      "a= [1 2 3 4 5]\n",
      "a*2=: [ 2  4  6  8 10]\n"
     ]
    }
   ],
   "source": [
    "print(\"a=\", a)\n",
    "# product of an array with a scalar ( element-wise product)\n",
    "print(\"a*2=:\", a*2)"
   ]
  },
  {
   "cell_type": "code",
   "execution_count": 91,
   "id": "ca73b2b2-931d-49f8-8012-93694306f605",
   "metadata": {},
   "outputs": [
    {
     "name": "stdout",
     "output_type": "stream",
     "text": [
      "a= [1 2 3 4 5]\n",
      "b= [2 3 4 5 6]\n"
     ]
    }
   ],
   "source": [
    "print(\"a=\", a)\n",
    "b=np.arange(2,7)\n",
    "print(\"b=\", b)"
   ]
  },
  {
   "cell_type": "code",
   "execution_count": 93,
   "id": "3ab5883e-5871-4d6d-8e75-9874194035df",
   "metadata": {},
   "outputs": [
    {
     "data": {
      "text/plain": [
       "array([ 3,  5,  7,  9, 11])"
      ]
     },
     "execution_count": 93,
     "metadata": {},
     "output_type": "execute_result"
    }
   ],
   "source": [
    "# sum of an array with another array ( element-wise sum)\n",
    "a+b"
   ]
  },
  {
   "cell_type": "code",
   "execution_count": 141,
   "id": "7b96065d-aa45-467f-a571-b7f283d08633",
   "metadata": {},
   "outputs": [
    {
     "data": {
      "text/plain": [
       "array([-1, -1, -1, -1, -1])"
      ]
     },
     "execution_count": 141,
     "metadata": {},
     "output_type": "execute_result"
    }
   ],
   "source": [
    "a-b"
   ]
  },
  {
   "cell_type": "code",
   "execution_count": 173,
   "id": "80d7821f-ce9b-4293-9465-88c1174e74bb",
   "metadata": {},
   "outputs": [
    {
     "name": "stdout",
     "output_type": "stream",
     "text": [
      "a= [1 2 3 4 5]\n",
      "b= [2 3 4 5 6]\n",
      "a*b=:\n",
      "[ 2  6 12 20 30]\n",
      "a= [1 2 3 4 5]\n",
      "b= [2 3 4 5 6]\n"
     ]
    }
   ],
   "source": [
    "print(\"a=\", a)\n",
    "print(\"b=\",b)\n",
    "print(\"a*b=:\")\n",
    "print(a*b)\n",
    "print(\"a=\", a)\n",
    "print(\"b=\",b)"
   ]
  },
  {
   "cell_type": "code",
   "execution_count": 95,
   "id": "2e85428f-226c-42e5-b95f-f23a3067547c",
   "metadata": {},
   "outputs": [
    {
     "name": "stdout",
     "output_type": "stream",
     "text": [
      "a= [1 2 3 4 5]\n"
     ]
    },
    {
     "data": {
      "text/plain": [
       "array([ 0.90929743,  0.28224002, -2.27040749, -3.8356971 , -1.39707749])"
      ]
     },
     "execution_count": 95,
     "metadata": {},
     "output_type": "execute_result"
    }
   ],
   "source": [
    "# Universal Functions (ufunc): a function operating of an array in an element-by-element fashion. \n",
    "print(\"a=\", a)\n",
    "a*np.sin(b)"
   ]
  },
  {
   "cell_type": "code",
   "execution_count": 97,
   "id": "e2db87ba-aace-4d98-906d-c7da27d7c853",
   "metadata": {},
   "outputs": [
    {
     "data": {
      "text/plain": [
       "array([ 1.41421356,  3.46410162,  6.        ,  8.94427191, 12.24744871])"
      ]
     },
     "execution_count": 97,
     "metadata": {},
     "output_type": "execute_result"
    }
   ],
   "source": [
    "a*np.sqrt(b)"
   ]
  },
  {
   "cell_type": "code",
   "execution_count": 121,
   "id": "cda5cfb3-a13e-42cc-b628-9f68e71cc4ae",
   "metadata": {},
   "outputs": [
    {
     "data": {
      "text/plain": [
       "array([[0, 1, 2],\n",
       "       [3, 4, 5]])"
      ]
     },
     "execution_count": 121,
     "metadata": {},
     "output_type": "execute_result"
    }
   ],
   "source": [
    "A=np.arange(0,6).reshape(2,3)\n",
    "A"
   ]
  },
  {
   "cell_type": "code",
   "execution_count": 123,
   "id": "cc1c5a70-bfdc-4301-8930-13a043b72f64",
   "metadata": {},
   "outputs": [
    {
     "data": {
      "text/plain": [
       "array([[1., 1., 1.],\n",
       "       [1., 1., 1.]])"
      ]
     },
     "execution_count": 123,
     "metadata": {},
     "output_type": "execute_result"
    }
   ],
   "source": [
    "B=np.ones((2,3))\n",
    "B"
   ]
  },
  {
   "cell_type": "code",
   "execution_count": 125,
   "id": "f4d8e5f8-83eb-4490-b246-cd7286fd98b0",
   "metadata": {},
   "outputs": [
    {
     "data": {
      "text/plain": [
       "array([[0., 1., 2.],\n",
       "       [3., 4., 5.]])"
      ]
     },
     "execution_count": 125,
     "metadata": {},
     "output_type": "execute_result"
    }
   ],
   "source": [
    "A*B"
   ]
  },
  {
   "cell_type": "code",
   "execution_count": 99,
   "id": "780ed111-3a6e-4cfe-a74d-7fb0448ee1ac",
   "metadata": {},
   "outputs": [
    {
     "name": "stdout",
     "output_type": "stream",
     "text": [
      "[[0 1 2]\n",
      " [3 4 5]\n",
      " [6 7 8]]\n",
      "[[1. 1. 1.]\n",
      " [1. 1. 1.]\n",
      " [1. 1. 1.]]\n",
      "[[ 3.  3.  3.]\n",
      " [12. 12. 12.]\n",
      " [21. 21. 21.]]\n",
      "[[ 9. 12. 15.]\n",
      " [ 9. 12. 15.]\n",
      " [ 9. 12. 15.]]\n"
     ]
    }
   ],
   "source": [
    "# The Matrix Product\n",
    "A=np.arange(9).reshape(3,3)\n",
    "print(A)\n",
    "'''\n",
    "array([[0, 1, 2],\n",
    "       [3, 4, 5],\n",
    "       [6, 7, 8]])\n",
    "'''\n",
    "B=np.ones((3,3))\n",
    "print(B)\n",
    "'''\n",
    "array([[1., 1., 1.],\n",
    "       [1., 1., 1.],\n",
    "       [1., 1., 1.]])\n",
    "'''\n",
    "print(np.dot(A,B))\n",
    "'''\n",
    "array([[ 3.,  3.,  3.],\n",
    "       [12., 12., 12.],\n",
    "       [21., 21., 21.]])\n",
    "'''\n",
    "print(np.dot(B,A)) # np.dot(B,A  is not same as np.dot(A,B); np.dot(B,A\n",
    "\n",
    "# array([[ 9., 12., 15.],\n",
    "#        [ 9., 12., 15.],\n",
    "#        [ 9., 12., 15.]])\n"
   ]
  },
  {
   "cell_type": "code",
   "execution_count": 127,
   "id": "80d379f5-5432-439a-aa2e-f82c2e5f84bd",
   "metadata": {},
   "outputs": [
    {
     "name": "stdout",
     "output_type": "stream",
     "text": [
      "a= [3.3 4.5 1.2 5.7 0.3]\n",
      "Sum= 15.0\n",
      "Largest= 5.7\n",
      "Smallest= 0.3\n",
      "Mean= 3.0\n",
      "Std deviation= 2.0079840636817816\n"
     ]
    }
   ],
   "source": [
    "#  Aggregate functions: perform an operation on a set of values, an array  and produce a single result\n",
    "a = np.array([3.3, 4.5, 1.2, 5.7, 0.3])\n",
    "print(\"a=\",a)  #array([3.3, 4.5, 1.2, 5.7, 0.3])\n",
    "print(\"Sum=\",a.sum())  #   15.0\n",
    "print(\"Largest=\",a.max())  #  5.7\n",
    "print(\"Smallest=\",a.min()) #   0.3\n",
    "print(\"Mean=\",a.mean())  #   3.0\n",
    "print(\"Std deviation=\",a.std())   # 2.0079840636817816\n"
   ]
  },
  {
   "cell_type": "code",
   "execution_count": 111,
   "id": "6b351546-8d9f-4893-a420-0ce840b1b4bb",
   "metadata": {},
   "outputs": [
    {
     "name": "stdout",
     "output_type": "stream",
     "text": [
      "B= [1 2 3 4]\n",
      "[1.         1.41421356 1.73205081 2.        ]\n",
      "[ 0.84147098  0.90929743  0.14112001 -0.7568025 ]\n",
      "[0.         0.69314718 1.09861229 1.38629436]\n"
     ]
    }
   ],
   "source": [
    "#  Universal Functions (ufunc)\n",
    "# The function that acts individually on each single element of the input array to generate a corresponding result\n",
    "# in a new output array. At the end, you will obtain an array of the same size of the input.\n",
    "\n",
    "B=np.arange(1,5)\n",
    "print(\"B=\",B)  #  B= [ 1 2 3 4]\n",
    "print(np.sqrt(B)) #\n",
    "print(np.sin(B)) #  array([ 0.84147098,  0.90929743,  0.14112001, -0.7568025 ])\n",
    "print(np.log(B)) # array([0.        , 0.69314718, 1.09861229, 1.38629436])\n",
    "# log base e"
   ]
  },
  {
   "cell_type": "code",
   "execution_count": 303,
   "id": "c1f6597f-4036-4733-ad02-b2f5dfdd4f16",
   "metadata": {},
   "outputs": [
    {
     "name": "stdout",
     "output_type": "stream",
     "text": [
      "a=\n",
      " [0 1 2 3]\n",
      "a after (a += 1)  =\n",
      " [1 2 3 4]\n",
      "a after (a -= 1)=\n",
      " [0 1 2 3]\n"
     ]
    }
   ],
   "source": [
    "# Increment and Decrement Operators\n",
    "\n",
    "a = np.arange(4) \n",
    "print(\"a=\\n\",a)   # array([0, 1, 2, 3])\n",
    "a += 1  \n",
    "print(\"a after (a += 1)  =\\n\",a)  # array([1, 2, 3, 4])\n",
    "a -= 1  \n",
    "print(\"a after (a -= 1)=\\n\",a)    # array([0, 1, 2, 3])"
   ]
  },
  {
   "cell_type": "code",
   "execution_count": 357,
   "id": "068c1091-3043-41f1-a515-7804593abed8",
   "metadata": {},
   "outputs": [
    {
     "name": "stdout",
     "output_type": "stream",
     "text": [
      "a=\n",
      " [4 5 6 7]\n",
      "a=\n",
      " [ 8 10 12 14]\n"
     ]
    }
   ],
   "source": [
    "#  Increment and Decrement Operators: more examples\n",
    "a=np.array([0, 1, 2, 3])\n",
    "a += 4\n",
    "print(\"a=\\n\",a)  # array([4, 5, 6, 7])\n",
    "a *= 2 \n",
    "print(\"a=\\n\",a) #  array([ 8, 10, 12, 14])  "
   ]
  },
  {
   "cell_type": "code",
   "execution_count": 191,
   "id": "6c59f326-9ad0-4d86-9928-c8a782fc5f0a",
   "metadata": {},
   "outputs": [
    {
     "name": "stdout",
     "output_type": "stream",
     "text": [
      "['1' '3.14' 'hello']\n",
      "Data type of the array: <U32\n",
      "itemsize= 128\n"
     ]
    }
   ],
   "source": [
    "import numpy as np\n",
    "\n",
    "# Creating an array with an integer, a float, and a string\n",
    "mixed_array = np.array([1, 3.14, 'hello'])\n",
    "\n",
    "print(mixed_array)  # ['1' '3.14' 'hello'] -- All elements in mixed_array are converted to strings\n",
    "print(\"Data type of the array:\", mixed_array.dtype) # Data type of the array: <U32\n",
    "print(\"itemsize=\", mixed_array.itemsize)  # 128 \n",
    "# <U32: This dtype indicates that the array is of Unicode strings (string type in NumPy), \n",
    "# with a maximum length of 32 characters for each element.\n",
    "# All elements in mixed_array are converted to strings. The numbers 1 and 3.14 are stored as '1' and '3.14', \n",
    "# respectively, so they can coexist with the string 'hello' in the same array. \n",
    "# Disadvantages:\n",
    "# 1)Loss of Numeric Operations:\n",
    "# 2) Memory and Performance:  Using strings can use more memory\n"
   ]
  },
  {
   "cell_type": "code",
   "execution_count": 143,
   "id": "eb60def0-e865-4b25-a99e-aa76b1d7ec1f",
   "metadata": {},
   "outputs": [
    {
     "name": "stdout",
     "output_type": "stream",
     "text": [
      "a= [10 11 12 13 14 15]\n",
      "a[3]= 13\n",
      "a[-3]= 13\n",
      "a= [[10 11]\n",
      " [12 13]]\n",
      "a[1][0]= 12\n"
     ]
    }
   ],
   "source": [
    "#  Indexing, Slicing, and Iterating\n",
    "a= np.arange(10,16)\n",
    "print(\"a=\",a)     #    a= [10 11 12 13 14 15]\n",
    "# positive indexing\n",
    "print(\"a[3]=\",a[3]) #   a[3]=13\n",
    "# negetive indexing\n",
    "print(\"a[-3]=\",a[-3]) #   a[-3]=13\n",
    "\n",
    "a=np.arange(10,14).reshape(2,2)  \n",
    "print(\"a=\",a)\n",
    "#        array([[10, 11],\n",
    "#              [12, 13]])\n",
    "print(\"a[1][0]=\",a[1,0])   # element in row 1, col 0 i.e., a[1][0]  ----  a[1][0]= 12\n",
    "\n"
   ]
  },
  {
   "cell_type": "code",
   "execution_count": 141,
   "id": "cf4cdd88-4c65-441f-9c0b-99d94f872a1f",
   "metadata": {},
   "outputs": [
    {
     "name": "stdout",
     "output_type": "stream",
     "text": [
      "a= [10 11 12 13 14 15]\n",
      "a[[1,4,5]]= [11 14 15]\n"
     ]
    },
    {
     "data": {
      "text/plain": [
       "array([11, 14, 15])"
      ]
     },
     "execution_count": 141,
     "metadata": {},
     "output_type": "execute_result"
    }
   ],
   "source": [
    "# To select multiple items at once, you can pass array of indexes within the square brackets.\n",
    "a= np.arange(10,16)\n",
    "print(\"a=\",a)     #    a= [10 11 12 13 14 15]\n",
    "print(\"a[[1,4,5]]=\", end=' ') \n",
    "print(a[[1,4,5]]) # select elements at indexes 1,4 and 5\n",
    "a[[1,4,5]] #  [[1,4,5]]= [11 14 15]"
   ]
  },
  {
   "cell_type": "code",
   "execution_count": 195,
   "id": "c9f49b24-34c2-42bc-ae29-18c2e1f4f19c",
   "metadata": {},
   "outputs": [
    {
     "name": "stdout",
     "output_type": "stream",
     "text": [
      "arr= [10 11 12 13 14 15]\n",
      "arr[1:5]= [11 12 13 14]\n",
      "arr[1:5:2]= [11 13]\n",
      "arr[:5:2]= [10 12 14]\n",
      "arr[:5:]= [10 11 12 13 14]\n",
      "arr[::2]= [10 12 14]\n"
     ]
    }
   ],
   "source": [
    "# Slicing:  allows you to extract portions of an array to generate new ones.\n",
    "arr= np.arange(10,16) #  array([10, 11, 12, 13, 14, 15])\n",
    "print(\"arr=\",arr)\n",
    "print(\"arr[1:5]=\",arr[1:5]) # array([11, 12, 13, 14])\n",
    "print(\"arr[1:5:2]=\",arr[1:5:2]) # array([11, 13])\n",
    "print(\"arr[:5:2]=\",arr[:5:2]) # array([10, 12, 14])\n",
    "print(\"arr[:5:]=\", arr[:5:]) # array([10, 11, 12, 13, 14])\n",
    "print(\"arr[::2]=\",arr[::2])  # array([10, 12, 14]) "
   ]
  },
  {
   "cell_type": "code",
   "execution_count": 207,
   "id": "c1554148-74d3-4eba-b617-efc718e8d330",
   "metadata": {},
   "outputs": [
    {
     "name": "stdout",
     "output_type": "stream",
     "text": [
      "A= [[10 11 12]\n",
      " [13 14 15]\n",
      " [16 17 18]]\n",
      "A[1,:]_________\n",
      "[13 14 15]\n",
      "A[:,2]__________\n",
      "[12 15 18]\n",
      "A[0:1,1:2]__________\n",
      "[[11]]\n",
      "A[0:2,1:2]__________\n",
      "[[11]\n",
      " [14]]\n",
      "A[[0,2],1:2]__________\n",
      "[[11]\n",
      " [17]]\n"
     ]
    }
   ],
   "source": [
    "A=np.arange(10,19).reshape(3,3)\n",
    "print(\"A=\", A)\n",
    "\n",
    "'''array([[10, 11, 12],\n",
    "       [13, 14, 15],\n",
    "       [16, 17, 18]])\n",
    "'''\n",
    "print(\"A[1,:]_________\")  # 1, Selects the row 1 of the array.\n",
    "                           #  : or :: Selects all columns.\n",
    "print(A[1,::] ) #  Accessing a row      ----  array([13, 14, 15])\n",
    "\n",
    "print(\"A[:,2]__________\") # all rows, but col 2\n",
    "print(A[:,2])   #   Accessing a column -----array([12, 15, 18])\n",
    "\n",
    "print(\"A[0:1,1:2]__________\") # same as A[0,1]\n",
    "print(A[0:1,1:2])  # array([[11]])\n",
    "\n",
    "print(\"A[0:2,1:2]__________\")\n",
    "print(A[0:2,1:2] ) \n",
    "\n",
    "# ''' array([[11],\n",
    "#           [14]])\n",
    "# '''  \n",
    "print(\"A[[0,2],1:2]__________\") # rows 0 and 2   , col 1\n",
    "print(A[[0,2],1:2] )            \n",
    "# '''array([[11],\n",
    "#        [17]])\n",
    "# '''"
   ]
  },
  {
   "cell_type": "code",
   "execution_count": 211,
   "id": "0e53e620-9bff-4295-ad4f-65de83c34c60",
   "metadata": {},
   "outputs": [
    {
     "name": "stdout",
     "output_type": "stream",
     "text": [
      "ndarray display\n",
      "[[10 11 12]\n",
      " [13 14 15]\n",
      " [16 17 18]]\n",
      "\n",
      "\n",
      "row by row display\n",
      "[10 11 12]\n",
      "[13 14 15]\n",
      "[16 17 18]\n",
      "\n",
      "\n",
      "element by element display\n",
      "10 11 12 13 14 15 16 17 18 "
     ]
    }
   ],
   "source": [
    "# Iterating an Array\n",
    "print('ndarray display')  \n",
    "print(A)\n",
    "print('\\n')    \n",
    "\n",
    "# make an iteration row by row\n",
    "print('row by row display')   \n",
    "for row in A:  # A is 2D ndarray object\n",
    "    print(row)\n",
    "print('\\n')    \n",
    "\n",
    "# [10 11 12]\n",
    "# [13 14 15]\n",
    "# [16 17 18]\n",
    "# make an iteration element by element, use A.flat\n",
    "print('element by element display')  \n",
    "\n",
    "for item in A.flat:\n",
    "    print(item, end=\" \") # 10 11 12 13 14 15 16 17 18 "
   ]
  },
  {
   "cell_type": "code",
   "execution_count": 249,
   "id": "bc08fae1-d6f7-4654-91d2-5694b5dd337d",
   "metadata": {},
   "outputs": [
    {
     "name": "stdout",
     "output_type": "stream",
     "text": [
      "A= [[10 11 12]\n",
      " [13 14 15]\n",
      " [16 17 18]]\n",
      "______\n",
      "[39 42 45]\n",
      "______\n",
      "[33 42 51]\n",
      "______\n",
      "column  [10 13 16] \n",
      "\n",
      "column  [11 14 17] \n",
      "\n",
      "column  [12 15 18] \n",
      "\n",
      "[[5.  5.5 6. ]\n",
      " [6.5 7.  7.5]\n",
      " [8.  8.5 9. ]]\n",
      "______\n",
      "row  [10 11 12] \n",
      "\n",
      "row  [13 14 15] \n",
      "\n",
      "row  [16 17 18] \n",
      "\n",
      "[[20 22 24]\n",
      " [26 28 30]\n",
      " [32 34 36]]\n"
     ]
    }
   ],
   "source": [
    "# np.apply_along_axis(np.sum,axis=0,arr=A) \n",
    "# This function takes three arguments: the aggregate function, the axis on which to apply the iteration,and array. \n",
    "\n",
    "A=np.arange(10,19).reshape(3,3)\n",
    "print(\"A=\",A)\n",
    "'''\n",
    "A= [[10 11 12]\n",
    " [13 14 15]\n",
    " [16 17 18]]\n",
    " \n",
    "'''\n",
    "print(\"______\") # column sum\n",
    "print(np.apply_along_axis(np.sum,axis=0,arr=A) ) #array([39, 42, 45])\n",
    "\n",
    "print(\"______\") # row sum\n",
    "print(np.apply_along_axis(np.sum,axis=1,arr=A)) #array([33, 42, 51])\n",
    "\n",
    "def foo(x):    # x receives column when axis=0\n",
    "    print (\"column \", x ,\"\\n\")\n",
    "    return x/2\n",
    "\n",
    "def foo1(x): # x receives row when axis=1\n",
    "    print (\"row \",x ,\"\\n\")\n",
    "    return 2*x\n",
    "    \n",
    "print(\"______\")\n",
    "print(np.apply_along_axis(foo,axis=0,arr=A))\n",
    "\n",
    "print(\"______\")\n",
    "# array([[5. , 5.5, 6. ],\n",
    "#        [6.5, 7. , 7.5],\n",
    "#        [8. , 8.5, 9. ]])\n",
    "print(np.apply_along_axis(foo1,axis=1,arr=A))\n"
   ]
  },
  {
   "cell_type": "code",
   "execution_count": 377,
   "id": "485f73dd-eba5-4912-a6c1-3060413536a8",
   "metadata": {},
   "outputs": [
    {
     "name": "stdout",
     "output_type": "stream",
     "text": [
      "B= [[7.91774568e-01 2.66178369e-01 6.04277963e-05]\n",
      " [5.20671403e-01 5.12535568e-01 8.07761546e-01]\n",
      " [5.95682983e-01 7.34707789e-01 7.49405495e-01]]\n",
      "[[ True False False]\n",
      " [ True  True  True]\n",
      " [ True  True  True]]\n"
     ]
    },
    {
     "data": {
      "text/plain": [
       "array([0.79177457, 0.5206714 , 0.51253557, 0.80776155, 0.59568298,\n",
       "       0.73470779, 0.74940549])"
      ]
     },
     "execution_count": 377,
     "metadata": {},
     "output_type": "execute_result"
    }
   ],
   "source": [
    "# Conditions and Boolean Arrays\n",
    "\n",
    "B= np.random.random((3,3))\n",
    "print(\"B=\",B)\n",
    "'''array([[0.32174415, 0.90265544, 0.34943847],\n",
    "       [0.45981683, 0.44257697, 0.13372979],\n",
    "       [0.69003583, 0.68330169, 0.47230614]]) '''\n",
    "print(B>0.5)\n",
    "'''array([[False,  True, False],\n",
    "       [False, False, False],\n",
    "       [ True,  True, False]]) '''\n",
    "B[B>0.5]\n",
    "\n",
    "#array([0.90265544, 0.69003583, 0.68330169])\n"
   ]
  },
  {
   "cell_type": "code",
   "execution_count": 13,
   "id": "33656ac1-27f5-4c3e-bd62-d3da324b4c85",
   "metadata": {},
   "outputs": [
    {
     "name": "stdout",
     "output_type": "stream",
     "text": [
      "a= [0 1 2 3 4 5]\n",
      "Reshaped array: A=a.reshape(2,3)=\n",
      " [[0 1 2]\n",
      " [3 4 5]]\n",
      "The transpose of A:\n",
      "[[0 3]\n",
      " [1 4]\n",
      " [2 5]]\n",
      "The value of a.shape is \n",
      " (6,)\n",
      "After executing a.shape=(2,3), a.shape=\n",
      " (2, 3)\n",
      "After reshape:a=\n",
      " [[0 1 2]\n",
      " [3 4 5]]\n",
      "After converting 2D array to 1D array using a1D=a.ravel() :  [0 1 2 3 4 5]\n"
     ]
    }
   ],
   "source": [
    "# Shape Manipulation\n",
    "\n",
    "a= np.arange(6)\n",
    "print(\"a=\", a)    # [0.68834651, 0.78617408, 0.56955739, 0.04060049, 0.55295284,  0.44824633]\n",
    "A=a.reshape(2,3) # Change the shape of an array without changing its data\n",
    "print(\"Reshaped array: A=a.reshape(2,3)=\\n\", A)   #   array([[0.68834651, 0.78617408, 0.56955739],\n",
    "                                                     #  [0.04060049, 0.55295284, 0.44824633]])\n",
    "print(\"The transpose of A:\")\n",
    "print(A.transpose() )\n",
    "# array([[0.68834651, 0.04060049],\n",
    "#        [0.78617408, 0.55295284],\n",
    "#        [0.56955739, 0.44824633]])\n",
    "\n",
    "print(\"The value of a.shape is \\n\", a.shape)\n",
    "# To modify the object by modifying the shape, assign a tuple containing the new dimensions directly to its shape attribute.\n",
    "a.shape=(2,3)\n",
    "print(\"After executing a.shape=(2,3), a.shape=\\n\", a.shape)\n",
    "print(\"After reshape:a=\\n\", a)\n",
    "\n",
    "# ravel(): To convert a two-dimensional array into a one-dimensional array,\n",
    "a1D=a.ravel()   # array([0.68834651, 0.78617408, 0.56955739, 0.04060049, 0.55295284,  0.44824633])\n",
    "print(\"After converting 2D array to 1D array using a1D=a.ravel() : \",a1D)\n",
    "\n"
   ]
  },
  {
   "cell_type": "code",
   "execution_count": 253,
   "id": "ae7bbc4b-1fa2-41e7-ad32-31e5223bbfa0",
   "metadata": {},
   "outputs": [
    {
     "name": "stdout",
     "output_type": "stream",
     "text": [
      "float64\n",
      "a=\n",
      " [[1. 1.]\n",
      " [1. 1.]] \n",
      "\n",
      "b=\n",
      " [[0. 0.]\n",
      " [0. 0.]] \n",
      "\n",
      "np.vstack((a,b))=\n",
      " [[1. 1.]\n",
      " [1. 1.]\n",
      " [0. 0.]\n",
      " [0. 0.]] \n",
      "\n",
      "np.hstack((a,b))=\n",
      " [[1. 1. 0. 0.]\n",
      " [1. 1. 0. 0.]] \n",
      "\n",
      "a=\n",
      " [1 2 3] \n",
      "\n",
      "b=\n",
      " [4 5 6] \n",
      "\n",
      "np.column_stack(a,b)\n",
      "\n"
     ]
    },
    {
     "data": {
      "text/plain": [
       "array([[1, 4],\n",
       "       [2, 5],\n",
       "       [3, 6]])"
      ]
     },
     "execution_count": 253,
     "metadata": {},
     "output_type": "execute_result"
    }
   ],
   "source": [
    "# Array Manipulation\n",
    "\n",
    "a=np.ones((2,2)) # by default the dtype is float64\n",
    "print(a.dtype)\n",
    "print(\"a=\\n\", a,\"\\n\")\n",
    "# array([[1., 1.],\n",
    "#        [1., 1.]])\n",
    "b=np.zeros((2,2))\n",
    "print(\"b=\\n\",b,\"\\n\")\n",
    "# array([[0., 0.],\n",
    "#        [0., 0.]])\n",
    "print(\"np.vstack((a,b))=\\n\",np.vstack((a,b)),\"\\n\")\n",
    "# array([[1., 1.],\n",
    "#        [1., 1.],\n",
    "#        [0., 0.],\n",
    "#        [0., 0.]])\n",
    "print(\"np.hstack((a,b))=\\n\",np.hstack((a,b)),\"\\n\")\n",
    "# array([[1., 1., 0., 0.],\n",
    "#        [1., 1., 0., 0.]])\n",
    "\n",
    "a=np.array((1,2,3))\n",
    "b=np.array((4,5,6))\n",
    "print(\"a=\\n\", a,\"\\n\")\n",
    "print(\"b=\\n\", b,\"\\n\")\n",
    "print(\"np.column_stack(a,b)\\n\")\n",
    "np.column_stack((a,b))\n",
    "# array([[1, 4],\n",
    "#        [2, 5],\n",
    "#        [3, 6]])\n",
    "\n",
    "\n"
   ]
  },
  {
   "cell_type": "code",
   "execution_count": 249,
   "id": "f9657753-ddd2-4374-b450-9d7a79e72457",
   "metadata": {},
   "outputs": [
    {
     "name": "stdout",
     "output_type": "stream",
     "text": [
      "np.row_stack((a,b)\n",
      "\n"
     ]
    },
    {
     "data": {
      "text/plain": [
       "array([[1, 2, 3],\n",
       "       [4, 5, 6]])"
      ]
     },
     "execution_count": 249,
     "metadata": {},
     "output_type": "execute_result"
    }
   ],
   "source": [
    "print(\"np.row_stack((a,b)\\n\")\n",
    "np.row_stack((a,b))\n",
    "# array([[1, 2, 3],\n",
    "#        [4, 5, 6]])"
   ]
  },
  {
   "cell_type": "code",
   "execution_count": 257,
   "id": "c5e7eef9-1f8e-44fd-9672-41469e6a57e6",
   "metadata": {},
   "outputs": [
    {
     "name": "stdout",
     "output_type": "stream",
     "text": [
      "A=\n",
      " [[ 0  1  2  3]\n",
      " [ 4  5  6  7]\n",
      " [ 8  9 10 11]\n",
      " [12 13 14 15]]\n",
      "\n",
      "After np.hsplit(A,2)\n",
      "B=\n",
      " [[ 0  1]\n",
      " [ 4  5]\n",
      " [ 8  9]\n",
      " [12 13]]\n",
      "C=\n",
      " [[ 2  3]\n",
      " [ 6  7]\n",
      " [10 11]\n",
      " [14 15]]\n",
      "\n",
      "After np.vsplit(A,2)\n",
      "B=\n",
      " [[0 1 2 3]\n",
      " [4 5 6 7]]\n",
      "C=\n",
      " [[0 1 2 3]\n",
      " [4 5 6 7]]\n"
     ]
    }
   ],
   "source": [
    "# Splitting Arrays\n",
    "\n",
    "A=np.arange(16).reshape(4,4)\n",
    "print(\"A=\\n\",A)\n",
    "# array([[ 0,  1,  2,  3],\n",
    "#        [ 4,  5,  6,  7],\n",
    "#        [ 8,  9, 10, 11],\n",
    "#        [12, 13, 14, 15]])\n",
    "\n",
    "[B,C]=np.hsplit(A,2)\n",
    "print(\"\\nAfter np.hsplit(A,2)\")\n",
    "print(\"B=\\n\",B)\n",
    "# array([[ 0,  1],\n",
    "#        [ 4,  5],\n",
    "#        [ 8,  9],\n",
    "#        [12, 13]])\n",
    "print(\"C=\\n\",C)\n",
    "# array([[ 2,  3],\n",
    "#        [ 6,  7],\n",
    "#        [10, 11],\n",
    "#        [14, 15]])\n",
    "\n",
    "print(\"\\nAfter np.vsplit(A,2)\")\n",
    "[B,C]=np.vsplit(A,2)\n",
    "print(\"B=\\n\",B)\n",
    "# array([[0, 1, 2, 3],\n",
    "#        [4, 5, 6, 7]])\n",
    "print(\"C=\\n\",B)\n",
    "# array([[ 8,  9, 10, 11],\n",
    "#        [12, 13, 14, 15]])"
   ]
  },
  {
   "cell_type": "code",
   "execution_count": 261,
   "id": "878a9c5a-3115-4681-bc7c-2a35e8ae0176",
   "metadata": {},
   "outputs": [
    {
     "name": "stdout",
     "output_type": "stream",
     "text": [
      "[[ 0  1  2  3]\n",
      " [ 4  5  6  7]\n",
      " [ 8  9 10 11]\n",
      " [12 13 14 15]]\n",
      "A1=\n",
      " [[ 0]\n",
      " [ 4]\n",
      " [ 8]\n",
      " [12]]\n",
      "A2=\n",
      " [[ 1  2]\n",
      " [ 5  6]\n",
      " [ 9 10]\n",
      " [13 14]]\n",
      "A3=\n",
      " [[ 3]\n",
      " [ 7]\n",
      " [11]\n",
      " [15]]\n",
      "A1=\n",
      " [[0 1 2 3]]\n",
      "A2=\n",
      " [[ 4  5  6  7]\n",
      " [ 8  9 10 11]]\n",
      "A3=\n",
      " [[12 13 14 15]]\n"
     ]
    }
   ],
   "source": [
    "print(A)\n",
    "# split() function allows to split the array into nonsymmetrical parts\n",
    "\n",
    "#  splits the matrix A along columns (because axis=1).\n",
    "\n",
    "[A1,A2,A3] = np.split(A,[1,3],axis=1)\n",
    "\n",
    "The list [1, 3] indicates the split points:\n",
    "First split after the 1st column.\n",
    "Second split after the 3rd column\n",
    "\n",
    "print(\"A1=\\n\",A1)\n",
    "\n",
    "# array([[ 0],\n",
    "#        [ 4],\n",
    "#        [ 8],\n",
    "#        [12]])\n",
    "print(\"A2=\\n\",A2)\n",
    "# array([[ 1,  2],\n",
    "#        [ 5,  6],\n",
    "#        [ 9, 10],\n",
    "#        [13, 14]])\n",
    "print(\"A3=\\n\",A3)\n",
    "# array([[ 3],\n",
    "#        [ 7],\n",
    "#        [11],\n",
    "#        [15]])\n",
    "[A1,A2,A3] = np.split(A,[1,3],axis=0)\n",
    "print(\"A1=\\n\",A1)\n",
    "         # array([[0, 1, 2, 3]])\n",
    "print(\"A2=\\n\",A2)\n",
    "        # array([[ 4,  5,  6,  7],\n",
    "           #    [ 8,  9, 10, 11]])\n",
    "print(\"A3=\\n\",A3)     # array([[12, 13, 14, 15]])\n"
   ]
  },
  {
   "cell_type": "code",
   "execution_count": 263,
   "id": "24e00357-6861-4494-9118-91bcb7049635",
   "metadata": {},
   "outputs": [
    {
     "name": "stdout",
     "output_type": "stream",
     "text": [
      "a=\n",
      " [1 2 3 4]\n",
      "b=\n",
      " [1 5 3 4]\n",
      "c=\n",
      " [1 5 3 4]\n",
      "a=\n",
      " [ 1 78  3  4]\n",
      "c=\n",
      " [1 5 3 4]\n"
     ]
    }
   ],
   "source": [
    "#  General Concepts\n",
    "\n",
    "a=np.array([1,2,3,4])\n",
    "print(\"a=\\n\",a)\n",
    "b=a\n",
    "a[1]=5\n",
    "print(\"b=\\n\",b)  # array([1, 5, 3, 4])\n",
    "# to generate a complete copy and distinct array you can use the copy() function\n",
    "c=a.copy()\n",
    "print(\"c=\\n\",c)   # array([1, 5, 3, 4])\n",
    "a[1]=78\n",
    "print(\"a=\\n\",a) # array([ 1, 78,  3,  4])\n",
    "print(\"c=\\n\",c)   # array([1, 5, 3, 4])"
   ]
  },
  {
   "cell_type": "code",
   "execution_count": 271,
   "id": "80d94532-87e2-4122-8f55-92e88283a996",
   "metadata": {},
   "outputs": [
    {
     "name": "stdout",
     "output_type": "stream",
     "text": [
      "a=\n",
      " [[1 2 3 4]\n",
      " [1 2 3 4]]\n",
      "b=\n",
      " [[1 1 1 1]\n",
      " [2 2 2 2]]\n",
      "\n",
      "a*b=\n",
      " [[1 2 3 4]\n",
      " [2 4 6 8]]\n"
     ]
    }
   ],
   "source": [
    "# Vectorization\n",
    "# The vectorization is the absence of explicit loop during the developing of the code.\n",
    "\n",
    "# multiplication of two arrays:\n",
    "# c= a * b\n",
    "# In other languages\n",
    "# for (i = 0; i < rows; i++){\n",
    "# c[i] = a[i]*b[i];\n",
    "# }\n",
    "# or even two matrices:\n",
    "# C=A * B\n",
    "# In other languages, While the product of matrices would be expressed as follows:\n",
    "# for( i=0; i < rows; i++){\n",
    "# for(j=0; j < columns; j++){\n",
    "# c[i][j] = a[i][j]*b[i][j];\n",
    "# }\n",
    "# }\n",
    "\n",
    "\n",
    "a=np.array([[1,2,3,4],[1,2,3,4]])\n",
    "print(\"a=\\n\",a)  \n",
    "# array([[1, 2, 3, 4],\n",
    "#        [1, 2, 3, 4]])\n",
    "      \n",
    "b=np.array([[1,1,1,1],[2,2,2,2]])\n",
    "print(\"b=\\n\",b)  \n",
    "print(\"\\na*b=\\n\",a*b)  \n",
    "# array([[1, 2, 3, 4],\n",
    "#        [2, 4, 6, 8]])\n"
   ]
  },
  {
   "cell_type": "code",
   "execution_count": 255,
   "id": "9468bc2d-4e09-4440-9eff-4ca6870a03c9",
   "metadata": {},
   "outputs": [
    {
     "name": "stdout",
     "output_type": "stream",
     "text": [
      "A=\n",
      " [[ 0  1  2  3]\n",
      " [ 4  5  6  7]\n",
      " [ 8  9 10 11]\n",
      " [12 13 14 15]]\n",
      "B=\n",
      " [0 1 2 3] \n",
      "\n",
      "A+B=\n",
      " [[ 0  2  4  6]\n",
      " [ 4  6  8 10]\n",
      " [ 8 10 12 14]\n",
      " [12 14 16 18]]\n"
     ]
    }
   ],
   "source": [
    "# Broadcasting is the operation that allows an operator or a function to act on two or more \n",
    "# arrays to operate even if these arrays do not have exactly the same shape.\n",
    "# Two arrays may be subjected to broadcasting when all their dimensions are compatible, i.e., the length of each\n",
    "# dimension must be equal between the two arrays or one of them must be equal to 1. \n",
    "# If these\u000b",
    "two conditions are not met, you get an exception given that the two arrays are not compatible\n",
    "\n",
    "A=np.arange(16).reshape((4,4))\n",
    "print(\"A=\\n\",A)   # 2D array\n",
    "\n",
    "# array([[ 0,  1,  2,  3],\n",
    "#        [ 4,  5,  6,  7],\n",
    "#        [ 8,  9, 10, 11],\n",
    "#        [12, 13, 14, 15]])\n",
    "\n",
    "B=np.arange(4)   # 1D array\n",
    "print(\"B=\\n\",B,\"\\n\")   # array([0, 1, 2, 3])   \n",
    "\n",
    "print(\"A+B=\\n\" ,A+B)\n",
    "# array([[ 0,  2,  4,  6],\n",
    "#        [ 4,  6,  8, 10],\n",
    "#        [ 8, 10, 12, 14],\n",
    "#        [12, 14, 16, 18]])"
   ]
  },
  {
   "cell_type": "code",
   "execution_count": 9,
   "id": "1d10d51d-e8e3-4c2b-841b-4ec9a212764f",
   "metadata": {},
   "outputs": [
    {
     "name": "stdout",
     "output_type": "stream",
     "text": [
      "struct1=\n",
      " [(1, b'first', 0.56, 1.+2.j) (2, b'second', 0.66, 3.+4.j)\n",
      " (3, b'third', 0.76, 5.+6.j)]\n"
     ]
    },
    {
     "data": {
      "text/plain": [
       "array([(1, b'first', 0.56, 1.+2.j), (2, b'second', 0.66, 3.+4.j),\n",
       "       (3, b'third', 0.76, 5.+6.j)],\n",
       "      dtype=[('f0', '<i2'), ('f1', 'S6'), ('f2', '<f4'), ('f3', '<c8')])"
      ]
     },
     "execution_count": 9,
     "metadata": {},
     "output_type": "execute_result"
    }
   ],
   "source": [
    "# Structured Arrays in Python (using NumPy)\n",
    "# allow you to create arrays that can hold different types of data in each field,\n",
    "# similar to a database table where each column can have a different data type.\n",
    "# This is useful when working with heterogeneous data (data of mixed types) like records or tables, \n",
    "# where each row may represent an entity with attributes of various types.\n",
    "\n",
    "# Bytes: b1  , int:  i1, i2, i4, i8, unsigned ints:  u1, u2, u4, u8, floats: f2, f4, f8, \n",
    "# complex:  c8, c16, fixed length strings: a<n>\n",
    "import numpy as np\n",
    "struct1= np.array([(1,'first',0.56,1+2j),(2,'second',0.66,3+4j),(3,'third',0.76,5+6j)],dtype=('i2,a6,f4,c8'))\n",
    "\n",
    "print(\"struct1=\\n\", struct1)\n",
    "                                                                                              \n",
    "# array([(1, b'first', 0.56, 1.+2.j), (2, b'second', 0.78, 3.+4.j)],\n",
    "#       dtype=[('f0', '<i2'), ('f1', 'S6'), ('f2', '<f4'), ('f3', '<c8')])\n",
    "# names are assigned automatically with an f field, can be specified with suitable names\n",
    "                                                                                              \n",
    "struct1\n"
   ]
  },
  {
   "cell_type": "code",
   "execution_count": 73,
   "id": "044bac3e-0934-4e28-9d66-2a6f70f0d765",
   "metadata": {},
   "outputs": [
    {
     "name": "stdout",
     "output_type": "stream",
     "text": [
      "struct1[1]=\n",
      " (2, b'second', 0.66, 3.+4.j)\n"
     ]
    },
    {
     "data": {
      "text/plain": [
       "array([1.+2.j, 3.+4.j, 5.+6.j], dtype=complex64)"
      ]
     },
     "execution_count": 73,
     "metadata": {},
     "output_type": "execute_result"
    }
   ],
   "source": [
    "print(\"struct1[1]=\\n\", struct1[1])  #  Display a record:     \n",
    "struct1['f3'] # Display a column: "
   ]
  },
  {
   "cell_type": "code",
   "execution_count": 65,
   "id": "b30b69cf-4253-4991-89b3-42b6f67fdc6c",
   "metadata": {},
   "outputs": [
    {
     "data": {
      "text/plain": [
       "array([(1, b'First', 0.5, 1.+2.j), (2, b'Second', 0.6, 2.-2.j),\n",
       "       (3, b'Third', 0.7, 1.+3.j)],\n",
       "      dtype=[('id', '<i2'), ('order', 'S6'), ('value', '<f4'), ('complex', '<c8')])"
      ]
     },
     "execution_count": 65,
     "metadata": {},
     "output_type": "execute_result"
    }
   ],
   "source": [
    "structured = np.array([(1,'First',0.50,1+2j),(2,'Second',0.6,2-2j),(3,'Third',0.7,1+3j)],\n",
    "dtype=[('id','i2'),('order','a6'),('value','f4'),('complex','c8')])\n",
    "structured "
   ]
  },
  {
   "cell_type": "code",
   "execution_count": 71,
   "id": "e1a4101e-52ae-43d6-88ed-8c436e459b56",
   "metadata": {},
   "outputs": [
    {
     "data": {
      "text/plain": [
       "array([0.5, 0.6, 0.7], dtype=float32)"
      ]
     },
     "execution_count": 71,
     "metadata": {},
     "output_type": "execute_result"
    }
   ],
   "source": [
    "structured['value'] "
   ]
  },
  {
   "cell_type": "code",
   "execution_count": 69,
   "id": "5a71681e-49bf-4016-822a-5ecb687db713",
   "metadata": {},
   "outputs": [
    {
     "data": {
      "text/plain": [
       "array([(1, b'First', 0.5, 1.+2.j), (2, b'Second', 0.6, 2.-2.j),\n",
       "       (3, b'Third', 0.7, 1.+3.j)],\n",
       "      dtype=[('id', '<i2'), ('order', 'S6'), ('value', '<f4'), ('complex', '<c8')])"
      ]
     },
     "execution_count": 69,
     "metadata": {},
     "output_type": "execute_result"
    }
   ],
   "source": [
    "structured"
   ]
  },
  {
   "cell_type": "code",
   "execution_count": 43,
   "id": "f9c1b4dd-8218-4437-8f9a-cb4d00603628",
   "metadata": {},
   "outputs": [
    {
     "name": "stdout",
     "output_type": "stream",
     "text": [
      "[[0.52511383 0.91381322 0.48423581]\n",
      " [0.94904987 0.71941215 0.15307693]\n",
      " [0.94409069 0.48108344 0.72419119]\n",
      " [0.62369894 0.18360464 0.43708171]]\n"
     ]
    },
    {
     "data": {
      "text/plain": [
       "array([[0.52511383, 0.91381322, 0.48423581],\n",
       "       [0.94904987, 0.71941215, 0.15307693],\n",
       "       [0.94409069, 0.48108344, 0.72419119],\n",
       "       [0.62369894, 0.18360464, 0.43708171]])"
      ]
     },
     "execution_count": 43,
     "metadata": {},
     "output_type": "execute_result"
    }
   ],
   "source": [
    "# Reading and Writing Array Data on Files\n",
    "data=np.random.rand(4,3)\n",
    "print(data)\n",
    "np.save('saved_data',data)\n",
    "loaded_data = np.load('saved_data.npy')\n",
    "loaded_data"
   ]
  },
  {
   "cell_type": "code",
   "execution_count": 13,
   "id": "3c00c267-3546-45da-bcbf-5b040a8bd905",
   "metadata": {},
   "outputs": [
    {
     "name": "stdout",
     "output_type": "stream",
     "text": [
      "data['id']= [1 2 3]\n",
      "data[0]= (1, 123, 1.4, 23)\n",
      "data[1]= (2, 110, 0.5, 18)\n",
      "data=\n"
     ]
    },
    {
     "data": {
      "text/plain": [
       "array([(1, 123, 1.4, 23), (2, 110, 0.5, 18), (3, 164, 2.1, 19)],\n",
       "      dtype=[('id', '<i2'), ('value1', '<i4'), ('value2', '<f4'), ('value3', '<i2')])"
      ]
     },
     "execution_count": 13,
     "metadata": {},
     "output_type": "execute_result"
    }
   ],
   "source": [
    "# Reading File with Tabular Data\n",
    "\n",
    "# sample.csv file contents\n",
    "\n",
    "# id,value1,value2,value3\n",
    "# 1,123,1.4,23\n",
    "# 2,110,9.5,18\n",
    "# 3,4,2.1,19\n",
    "\n",
    "# bytes b1   # int i1, i2, i4, i8  # unsigned ints u1, u2, u4, u8   # floats f2, f4, f8   # complex c8, c16  # fixed length strings a<n>\n",
    "\n",
    "data = np.genfromtxt('sample.csv', delimiter=',', names=True, dtype=('i2','i4','f4','i2'))\n",
    "# names=true\n",
    "print(\"data['id']=\",data['id'])   # display id column\n",
    "print(\"data[0]=\",data[0])    # display row 0\n",
    "print(\"data[1]=\",data[1])     # dipslay row 1\n",
    "print(\"data=\")\n",
    "data   # observe column names below the array along with their types"
   ]
  },
  {
   "cell_type": "code",
   "execution_count": 299,
   "id": "a12df1c6-1be9-4397-bafa-7c2a06092f27",
   "metadata": {},
   "outputs": [
    {
     "name": "stdout",
     "output_type": "stream",
     "text": [
      "data2.dtype= [('id', '<f8'), ('value1', '<f8'), ('value2', '<f8'), ('value3', '<f8')] \n",
      "\n"
     ]
    },
    {
     "data": {
      "text/plain": [
       "array([(1., 123., 1.4, 23.), (2., 110., nan, 18.), (3.,  nan, 2.1, 19.)],\n",
       "      dtype=[('id', '<f8'), ('value1', '<f8'), ('value2', '<f8'), ('value3', '<f8')])"
      ]
     },
     "execution_count": 299,
     "metadata": {},
     "output_type": "execute_result"
    }
   ],
   "source": [
    "# Observe some values are removed\n",
    "# sample2.csv file contents\n",
    "# id,value1,value2,value3\n",
    "# 1,123,1.4,23\n",
    "# 2,110,,18\n",
    "# 3,,2.1,19\n",
    "\n",
    "data2 = np.genfromtxt('sample2.csv', delimiter=',', names=True)\n",
    "print(\"data2.dtype=\",data2.dtype, \"\\n\")\n",
    "data2"
   ]
  },
  {
   "cell_type": "code",
   "execution_count": 261,
   "id": "e724fa61-9e62-4d2e-9763-6f6936227f87",
   "metadata": {},
   "outputs": [
    {
     "name": "stdout",
     "output_type": "stream",
     "text": [
      "data=\n",
      " (1, 2, 3, 4, 5.6, 6.7, 8, 9, 'str')\n"
     ]
    },
    {
     "data": {
      "text/plain": [
       "array(['1', '2', '3', '4', '5.6', '6.7', '8', '9', 'str'], dtype='<U32')"
      ]
     },
     "execution_count": 261,
     "metadata": {},
     "output_type": "execute_result"
    }
   ],
   "source": [
    "data=(1,2,3,4,5.6,6.7,8,9,'str')\n",
    "print(\"data=\\n\",data)\n",
    "# (1, 2, 3, 4, 5.6, 6.7, 8, 9, 'str')\n",
    "np.save('F1',data)\n",
    "F2=np.load('F1.npy')\n",
    "F2  #  array(['1', '2', '3', '4', '5.6', '6.7', '8', '9', 'str'], dtype='<U32')\n"
   ]
  },
  {
   "cell_type": "code",
   "execution_count": 183,
   "id": "152bb83d-469a-4fac-95c2-c876474953cd",
   "metadata": {},
   "outputs": [
    {
     "name": "stdout",
     "output_type": "stream",
     "text": [
      "(array([0.  , 0.25, 0.5 , 0.75, 1.  ]), 0.25)\n"
     ]
    }
   ],
   "source": [
    "# The np.linspace function in NumPy is used to generate evenly spaced numbers over a specified interval.\n",
    "# It is particularly useful for creating sequences of numbers when you know the start and end points and want to \n",
    "# specify the number of samples you need within that range.\n",
    "\n",
    "# Common Use Cases\n",
    "# Plotting Functions: Often used in generating x-values for plotting functions over a range.\n",
    "# Creating Grids: Useful for creating grids of points in numerical simulations.\n",
    "# Sampling: Handy for sampling points from a continuous function or distribution.\n",
    "\n",
    "# numpy.linspace(start, stop, num=50, endpoint=True, retstep=False, dtype=None, axis=0)\n",
    "# start: The starting value of the sequence.\n",
    "# stop: The end value of the sequence.\n",
    "# num (optional): The number of samples to generate. The default is 50.\n",
    "# endpoint (optional): If True (the default), stop is the last value in the sequence.\n",
    "                    #  If False, the sequence will end before stop.\n",
    "# retstep (optional): If True, return the step size along with the samples.\n",
    "# dtype (optional): The data type of the output array.\n",
    "# axis (optional): The axis in the result along which the linspace samples are stored. The default is 0.\n",
    "\n",
    "result = np.linspace(0, 1, num=5, retstep=True)\n",
    "print(result) #   (array([0.  , 0.25, 0.5 , 0.75, 1.  ]), 0.25) \n",
    "# start=0: The sequence starts at 0.\n",
    "# stop=1: The sequence ends at 1.\n",
    "# num=5: There are 5 samples generated between 0 and 1, inclusive.\n",
    "# Even Spacing: The numbers generated are evenly spaced within the interval [0, 1]. \n",
    "# The spacing, in this case, is 0.25."
   ]
  },
  {
   "cell_type": "code",
   "execution_count": 191,
   "id": "0d471388-2995-4119-a462-6d6f846b7090",
   "metadata": {},
   "outputs": [
    {
     "name": "stdout",
     "output_type": "stream",
     "text": [
      "Result: [0.   0.25 0.5  0.75 1.   1.25 1.5  1.75]\n",
      "Step size: 0.25\n"
     ]
    }
   ],
   "source": [
    "\n",
    "result, step = np.linspace(0, 2, num=8, endpoint=False, retstep=True) \n",
    "# default is True for endpoint ( indicates that stop(2) is the end value in the sequence)\n",
    "# if endpoint is False, the sequence will end before stop\n",
    "# retstep default value is False\n",
    "print(\"Result:\", result)\n",
    "print(\"Step size:\", step)\n"
   ]
  },
  {
   "cell_type": "code",
   "execution_count": 231,
   "id": "73544714-c2fe-4451-a744-96ee1bbcd78c",
   "metadata": {},
   "outputs": [
    {
     "name": "stdout",
     "output_type": "stream",
     "text": [
      "Total No. of elements= 6\n",
      "Each item size in bytes= 44\n",
      "<U11      str352\n"
     ]
    }
   ],
   "source": [
    "import numpy as np\n",
    "arr= np.array(((1,2,5),(1,2,\"5.6asdfgh67\"))) # max length is 11 chars , so size is 4*11=44\n",
    "print(\"Total No. of elements=\",arr.size)# Total No. of elements= 6\n",
    "print(\"Each item size in bytes=\",arr.itemsize)# Each item size in bytes= 44\n",
    "print(arr.dtype,\"    \", arr.dtype.name) # 352/8=44"
   ]
  },
  {
   "cell_type": "code",
   "execution_count": 47,
   "id": "a5051e99-7289-481a-a473-4545d94b63a7",
   "metadata": {},
   "outputs": [
    {
     "name": "stdout",
     "output_type": "stream",
     "text": [
      "[1.   3.14 1.  ]\n",
      "Data type of the array: float64\n"
     ]
    }
   ],
   "source": [
    "import numpy as np\n",
    "# Creating an array with an integer, a float, and a boolean\n",
    "mixed_array = np.array([1, 3.14, True])  # The boolean True is treated as 1.0 and False as 0.0 when upcast to floats.\n",
    "# bool to float conversion happens as there is le\n",
    "print(mixed_array)\n",
    "print(\"Data type of the array:\", mixed_array.dtype)\n"
   ]
  },
  {
   "cell_type": "code",
   "execution_count": 79,
   "id": "23e04fb4-714f-442f-8d6d-80189b7efe6d",
   "metadata": {},
   "outputs": [
    {
     "name": "stdout",
     "output_type": "stream",
     "text": [
      "Library Records:\n",
      "[(b'Introduction to Algorithms', b'9780262033848', b'Thomas H. Cormen', 2009, 5)\n",
      " (b'Clean Code', b'9780132350884', b'Robert C. Martin', 2008, 2)\n",
      " (b'Design Patterns', b'9780201633610', b'Erich Gamma', 1994, 3)\n",
      " (b'Artificial Intelligence', b'9780136042594', b'Stuart Russell', 2010, 4)\n",
      " (b'The Pragmatic Programmer', b'9780201616224', b'Andrew Hunt', 1999, 6)]\n",
      "\n",
      "Book Titles: [b'Introduction to Algorithms' b'Clean Code' b'Design Patterns'\n",
      " b'Artificial Intelligence' b'The Pragmatic Programmer']\n",
      "Authors: [b'Thomas H. Cormen' b'Robert C. Martin' b'Erich Gamma' b'Stuart Russell'\n",
      " b'Andrew Hunt']\n",
      "\n",
      "Books published after 2000:\n",
      "[(b'Introduction to Algorithms', b'9780262033848', b'Thomas H. Cormen', 2009, 5)\n",
      " (b'Clean Code', b'9780132350884', b'Robert C. Martin', 2008, 2)\n",
      " (b'Artificial Intelligence', b'9780136042594', b'Stuart Russell', 2010, 4)]\n",
      "\n",
      "Sorted by available copies:\n",
      "[(b'Clean Code', b'9780132350884', b'Robert C. Martin', 2008, 2)\n",
      " (b'Design Patterns', b'9780201633610', b'Erich Gamma', 1994, 3)\n",
      " (b'Artificial Intelligence', b'9780136042594', b'Stuart Russell', 2010, 4)\n",
      " (b'Introduction to Algorithms', b'9780262033848', b'Thomas H. Cormen', 2009, 5)\n",
      " (b'The Pragmatic Programmer', b'9780201616224', b'Andrew Hunt', 1999, 6)]\n",
      "\n",
      "Sorted by title:\n",
      "[(b'Artificial Intelligence', b'9780136042594', b'Stuart Russell', 2010, 4)\n",
      " (b'Clean Code', b'9780132350884', b'Robert C. Martin', 2008, 2)\n",
      " (b'Design Patterns', b'9780201633610', b'Erich Gamma', 1994, 3)\n",
      " (b'Introduction to Algorithms', b'9780262033848', b'Thomas H. Cormen', 2009, 5)\n",
      " (b'The Pragmatic Programmer', b'9780201616224', b'Andrew Hunt', 1999, 6)]\n"
     ]
    }
   ],
   "source": [
    "import numpy as np\n",
    "\n",
    "# Define the data types for each attribute\n",
    "book_dtype = [\n",
    "    ('title', 'S50'),        # Title of the book (up to 50 characters)\n",
    "    ('ISBN', 'S13'),         # ISBN number (13 characters)\n",
    "    ('author', 'S30'),       # Author of the book (up to 30 characters)\n",
    "    ('year', 'i4'),          # Year of publication (integer)\n",
    "    ('available_copies', 'i4')  # Number of available copies (integer)\n",
    "]\n",
    "\n",
    "# Create an array of library books\n",
    "library_records = np.array([\n",
    "    ('Introduction to Algorithms', '9780262033848', 'Thomas H. Cormen', 2009, 5),\n",
    "    ('Clean Code', '9780132350884', 'Robert C. Martin', 2008, 2),\n",
    "    ('Design Patterns', '9780201633610', 'Erich Gamma', 1994, 3),\n",
    "    ('Artificial Intelligence', '9780136042594', 'Stuart Russell', 2010, 4),\n",
    "    ('The Pragmatic Programmer', '9780201616224', 'Andrew Hunt', 1999, 6)\n",
    "], dtype=book_dtype)\n",
    "\n",
    "# Access and display the full records\n",
    "print(\"Library Records:\")\n",
    "print(library_records)\n",
    "\n",
    "# Access specific fields (e.g., Titles and Authors)\n",
    "print(\"\\nBook Titles:\", library_records['title'])\n",
    "print(\"Authors:\", library_records['author'])\n",
    "\n",
    "# Filter books published after 2000\n",
    "books_after_2000 = library_records[library_records['year'] > 2000]\n",
    "print(\"\\nBooks published after 2000:\")\n",
    "print(books_after_2000)\n",
    "\n",
    "# Sort by available copies\n",
    "sorted_by_copies = np.sort(library_records, order='available_copies')\n",
    "print(\"\\nSorted by available copies:\")\n",
    "print(sorted_by_copies)\n",
    "\n",
    "# Sort by title\n",
    "sorted_by_title = np.sort(library_records, order='title')\n",
    "print(\"\\nSorted by title:\")\n",
    "print(sorted_by_title)"
   ]
  },
  {
   "cell_type": "code",
   "execution_count": null,
   "id": "19959826-95fe-41e2-98ac-65b23e5aa8ad",
   "metadata": {},
   "outputs": [],
   "source": []
  }
 ],
 "metadata": {
  "kernelspec": {
   "display_name": "Python 3 (ipykernel)",
   "language": "python",
   "name": "python3"
  },
  "language_info": {
   "codemirror_mode": {
    "name": "ipython",
    "version": 3
   },
   "file_extension": ".py",
   "mimetype": "text/x-python",
   "name": "python",
   "nbconvert_exporter": "python",
   "pygments_lexer": "ipython3",
   "version": "3.12.4"
  }
 },
 "nbformat": 4,
 "nbformat_minor": 5
}
