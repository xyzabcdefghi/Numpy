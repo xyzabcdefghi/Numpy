{
  "nbformat": 4,
  "nbformat_minor": 0,
  "metadata": {
    "colab": {
      "provenance": [],
      "mount_file_id": "1F4D0JQsGolnty4gYubt3z8kNKX4uhiX9",
      "authorship_tag": "ABX9TyNtk8YD1Fu+t0rDRMr1whDG",
      "include_colab_link": true
    },
    "kernelspec": {
      "name": "python3",
      "display_name": "Python 3"
    },
    "language_info": {
      "name": "python"
    }
  },
  "cells": [
    {
      "cell_type": "markdown",
      "metadata": {
        "id": "view-in-github",
        "colab_type": "text"
      },
      "source": [
        "<a href=\"https://colab.research.google.com/github/xyzabcdefghi/Numpy/blob/main/Numpy_with_notes.ipynb\" target=\"_parent\"><img src=\"https://colab.research.google.com/assets/colab-badge.svg\" alt=\"Open In Colab\"/></a>"
      ]
    },
    {
      "cell_type": "code",
      "execution_count": 1,
      "metadata": {
        "colab": {
          "base_uri": "https://localhost:8080/"
        },
        "id": "tZHh0RE6guTN",
        "outputId": "aa34ff40-e3c0-4065-bb51-4c04013b4815"
      },
      "outputs": [
        {
          "output_type": "stream",
          "name": "stdout",
          "text": [
            "2.0.2\n"
          ]
        }
      ],
      "source": [
        "# find version of numpy\n",
        "import numpy as np  # np is an abbreviation of numpy\n",
        "print(np.__version__)\n",
        "# OR\n",
        "# np.version.version"
      ]
    },
    {
      "cell_type": "markdown",
      "source": [
        "Creating a 1D NumPy array using np.array() and exploring its basic properties using NumPy array (ndarray) attributes."
      ],
      "metadata": {
        "id": "afkVNBWV4xOq"
      }
    },
    {
      "cell_type": "code",
      "source": [
        "array_1d = np.array([1, 2, 3, 4, 5])\n",
        "print(array_1d)"
      ],
      "metadata": {
        "colab": {
          "base_uri": "https://localhost:8080/"
        },
        "id": "_4W_YkDbhp8W",
        "outputId": "60d802d7-ac50-40e9-8ae1-420a59cabd65"
      },
      "execution_count": 2,
      "outputs": [
        {
          "output_type": "stream",
          "name": "stdout",
          "text": [
            "[1 2 3 4 5]\n"
          ]
        }
      ]
    },
    {
      "cell_type": "markdown",
      "source": [
        "![image.png](data:image/png;base64,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)"
      ],
      "metadata": {
        "id": "yBaHt5ra5qM6"
      }
    },
    {
      "cell_type": "code",
      "source": [
        "array_1d.ndim"
      ],
      "metadata": {
        "colab": {
          "base_uri": "https://localhost:8080/"
        },
        "id": "1o_SP9eL46I7",
        "outputId": "3d893298-5b56-4eb6-ad99-4cbfa4f81299"
      },
      "execution_count": 3,
      "outputs": [
        {
          "output_type": "execute_result",
          "data": {
            "text/plain": [
              "1"
            ]
          },
          "metadata": {},
          "execution_count": 3
        }
      ]
    },
    {
      "cell_type": "code",
      "source": [
        "array_1d.shape"
      ],
      "metadata": {
        "colab": {
          "base_uri": "https://localhost:8080/"
        },
        "id": "Szf8dB3_53fn",
        "outputId": "ef8632f0-b2ec-41e3-8cf0-6d43e264def9"
      },
      "execution_count": 4,
      "outputs": [
        {
          "output_type": "execute_result",
          "data": {
            "text/plain": [
              "(5,)"
            ]
          },
          "metadata": {},
          "execution_count": 4
        }
      ]
    },
    {
      "cell_type": "code",
      "source": [
        "array_1d.size"
      ],
      "metadata": {
        "colab": {
          "base_uri": "https://localhost:8080/"
        },
        "id": "MgsovY6g59r3",
        "outputId": "43f50e1f-325a-4c6c-9af7-5bb782c8b9fb"
      },
      "execution_count": 5,
      "outputs": [
        {
          "output_type": "execute_result",
          "data": {
            "text/plain": [
              "5"
            ]
          },
          "metadata": {},
          "execution_count": 5
        }
      ]
    },
    {
      "cell_type": "code",
      "source": [
        "array_1d.dtype\n",
        "# That means each element is a 64-bit integer → 64 bits = 8 bytes (since 1 byte = 8 bits)."
      ],
      "metadata": {
        "colab": {
          "base_uri": "https://localhost:8080/"
        },
        "id": "R26O7W5h5_HQ",
        "outputId": "9f93c8e5-68ef-4e5f-d707-f9a56314db7f"
      },
      "execution_count": 6,
      "outputs": [
        {
          "output_type": "execute_result",
          "data": {
            "text/plain": [
              "dtype('int64')"
            ]
          },
          "metadata": {},
          "execution_count": 6
        }
      ]
    },
    {
      "cell_type": "code",
      "source": [
        "array_1d.dtype.name"
      ],
      "metadata": {
        "colab": {
          "base_uri": "https://localhost:8080/",
          "height": 35
        },
        "id": "3UPnCK97tbIJ",
        "outputId": "1c6acbe5-b1ed-4a67-9f34-b0986a5edd38"
      },
      "execution_count": 7,
      "outputs": [
        {
          "output_type": "execute_result",
          "data": {
            "text/plain": [
              "'int64'"
            ],
            "application/vnd.google.colaboratory.intrinsic+json": {
              "type": "string"
            }
          },
          "metadata": {},
          "execution_count": 7
        }
      ]
    },
    {
      "cell_type": "code",
      "source": [
        "array_1d.itemsize\n",
        "# That means each element is a 64-bit integer → 64 bits = 8 bytes (since 1 byte = 8 bits)."
      ],
      "metadata": {
        "colab": {
          "base_uri": "https://localhost:8080/"
        },
        "id": "QDA7VQYv6KEN",
        "outputId": "64e9ea3a-b32d-4fbd-e40f-ffa29587d315"
      },
      "execution_count": 8,
      "outputs": [
        {
          "output_type": "execute_result",
          "data": {
            "text/plain": [
              "8"
            ]
          },
          "metadata": {},
          "execution_count": 8
        }
      ]
    },
    {
      "cell_type": "markdown",
      "source": [
        "If you want to change it, you can manually set the data type like this:"
      ],
      "metadata": {
        "id": "pXB8xniV6up6"
      }
    },
    {
      "cell_type": "code",
      "source": [
        "array_1d = np.array([1, 2, 3], dtype='int32')\n",
        "print(array_1d.itemsize)  # Now it will be 4"
      ],
      "metadata": {
        "colab": {
          "base_uri": "https://localhost:8080/"
        },
        "id": "k1G6BMbJ6M86",
        "outputId": "26f89da8-cb19-4506-d133-42a79f36923f"
      },
      "execution_count": 9,
      "outputs": [
        {
          "output_type": "stream",
          "name": "stdout",
          "text": [
            "4\n"
          ]
        }
      ]
    },
    {
      "cell_type": "code",
      "source": [
        "type(array_1d)"
      ],
      "metadata": {
        "colab": {
          "base_uri": "https://localhost:8080/"
        },
        "id": "Q0tUQLmc8QDG",
        "outputId": "93c08d6a-770a-4d2a-ca82-af0e1f68d26c"
      },
      "execution_count": 10,
      "outputs": [
        {
          "output_type": "execute_result",
          "data": {
            "text/plain": [
              "numpy.ndarray"
            ]
          },
          "metadata": {},
          "execution_count": 10
        }
      ]
    },
    {
      "cell_type": "code",
      "source": [
        "array_2d = np.array([[1, 2, 3],\n",
        "                     [4, 5, 6]])\n",
        "print(array_2d)"
      ],
      "metadata": {
        "colab": {
          "base_uri": "https://localhost:8080/"
        },
        "id": "GMMneJxC6w23",
        "outputId": "3798b6c7-ac9c-490f-e747-16250b5330fb"
      },
      "execution_count": 11,
      "outputs": [
        {
          "output_type": "stream",
          "name": "stdout",
          "text": [
            "[[1 2 3]\n",
            " [4 5 6]]\n"
          ]
        }
      ]
    },
    {
      "cell_type": "code",
      "source": [
        "print(array_2d.ndim)   # 👉 2\n",
        "print(array_2d.shape)  # 👉 (2, 3) → 2 rows, 3 columns\n",
        "print(array_2d.size)   # 👉 6"
      ],
      "metadata": {
        "colab": {
          "base_uri": "https://localhost:8080/"
        },
        "id": "lKpMIeh87TbB",
        "outputId": "5f83cb62-255a-46e1-e72f-e1d32b0bea06"
      },
      "execution_count": 12,
      "outputs": [
        {
          "output_type": "stream",
          "name": "stdout",
          "text": [
            "2\n",
            "(2, 3)\n",
            "6\n"
          ]
        }
      ]
    },
    {
      "cell_type": "markdown",
      "source": [
        "Using the dtype Parameter with NumPy Arrays:"
      ],
      "metadata": {
        "id": "QdEw2fWj83tY"
      }
    },
    {
      "cell_type": "code",
      "source": [
        "np.array([5, 6, 7, 0, -7], dtype=bool)\n",
        "# You are forcing NumPy to store each element as a boolean (True or False) using dtype=bool\n",
        "      # 0 becomes False\n",
        "      # Any non-zero number becomes True (whether positive or negative)"
      ],
      "metadata": {
        "colab": {
          "base_uri": "https://localhost:8080/"
        },
        "id": "oWaEinBJ705N",
        "outputId": "b5d753e9-57be-4361-d361-3369a30d7b06"
      },
      "execution_count": 13,
      "outputs": [
        {
          "output_type": "execute_result",
          "data": {
            "text/plain": [
              "array([ True,  True,  True, False,  True])"
            ]
          },
          "metadata": {},
          "execution_count": 13
        }
      ]
    },
    {
      "cell_type": "markdown",
      "source": [
        "Intrinsic Array Creation with Built-in NumPy Functions:\n",
        "NumPy provides convenient functions to create arrays without manually specifying each value. These are especially useful for initialization or quick testing.\n",
        "\n",
        "📝 Note:\n",
        "All these arrays default to dtype=float64 unless you change it."
      ],
      "metadata": {
        "id": "Y9dZVsc9AuOf"
      }
    },
    {
      "cell_type": "code",
      "source": [
        "np.zeros((5))       # →  [0. 0. 0. 0. 0.]"
      ],
      "metadata": {
        "colab": {
          "base_uri": "https://localhost:8080/"
        },
        "id": "yxbonjxM964C",
        "outputId": "f15b56fc-217e-4dd6-d266-0142d4449906"
      },
      "execution_count": 14,
      "outputs": [
        {
          "output_type": "execute_result",
          "data": {
            "text/plain": [
              "array([0., 0., 0., 0., 0.])"
            ]
          },
          "metadata": {},
          "execution_count": 14
        }
      ]
    },
    {
      "cell_type": "code",
      "source": [
        "np.zeros((3, 3))    # →  3x3 matrix of 0s"
      ],
      "metadata": {
        "colab": {
          "base_uri": "https://localhost:8080/"
        },
        "id": "hFjg6yQy88Xf",
        "outputId": "7fa6f380-466f-4da9-f162-e836837a0c70"
      },
      "execution_count": 15,
      "outputs": [
        {
          "output_type": "execute_result",
          "data": {
            "text/plain": [
              "array([[0., 0., 0.],\n",
              "       [0., 0., 0.],\n",
              "       [0., 0., 0.]])"
            ]
          },
          "metadata": {},
          "execution_count": 15
        }
      ]
    },
    {
      "cell_type": "code",
      "source": [
        "np.ones((5))       # →  [1. 1. 1. 1. 1.]"
      ],
      "metadata": {
        "colab": {
          "base_uri": "https://localhost:8080/"
        },
        "id": "NJ4y8yfIBIRz",
        "outputId": "d1d0cc1b-8bc0-47f2-a85d-f3adb61957c8"
      },
      "execution_count": 16,
      "outputs": [
        {
          "output_type": "execute_result",
          "data": {
            "text/plain": [
              "array([1., 1., 1., 1., 1.])"
            ]
          },
          "metadata": {},
          "execution_count": 16
        }
      ]
    },
    {
      "cell_type": "code",
      "source": [
        "np.ones((2, 2))    # →  2x2 matrix of 1s"
      ],
      "metadata": {
        "colab": {
          "base_uri": "https://localhost:8080/"
        },
        "id": "_0PuA4IRBU0a",
        "outputId": "e6e64e1f-808c-4166-c024-ddda1c944bbe"
      },
      "execution_count": 17,
      "outputs": [
        {
          "output_type": "execute_result",
          "data": {
            "text/plain": [
              "array([[1., 1.],\n",
              "       [1., 1.]])"
            ]
          },
          "metadata": {},
          "execution_count": 17
        }
      ]
    },
    {
      "cell_type": "code",
      "source": [
        "# 🔹 np.arange(start, stop, step)\n",
        "arr = np.arange(2, 11, 2)\n",
        "print(\"Array from 2 to 10 with step 2:\", arr)"
      ],
      "metadata": {
        "colab": {
          "base_uri": "https://localhost:8080/"
        },
        "id": "MwiCfZDkBXWJ",
        "outputId": "400f3ad0-71ca-44de-8b0d-7cac3129cf0f"
      },
      "execution_count": 18,
      "outputs": [
        {
          "output_type": "stream",
          "name": "stdout",
          "text": [
            "Array from 2 to 10 with step 2: [ 2  4  6  8 10]\n"
          ]
        }
      ]
    },
    {
      "cell_type": "code",
      "source": [
        "# np.arange: Default-> start=0, step=1\n",
        "np.arange(10) # start:0; stop:10; step:1"
      ],
      "metadata": {
        "colab": {
          "base_uri": "https://localhost:8080/"
        },
        "id": "EEBMb2DNBwun",
        "outputId": "f8d859e9-f1ae-4c70-8f8e-58262558dc7a"
      },
      "execution_count": 19,
      "outputs": [
        {
          "output_type": "execute_result",
          "data": {
            "text/plain": [
              "array([0, 1, 2, 3, 4, 5, 6, 7, 8, 9])"
            ]
          },
          "metadata": {},
          "execution_count": 19
        }
      ]
    },
    {
      "cell_type": "code",
      "source": [
        "# Negative Step: Create a decreasing array from 10 to 0.\n",
        "np.arange(10, 0, -1)"
      ],
      "metadata": {
        "colab": {
          "base_uri": "https://localhost:8080/"
        },
        "id": "GE67wESsDzwO",
        "outputId": "8a1872fb-ae6f-41b6-a247-9c39ad2f60e8"
      },
      "execution_count": 20,
      "outputs": [
        {
          "output_type": "execute_result",
          "data": {
            "text/plain": [
              "array([10,  9,  8,  7,  6,  5,  4,  3,  2,  1])"
            ]
          },
          "metadata": {},
          "execution_count": 20
        }
      ]
    },
    {
      "cell_type": "code",
      "source": [
        "# np.random.rand(shape)\n",
        "np.random.rand(2, 3) # → 2 rows, 3 columns of random values\n",
        "# Returns random numbers from uniform distribution between 0 and 1"
      ],
      "metadata": {
        "colab": {
          "base_uri": "https://localhost:8080/"
        },
        "id": "ro6L6LsPCLmM",
        "outputId": "8bd0e707-b24f-4eb4-948d-e96655a1da0b"
      },
      "execution_count": 21,
      "outputs": [
        {
          "output_type": "execute_result",
          "data": {
            "text/plain": [
              "array([[0.97977516, 0.9249794 , 0.49947225],\n",
              "       [0.63475647, 0.6622475 , 0.27698394]])"
            ]
          },
          "metadata": {},
          "execution_count": 21
        }
      ]
    },
    {
      "cell_type": "code",
      "source": [
        "# 1D array with 5 evenly spaced numbers between 0 and 1\n",
        "np.linspace(0, 1, num=5)"
      ],
      "metadata": {
        "colab": {
          "base_uri": "https://localhost:8080/"
        },
        "id": "TIHCNPkLCYdU",
        "outputId": "9c1c0943-fd0b-4290-fb38-f6f1df504741"
      },
      "execution_count": 22,
      "outputs": [
        {
          "output_type": "execute_result",
          "data": {
            "text/plain": [
              "array([0.  , 0.25, 0.5 , 0.75, 1.  ])"
            ]
          },
          "metadata": {},
          "execution_count": 22
        }
      ]
    },
    {
      "cell_type": "code",
      "source": [
        "# np.linespace: Default num=50 if not given\n",
        "np.linspace(0, 25)\n",
        "# np.linspace(0, 25).size  # o/p: 50"
      ],
      "metadata": {
        "colab": {
          "base_uri": "https://localhost:8080/"
        },
        "id": "w4-7IzDACm1k",
        "outputId": "3f22ac94-53f5-423c-9b41-4d9d9694f6b4"
      },
      "execution_count": 23,
      "outputs": [
        {
          "output_type": "execute_result",
          "data": {
            "text/plain": [
              "array([ 0.        ,  0.51020408,  1.02040816,  1.53061224,  2.04081633,\n",
              "        2.55102041,  3.06122449,  3.57142857,  4.08163265,  4.59183673,\n",
              "        5.10204082,  5.6122449 ,  6.12244898,  6.63265306,  7.14285714,\n",
              "        7.65306122,  8.16326531,  8.67346939,  9.18367347,  9.69387755,\n",
              "       10.20408163, 10.71428571, 11.2244898 , 11.73469388, 12.24489796,\n",
              "       12.75510204, 13.26530612, 13.7755102 , 14.28571429, 14.79591837,\n",
              "       15.30612245, 15.81632653, 16.32653061, 16.83673469, 17.34693878,\n",
              "       17.85714286, 18.36734694, 18.87755102, 19.3877551 , 19.89795918,\n",
              "       20.40816327, 20.91836735, 21.42857143, 21.93877551, 22.44897959,\n",
              "       22.95918367, 23.46938776, 23.97959184, 24.48979592, 25.        ])"
            ]
          },
          "metadata": {},
          "execution_count": 23
        }
      ]
    },
    {
      "cell_type": "markdown",
      "source": [
        "In NumPy, when you pass a sequence of sequences (like a list of lists, list of tuples, tuple of lists, etc.) — as long as each inner sequence has the same length, NumPy will convert it into a 2D array."
      ],
      "metadata": {
        "id": "LJT4l9g9ET9O"
      }
    },
    {
      "cell_type": "code",
      "source": [
        "c = np.array([[1, 2, 3],[4, 5, 6]])       # list of lists\n",
        "d = np.array(((1, 2, 3),(4, 5, 6)))       # tuple of tuples\n",
        "e = np.array([(1, 2, 3), [4, 5, 6], (7, 8, 9)])  # mix of tuples and lists\n",
        "f = np.array(([1, 2, 3], [4, 5, 6], [7, 8, 9]))  # tuple of lists\n",
        "print(c)\n",
        "print('**********')\n",
        "print(d)\n",
        "print('**********')\n",
        "print(e)\n",
        "print('**********')\n",
        "print(f)"
      ],
      "metadata": {
        "colab": {
          "base_uri": "https://localhost:8080/"
        },
        "id": "yB2PeU0GCy3K",
        "outputId": "f5ddb064-16aa-4819-c047-dc98da667066"
      },
      "execution_count": 24,
      "outputs": [
        {
          "output_type": "stream",
          "name": "stdout",
          "text": [
            "[[1 2 3]\n",
            " [4 5 6]]\n",
            "**********\n",
            "[[1 2 3]\n",
            " [4 5 6]]\n",
            "**********\n",
            "[[1 2 3]\n",
            " [4 5 6]\n",
            " [7 8 9]]\n",
            "**********\n",
            "[[1 2 3]\n",
            " [4 5 6]\n",
            " [7 8 9]]\n"
          ]
        }
      ]
    },
    {
      "cell_type": "code",
      "source": [
        "# g = np.array([(1, 2), [3, 4, 5]])\n",
        "# print(g)\n",
        "                      # -> ERROR cuz:\n",
        "\n",
        "                      # NumPy tries to convert both into a proper rectangular array, but it can't — because:\n",
        "                          # The inner elements have different lengths\n",
        "                          # So it doesn’t know how to align the \"rows\"\n",
        "                      # Earlier versions would silently create an object array, but newer versions raise a ValueError unless you allow it."
      ],
      "metadata": {
        "id": "jTZiR3hqEo8s"
      },
      "execution_count": 25,
      "outputs": []
    },
    {
      "cell_type": "code",
      "source": [
        "# ✅ Solution (Force it to be a ragged array):\n",
        "g = np.array([(1, 2), [3, 4, 5]], dtype=object)\n",
        "print(g)\n",
        "# Now NumPy understands you're intentionally storing lists/tuples of different lengths, and treats them as generic Python objects"
      ],
      "metadata": {
        "colab": {
          "base_uri": "https://localhost:8080/"
        },
        "id": "zbCk8tNiEw_G",
        "outputId": "7dfd96b1-3a2f-4982-cb59-366dc2452d17"
      },
      "execution_count": 26,
      "outputs": [
        {
          "output_type": "stream",
          "name": "stdout",
          "text": [
            "[(1, 2) list([3, 4, 5])]\n"
          ]
        }
      ]
    },
    {
      "cell_type": "code",
      "source": [
        "g = np.array([['a', 'b'],['c', 'de']])\n",
        "g"
      ],
      "metadata": {
        "colab": {
          "base_uri": "https://localhost:8080/"
        },
        "id": "pYpU-cLTFjcH",
        "outputId": "37955fc7-50e7-40a7-f53c-8f4ab0d63ca1"
      },
      "execution_count": 27,
      "outputs": [
        {
          "output_type": "execute_result",
          "data": {
            "text/plain": [
              "array([['a', 'b'],\n",
              "       ['c', 'de']], dtype='<U2')"
            ]
          },
          "metadata": {},
          "execution_count": 27
        }
      ]
    },
    {
      "cell_type": "markdown",
      "source": [
        "NumPy automatically determines the data type (dtype) based on the longest string in the array.\n",
        "\n",
        "In the following case:\n",
        "\n",
        "- You gave strings: 'a', 'b', 'c', 'de'\n",
        "\n",
        "- The longest string is 'de' → 2 characters\n",
        "\n",
        "![image.png](data:image/png;base64,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)\n"
      ],
      "metadata": {
        "id": "c0ErVBkwGO1v"
      }
    },
    {
      "cell_type": "code",
      "source": [
        "# So, NumPy promotes the data type to:\n",
        "g.dtype"
      ],
      "metadata": {
        "colab": {
          "base_uri": "https://localhost:8080/"
        },
        "id": "pJLFW_EsF2Qd",
        "outputId": "240fa6e0-b8a2-43b7-c373-b9a4f03041e5"
      },
      "execution_count": 28,
      "outputs": [
        {
          "output_type": "execute_result",
          "data": {
            "text/plain": [
              "dtype('<U2')"
            ]
          },
          "metadata": {},
          "execution_count": 28
        }
      ]
    },
    {
      "cell_type": "code",
      "source": [
        "g.dtype.name"
      ],
      "metadata": {
        "colab": {
          "base_uri": "https://localhost:8080/",
          "height": 35
        },
        "id": "823SBYCnGbrV",
        "outputId": "0403b7e0-b559-45ee-bd47-c7c5fddbb0f1"
      },
      "execution_count": 29,
      "outputs": [
        {
          "output_type": "execute_result",
          "data": {
            "text/plain": [
              "'str64'"
            ],
            "application/vnd.google.colaboratory.intrinsic+json": {
              "type": "string"
            }
          },
          "metadata": {},
          "execution_count": 29
        }
      ]
    },
    {
      "cell_type": "markdown",
      "source": [
        "![image.png](data:image/png;base64,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)"
      ],
      "metadata": {
        "id": "08hjdgNgoGIo"
      }
    },
    {
      "cell_type": "code",
      "source": [
        "g = np.array([[\"hello\", \"world\"], [\"foo\", \"bar\"]])\n",
        "print(g)\n",
        "print()\n",
        "print(g.dtype)         # dtype('<U5') → Means it's a Unicode string (<U) with max 5 characters. Unicode characters in NumPy are 4 bytes each.\n",
        "print(g.dtype.itemsize) # 20 (bytes per element) -> 5×4 bytes\n",
        "print(g.dtype.name)    # 20 * 8 = 160 bits"
      ],
      "metadata": {
        "colab": {
          "base_uri": "https://localhost:8080/"
        },
        "id": "DgRbNuQAHMQn",
        "outputId": "0ab1b7ae-e43e-40bc-9a55-3f0ea85e2ba3"
      },
      "execution_count": 30,
      "outputs": [
        {
          "output_type": "stream",
          "name": "stdout",
          "text": [
            "[['hello' 'world']\n",
            " ['foo' 'bar']]\n",
            "\n",
            "<U5\n",
            "20\n",
            "str160\n"
          ]
        }
      ]
    },
    {
      "cell_type": "code",
      "source": [
        "f = np.array([[1, 2, 3], [4, 5, 6]], dtype=np.float16)\n",
        "f"
      ],
      "metadata": {
        "colab": {
          "base_uri": "https://localhost:8080/"
        },
        "id": "n5BVg9s_wy50",
        "outputId": "e691f6dd-8284-41d4-d67d-62e29d65313d"
      },
      "execution_count": 31,
      "outputs": [
        {
          "output_type": "execute_result",
          "data": {
            "text/plain": [
              "array([[1., 2., 3.],\n",
              "       [4., 5., 6.]], dtype=float16)"
            ]
          },
          "metadata": {},
          "execution_count": 31
        }
      ]
    },
    {
      "cell_type": "code",
      "source": [
        "f = np.array([[1, 2, 3], [4, 5, 6]], dtype=complex)\n",
        "# This creates a 2x3 NumPy array of complex numbers:\n",
        "f"
      ],
      "metadata": {
        "colab": {
          "base_uri": "https://localhost:8080/"
        },
        "id": "2QDyrbM5xx4U",
        "outputId": "2479bfc8-6f40-43a5-c199-56176a4a36fa"
      },
      "execution_count": 32,
      "outputs": [
        {
          "output_type": "execute_result",
          "data": {
            "text/plain": [
              "array([[1.+0.j, 2.+0.j, 3.+0.j],\n",
              "       [4.+0.j, 5.+0.j, 6.+0.j]])"
            ]
          },
          "metadata": {},
          "execution_count": 32
        }
      ]
    },
    {
      "cell_type": "code",
      "source": [
        "np.arange(4,16,1).reshape(3,4)\n",
        "# np.arange(4, 16, 1) -> Creates an array from 4 (inclusive) to 16 (exclusive), with step 1 =? [4,5,...,15]\n",
        "# .reshape(3, 4) -> Reshapes the flat array into 3 rows and 4 columns (i.e., 3x4 matrix)"
      ],
      "metadata": {
        "colab": {
          "base_uri": "https://localhost:8080/"
        },
        "id": "8vcEjcfSx0q8",
        "outputId": "bec81aec-bdba-40f8-988d-21eb5cdbac2a"
      },
      "execution_count": 33,
      "outputs": [
        {
          "output_type": "execute_result",
          "data": {
            "text/plain": [
              "array([[ 4,  5,  6,  7],\n",
              "       [ 8,  9, 10, 11],\n",
              "       [12, 13, 14, 15]])"
            ]
          },
          "metadata": {},
          "execution_count": 33
        }
      ]
    },
    {
      "cell_type": "code",
      "source": [
        "a=np.arange(1,6)\n",
        "print(\"a=\", a)\n",
        "# sum of an array with a scalar ( element-wise sum)\n",
        "print(\"a+2=\", a+2)"
      ],
      "metadata": {
        "colab": {
          "base_uri": "https://localhost:8080/"
        },
        "id": "8Gfo8f2tyeAX",
        "outputId": "9cb6a66d-78aa-40fe-9381-00a401093637"
      },
      "execution_count": 34,
      "outputs": [
        {
          "output_type": "stream",
          "name": "stdout",
          "text": [
            "a= [1 2 3 4 5]\n",
            "a+2= [3 4 5 6 7]\n"
          ]
        }
      ]
    },
    {
      "cell_type": "code",
      "source": [
        "a = np.arange(1, 6)\n",
        "print(\"a =\", a)\n",
        "# sum of an array with a scalar (element-wise sum)\n",
        "print(\"a + 2 =\", a + 2)"
      ],
      "metadata": {
        "colab": {
          "base_uri": "https://localhost:8080/"
        },
        "id": "9ZSxpEfeyqqu",
        "outputId": "937a161b-b31f-4478-d794-2e8a64041a5f"
      },
      "execution_count": 35,
      "outputs": [
        {
          "output_type": "stream",
          "name": "stdout",
          "text": [
            "a = [1 2 3 4 5]\n",
            "a + 2 = [3 4 5 6 7]\n"
          ]
        }
      ]
    },
    {
      "cell_type": "code",
      "source": [
        "print(\"a =\", a)\n",
        "# product of an array with a scalar (element-wise product)\n",
        "print(\"a * 2 =\", a * 2)"
      ],
      "metadata": {
        "colab": {
          "base_uri": "https://localhost:8080/"
        },
        "id": "UCrmCovPzE18",
        "outputId": "29396a07-a019-4e52-b1d1-85bdf10ca8c1"
      },
      "execution_count": 36,
      "outputs": [
        {
          "output_type": "stream",
          "name": "stdout",
          "text": [
            "a = [1 2 3 4 5]\n",
            "a * 2 = [ 2  4  6  8 10]\n"
          ]
        }
      ]
    },
    {
      "cell_type": "code",
      "source": [
        "print(\"a =\", a)\n",
        "b = np.arange(2, 7)\n",
        "print(\"b =\", b)"
      ],
      "metadata": {
        "colab": {
          "base_uri": "https://localhost:8080/"
        },
        "id": "T0FPwSg2zH5J",
        "outputId": "07904659-1b52-4773-893a-528164a1fe60"
      },
      "execution_count": 37,
      "outputs": [
        {
          "output_type": "stream",
          "name": "stdout",
          "text": [
            "a = [1 2 3 4 5]\n",
            "b = [2 3 4 5 6]\n"
          ]
        }
      ]
    },
    {
      "cell_type": "code",
      "source": [
        "# element-wise sum and subtraction\n",
        "print(\"a + b =\", a + b)\n",
        "print(\"a - b =\", a - b)"
      ],
      "metadata": {
        "colab": {
          "base_uri": "https://localhost:8080/"
        },
        "id": "-bt_nYm6zKHl",
        "outputId": "2459d8ed-9e75-4f7d-e4ab-910f7963d406"
      },
      "execution_count": 38,
      "outputs": [
        {
          "output_type": "stream",
          "name": "stdout",
          "text": [
            "a + b = [ 3  5  7  9 11]\n",
            "a - b = [-1 -1 -1 -1 -1]\n"
          ]
        }
      ]
    },
    {
      "cell_type": "code",
      "source": [
        "print(\"Dot product:\", np.dot(a, b))\n",
        "# Dot product = 1*2 + 2*3 + 3*4 + 4*5 + 5*6 = 70"
      ],
      "metadata": {
        "colab": {
          "base_uri": "https://localhost:8080/"
        },
        "id": "4jU11LuFzLCB",
        "outputId": "da6dbb5f-b8bc-4e46-d542-f0b9936b7ddb"
      },
      "execution_count": 39,
      "outputs": [
        {
          "output_type": "stream",
          "name": "stdout",
          "text": [
            "Dot product: 70\n"
          ]
        }
      ]
    },
    {
      "cell_type": "code",
      "source": [
        "# Universal Functions (ufunc): a function operating of an array in an element-by-element fashion.\n",
        "print(\"a=\", a)\n",
        "a*np.sin(b)"
      ],
      "metadata": {
        "colab": {
          "base_uri": "https://localhost:8080/"
        },
        "id": "PzL9j8NYzshn",
        "outputId": "adf5cb4f-2b40-4f1a-a400-429427850028"
      },
      "execution_count": 40,
      "outputs": [
        {
          "output_type": "stream",
          "name": "stdout",
          "text": [
            "a= [1 2 3 4 5]\n"
          ]
        },
        {
          "output_type": "execute_result",
          "data": {
            "text/plain": [
              "array([ 0.90929743,  0.28224002, -2.27040749, -3.8356971 , -1.39707749])"
            ]
          },
          "metadata": {},
          "execution_count": 40
        }
      ]
    },
    {
      "cell_type": "code",
      "source": [
        "a*np.sqrt(b)"
      ],
      "metadata": {
        "colab": {
          "base_uri": "https://localhost:8080/"
        },
        "id": "iHqUN5qy0Bc3",
        "outputId": "158a7ca5-c002-4902-c003-c31d1713b5d5"
      },
      "execution_count": 41,
      "outputs": [
        {
          "output_type": "execute_result",
          "data": {
            "text/plain": [
              "array([ 1.41421356,  3.46410162,  6.        ,  8.94427191, 12.24744871])"
            ]
          },
          "metadata": {},
          "execution_count": 41
        }
      ]
    },
    {
      "cell_type": "markdown",
      "source": [
        "Matrix multiplication:\n",
        "A x B is possible only if:\n",
        "\n",
        "- A.shape = (m, n)\n",
        "- B.shape = (n, p)\n",
        "\n",
        "ie. No. of columns of A = No. of rows of B"
      ],
      "metadata": {
        "id": "Wc80967j2jKg"
      }
    },
    {
      "cell_type": "code",
      "source": [
        "A = np.array([[1, 2], [3, 4]])\n",
        "B = np.array([[5, 6], [7, 8]])\n",
        "\n",
        "print(\"Matrix product:\\n\", A @ B)  # or use np.matmul(A, B)\n",
        "# calculations:\n",
        "# A x B = [[1*5 + 2*7, 1*6 + 2*8],\n",
        "#         [3*5 + 4*7, 3*6 + 4*8]]"
      ],
      "metadata": {
        "colab": {
          "base_uri": "https://localhost:8080/"
        },
        "id": "FMlw6rDm0eyz",
        "outputId": "8ef0fa06-38ae-407f-a71b-c8fc776691f4"
      },
      "execution_count": 42,
      "outputs": [
        {
          "output_type": "stream",
          "name": "stdout",
          "text": [
            "Matrix product:\n",
            " [[19 22]\n",
            " [43 50]]\n"
          ]
        }
      ]
    },
    {
      "cell_type": "code",
      "source": [
        "A = np.array([[1, 2],\n",
        "              [3, 4]])\n",
        "\n",
        "B = np.array([[10, 20],\n",
        "              [30, 40]])\n",
        "A*B\n",
        "# = [[1*10, 2*20],\n",
        "#    [3*30, 4*40]]\n",
        "# Now doing A * B → this is element-wise multiplication {No broadcasting needed because shapes match: (2,2) × (2,2)}"
      ],
      "metadata": {
        "colab": {
          "base_uri": "https://localhost:8080/"
        },
        "id": "U30jW8Co65j8",
        "outputId": "555720a5-3e4d-4494-aa88-387cd1fe769a"
      },
      "execution_count": 43,
      "outputs": [
        {
          "output_type": "execute_result",
          "data": {
            "text/plain": [
              "array([[ 10,  40],\n",
              "       [ 90, 160]])"
            ]
          },
          "metadata": {},
          "execution_count": 43
        }
      ]
    },
    {
      "cell_type": "markdown",
      "source": [
        "Broadcasted Multiplication:\n",
        "\n",
        "Broadcasting in NumPy refers to the automatic expansion of arrays with different shapes so that element-wise operations (like addition, multiplication, etc.) can still be performed without explicitly reshaping or copying data."
      ],
      "metadata": {
        "id": "3b6m0_UK16lZ"
      }
    },
    {
      "cell_type": "code",
      "source": [
        "a = np.array([1, 2, 3])         # shape: (3,) -> treated as (1,3)\n",
        "B = np.array([[10], [20], [30]])  # shape: (3,1)\n",
        "\n",
        "# B gets broadcasted across columns:\n",
        "# [[10, 10, 10],\n",
        "#  [20, 20, 20],\n",
        "#  [30, 30, 30]]\n",
        "\n",
        "# a gets broadcasted across rows:\n",
        "# [[1, 2, 3],\n",
        "#  [1, 2, 3],\n",
        "#  [1, 2, 3]]\n",
        "\n",
        "print(\"Broadcasted multiplication:\\n\", a * B)"
      ],
      "metadata": {
        "colab": {
          "base_uri": "https://localhost:8080/"
        },
        "id": "sxwk24sd12aB",
        "outputId": "ec7b239e-c5a8-4458-c7a1-3a0f335c966a"
      },
      "execution_count": 44,
      "outputs": [
        {
          "output_type": "stream",
          "name": "stdout",
          "text": [
            "Broadcasted multiplication:\n",
            " [[10 20 30]\n",
            " [20 40 60]\n",
            " [30 60 90]]\n"
          ]
        }
      ]
    },
    {
      "cell_type": "markdown",
      "source": [
        "![image.png](data:image/png;base64,iVBORw0KGgoAAAANSUhEUgAAAuwAAACvCAIAAAApERxAAAAgAElEQVR4Ae29X2wcR57n2bN7uzfYG8wBvTfdD7OLm3i6e6inezq+HfjARS9wxwMXkKEC3DoaOq8GGkirGou6HlBw+1qCKY0b4tSYsmFZaoE22Kq2RPOPJdNmSZRrWTRNs2iLpSbpFP+oSFlFUnSyyKoiS8WszFPzd/7hp8iqUpGipCL5TTTakZERv/jF55eZ8a2ISOonynX8/Oc//7ebPf76r//aZQ8ZIAACIAACIAACILD1BH7iNvnnf/7nf/bf/+Rf/s2fbfR/P/nXP/npT3/qNogcEAABEAABEAABENhyAvlFzL/Z969+1vcXG/3ff/M//QuImC2PEAyCAAiAAAiAAAjkJbBtRIzf789ms/F43Ov15u3Jdsl84R3xeDwtLS3Ly8uO49y7d2/Pnj3lgK6ioqKpqWnfvn2lOOP1euPxeDab9fv9pZR/FmU26kNNTc3AwEA2m7Vtu6en51m4BJsgAAIgsNsIPD8RYxiGIw7LssbGxo4dO1Yi8a0a+8PhsPDCsSxrYmKidDdK9LZIsa3qSJEmil9qbm621o9YLHb79u0yEYXd3d2O48Tj8VJE1UYFRHEgm7u6IR88Hs/w8LDjOCsrK5OTk59//vnmGkUtEAABEAABSeCpRMz/9u3/2rf0X//ngf+RFp6KLyeRiHn48GFq/bAsy3GcpaWl+vp66VCh9FaN/SRiksnk6OhoLBZ7+PCh4ziJRKKurq5Q01ubv1UdyevVP/zDP4yMjNy9e7eINBkbG3McJxwO57XwojIDgcDa2trt27crKyuf6MMTBURlZWVbW9vCwsLvf//7QtZKYVWorlLqiT7IuocPH15eXtamjj744IPvv//+5s2bsiTSIAACIAACpRPYvIj5j8OVS1bi0a/n/2z8X6WLGB476+vrl5aWSh9Nt2rsJxFjGAYxOnDgwMLCguM4gUCgdGpPU3KrOpLXh0AgQPMZRUQMqcnn1t+8fj5l5hMFBBUoHtZSWBXx84k+yLo+n4+0u8/n43wKBD8RnI8ECIAACIBAiQQ2KWL+92jVSm7Fdmzf+N/x/t9SZmLkKzsSiTiOw3qiuMdbNfZrIqaysvLu3bu5XK65ubm4A1t1das6ktefUgZmiBhCVwqrvJApEyKmCBxcAgEQAIHnQ2AzIsY78p8e2n9ahTk68V9Ywfys7y82KmKi0ajjOJFIhCfn5U9nbZBwj/0nTpyYmZmxLMu27WQy2dHRUVFRoZSqq6szTXN1dfXMmTNuiFLEVFVVtba2rq2t3b9/n6YuuNHz58+PjY3Ztk0zFnv37v3yyy9XVlYcx7Ft2zTNixcvejwesn/q1KmJiQlambIsa3Jy8siRI9z0sWPHJicnyc94PP7RRx9pO5SPHTs2NjbG1Q3DqK6urqiouHLlyoMHD2jdLZPJhEKhqqoqMktV6JJlWX19feS53O6TSqXk736lFDGUZcLhMI3lhmFcvHgxnU7z1ul//ud/np2dpSYePnw4PDzMu245Fn6/f35+3rbtlZWVtra2ioqKrq4uopRIJM6fP88QZIKrNzU1maZJfrIbVNLj8Vy8eHFxcdG27Ww2+9VXX/X39/O8HYfpvffei0QixHZ+fv7EiRNKKTKldVM6UITVr3/966mpKQZbZL8U+8Cbi6uqqm7cuJFOpx3nsb1WdMuxP9lslnb4ck7pUl72AmkQAAEQAIENi5hfjr60Zq85jvP/TPqkgtmoiHnzzTfT6fTa2to777yzCRHT1NSUWT8Mw/juu+9SqZRt28FgsEQRI8ePycnJ/fv3063AI1MsFqMygUCgtrY2Ho/TrkzDMOLxuL1+fPbZZ1TLMIyVlRXDMEZHRxcXFx3HmZ6erqmpIWcSiT8tulEB0zQzmUwul5NaYXV1lQvE1g+v1+vz+ZLJpGmao6OjhmFkMhnu4KFDh2h0n5ubGx0dfWSKdE9vb+/9+/cdx1ldXTUMY2ho6JVXXpG3eH19fTQaTSaTjuPcv39/dHS0paWFhvz5+Xla3SPHrly5wqqLeuc4zg8//HDo0CEWQ+l0OpVKxWIx0zRt215bWxsbG8tkMuPj46lUijY8/epXv5IOUJpEjLl+OI6TV8SwA6ZpkgNEiWbyKEyWZSUSieXl5fHx8Uwmw+tojY2NhmFQee6mdKO6ujovK7qpSKR+99139AFXOp1uaGiQ1SnNtwqJmKqqqtHRUdu2KSjT09O2bS8uLh46dKilpWV8fHxt/RgfH49Gox0dHRyIH374YXR0tKury90EckAABEAABIoTeIKI+T9u/4ebiet/0/8z0iv/93e/tB3bcZwTsdc1BVOiiKGNvel0mj6QuX79Os1n0JBQ4kwMFV5eXuZNwadPn85kMgsLCyxHCnWbfhZrG3uXl5cbGxtZS9m2vbS09Nvf/paMDAwM0ABZW1tLOTTEJhKJw4cP06BOkoVUSzqdXl1dpZGP6k5PT+/du1cpVVFRQTMKpBVqamqmp6cdxxkeHuZZFmrC6/X+9re/5cmey5cvO44zMzNTXV1NImBubu7ll19WSnk8noMHD1ItUiSskChT+39tOYmq5HK5gYEB6sXx48cpQFeuXKG6LONu3LjBIiaXy7W1tSmlqqqqpqamHunaTCbT1NSklDp8+HAikbBtu6WlRWtdVr9z5w7P7pAbtLZYW1v74MED27Y//fRTIvB3f/d3tHVJihjHcaampojb2bNns9nsw4cPafrNfTu53dBYcaO9vb3UKOkSx3Fu377NgWA7moi5fPlyLpfr6+ujkh6P5/bt247jdHZ2KqWwJ4a5IQECIAACW0jgCSKmfaHVcZwvl3r/pv/nL438n5bzp0+K8iqYEkUMT4E8fPjw3Xff5Z64Rx1tkOA1CK/Xe+bMGVp8YWuUcC+gsH1OyOUkGoBHR0d57oTdoNFaKbVnz554PK5tmnn55Zfn5uY4s6amprW19bvvvkskErQSQd+h5K0rO9LQ0LC6uspiiJ2khM/nC4VCsVgsnU7b9p+0I6kTEhm2bd+5c+fUqVNyfNUGZs0gneYVMdKHlpYW27ZJMLEFt4paXFxk8URU7969S98WeTye8fFxKUnZDouYTCZz+vRpzpcihuIr7T+KVF9fn7acJEXS/v37FxYW+PMfjmOR/csaq7yNvv3229lsVvOEfNbuT/rmS7sh2WGIGA40EiAAAiCwhQSeIGL+/Zf/9sulXsdxvklG0rk/Lfb/v3ePu+dgKKfEPTEVFRUtLS20GEQ/3HkKRA572iAhx35KJxKJTz75pFUcLS0tPCNSiJEmYpRS586dsyyLBBA3+vbbb5MFzuGtD5TPUoBmKWzbTiQSt2/f7unpyWQyNJrmrevuSN6JE1rasCwrHo9//fXXQ0NDLGKUUufPn6dVKvo+nL3VBua8ENhzukpVxsfHWQxJPcEWirvtpqq1wnZYxPBMknSDZmJkW1yRmpAzMSxZ+P7hHCIvbye2wwmNVd5G84oPsqAFl/o7NDQk7sc/JWlCLq8dqiK3urNvSIAACIAACJRC4Aki5md9f/E3/T8PL/1X+onp3gcjBU2JIobcCgaDtm3Pzs7SGo171NF+W8sxhtJy8qCUrlIZ93CbV8SwZCHHeNKFjNBMjGVZ586d6+zsdBwnFovRugYNV1LEUDH2kJoj4UIdcf/Qp2+mHMf59NNPqaI24tIq0okTJwzDoMUv2n3iLsbtckKTF27JQjl5Z2JorkXGgsy6qWqtcOssYjTpJt0g+9riIH3L9qxFjBYLmonRPKG+5BUxPIEn+4vlJI0GTkEABEBgqwg8WcT8rO8v/t2XP/3U/OTV7/ZJyeJOb0jEeL1e2oVK2wh4AWJwcJCmBGjfCf+2lgPnwYMHaWcrb19QSr399tusPIrQ0YZb3vdw7969mpoabWQiO4X2xNC2TTLIMxnSbY/HQ2O5YRgkcbg5GsJ5H0ZfXx99WkUtsqS7fPmyXPOiWnV1da+++iqVrK2tnZ+fZ0okBbRJDo2GJi+keqCShfbE8M5iGQuqolF9NDWitSJ9cFfnT4poJubo0aPJZJL33Cil6uvraZvtRkUMAZStc1pjxbHgm4qDNTw8zNNUXF27VegvDss/3lhTU/Pxxx/THyAuMhPT19fHNpEAARAAARDYEIGSRIxbr+TN2ZCIUUq9//77a2tr2Wz27NmzSqmOjg766icej8disVQqlU6neXjWRj759Qp9ocOfQ5fyiTVt7J2cnKTvgXlHqjYyEUoyyB8Q0ddJlmXRAHnhwgX6kGd6enpqaoq2xLLbjY2N9OHM8vKyYRjLy8u0b4bnIS5fvkzbaNLptGEYsfXD6/XeunWLtsoahjE3N0d+Uq1AIJDNZicnJ0dHR+fm5mzbXlhYOHDgAE9y0Dcy4+PjtO9YuyE0eeEWMUqpmzdvciz466R79+7RtJkWC6XU1ooYj8fT29vLDkxOTq6urpqmyVtM3GHSclg+ZjKZQn/mn3ohWQUCAQqlaZr8ddLi4iLvH5cktRZ57zOFhqBxlPOKGIJmWVYsFhscHJTGkQYBEAABECiFwIsUMfwPytCfaamqqgqFQvQv5C0uLr7//vvyH/nTBk76OyL0cS/Ji6GhIfrUpRQRwxswLcuampr69a9/TbC0kYkJ7tu3b2hoiOSIZVkzMzOnTp2iqx6PJxgM0ifQ8/PzFy5cSKVSLGJo/wrNG1mWNTw8fP78ee3vxJw6dUr+RZZvvvmmurq6trb2zp079A3X8PBwR0cH74lpaGiYm5vjv+AyNjbGf5aGnMlms47jPPqEmb6I5l5QohQR4/F4zp8/T38D5tEfBEqn0z09PbzfSIvFlosYmnwKhUIEPJ1Ot7W1uTf2SsjuwNXV1c3Oztq2bVnW9evXNQi0HhcMBjVWp06doj8+RAqSbyp3dXeL+/btGx4e5r/3Mzc3d/78eZrCyStiamtrx8fHSatFo1F3E8gBARAAARAoTuD5iZjifuAqCBQhwDMr3d3dRYrhEgiAAAiAwK4iABGzq8K9XTv77rvv0uds8qvs7doZ+A0CIAACILBFBPKLmH/1v/zL/+4//+uN/u9f/A9/9tOf/nSLHIOZXU3g5s2bS0tL9EeQFxYWaM2Ft9zuajToPAiAAAiAwI8E8oiYv/zLv/xvN3v81V/91Y+W8V8Q2DyBjz76aHl5mf7En2VZDx48uHLlivyAa/OmURMEQAAEQGCnEMgjYnZK19APEAABEAABEACBnUwAImYnRxd9AwEQAAEQAIEdTAAiZgcHF10DARAAARAAgZ1MACJmJ0cXfQMBEAABEACBHUwAImYHBxddAwEQAAEQAIGdTAAiZidHF30DARAAARAAgR1MACJmBwcXXQMBEAABEACBnUwAImYnRxd9AwEQAAEQAIEdTAAiZgcHF10DARAAARAAgZ1MACJmJ0cXfQMBEAABEACBHUwAImYHBxddAwEQAAEQAIGdTAAiZidHF30DARAAARAAgR1MACJmBwcXXQMBEAABEACBnUwAImYnRxd9AwEQAAEQAIEdTAAiZgcHF10DARAAARAAgZ1MACJmJ0cXfQMBEAABEACBHUwAImYHBxddAwEQAAEQAIGdTAAiZidHF30DARAAARAAgR1MACJmBwcXXQMBEAABEACBnUzgqUSMsX48HzyBQCCVSvl8vuLN+f3+bDYbCASKF9uOV59P155nTLdjFOAzCJRIwOfzpVKpeDzu9XpLrKKUqqurSyQSs7OztbW1pdfikl6vNx6Pl/Kq5CrbPREKhXK53Mcff7y1HXn77bcXFxdt2x4bG9tayyVae0ahLBHXM2q9xL5vqNhjIsYwDO2Rcw+c1DfDMJRSz3PAg4hxx2JDkS6x8POMaYkuoVhxAjRYusetEh+Z4sblVboDnR+PbDbr9/tlAaQlgU2LGNM0Z2ZmNiR9uN1tNPawz0+ZuHnz5pb/cP3Vr361tLSUzWbD4fDVq1ef0sPNVX9GoSwR1zNqfXMoitd6TMS433rhcNhxHJIsZIieTJrqeJ4Dntu34h3bAVcl6ufWnc3FNBwOa/L3uTnsbmi33Sp0n2jPqVJqyzn4/f5UKsXCJRwOQ8fI26+xsfHBgwc3b96kzM2JGGlwE+ltMfZooDbUzerq6sHBwfn5+SfOym/IrFb47bffzmazkUhEy3+mp6+88sp3330Xi8VIv77YUBZv/flEgWlfunRpcXHx97//PefIxGMiRhs1qRumacofefLNuLkBTzZfelq2W3qtbV1SC8fz6cvmYgoR83yik7cVuk8ikYj2e3TLHxlNxND7IRwO5/VqF2YGAgHHcRgIREyhe0ADVahY3vzig2veKpvIfBoPN9EcVdFumOfT00LeFm+9+NVCNjedT5MphXaJPCZiyDOed/H5fKZpBoNB+fNLDnKUpgYcx5FaRynF+Y7jcPP0Yg0EAtlslqal+ZK7h4ZhUJlUKkVusPqmeNNV+XNQvmcpTS1SSX6/KKWkBeoId1zzRJaUbRGu8PrBfrKHhQiQV8FgMJvNEjFpnxnSU0RmCaDs2qO1PGpdFiC32SumJ+dI5IqAzOcuEwpuXfZXg0bVNTfi8XhPTw/3giDIU8MwOArsodaKdJKDUjya0n9mkkqlPv/8c3n30o0n5xLYPnfZcZy8ZKgJ6ZssxrcQDWOlR1nCIVxktlBD3FNO0P0TCATC4bC0JkVMIBCQ3nIVpZR0lZ9ipiENancgLyjLhsirQqJ23759w8PDDx8+dBzn4cOHNFFfUVHx8ccfJxIJe/2Yn59/7733yA650d/fH4lErPXjyy+/fPXVV4eHh+k0EolUVVXxnRmPxy9evJhIJBzHWVlZaWtr83g8SqlXX331m2++yWQyjuNYljU8PLx3716arHIc549//OPs7Kxt2/QuOnXqFJ1aljU5OXnkyBGllMfjuXLlCjlpWdbIyEh1dTWHgFDwjUf3AEGOx+OXLl0ilxKJRGNjI9fK2xDX8nq9lH7w4MEf//hHy7L4XmULR44cGRsbsyzLcZx0On327Fl6HlOp1IULF+bn523bXllZaWlpoSo1NTWhUCidThMH7h03mpeeUiqvq09kopRye8hPPeGit8EHH3xA3tq2vbi4eP78eXKYBpGvv/46kUhks9mBgQEeOPhelSMc3zChUCibzdq2PT4+zruLampq6EaybXtmZqa7u1uKTqaqeRhYP/LeJzMzMwz/xo0b2q3Y1ta2srJi2/b333//2muv8ens7GxdXR03Rwl+4ghLPB4/efIkbW/KG0ql1LFjxyYnJy3Lsm17dnb2xIkTmk0egxig3++XuJRSvPUnk8ncuHFjdnaWHvkiN5J8NWlRuHr16vj4uG3b2Wz26tWrr7322tTUFJ0Gg0F6GOl2yotOKfXee+/xnXDv3r1//Md/jMfj8slyC4bHRIx8h9ITHo/HfT5fPB6nW40HSIJFwZaX+DGTbzHqM7VNoeL3qfbalTGQG3TIAr9P6ZTHQrJJ9uV7VqslBzB6aNkCxZWdl24UaYvHb7ZjGAY7WYgAGWQCSqlgMMjDquw1Ockxk12jS+ywdJK9ooqyp9Kg1+uNRCLudXeKKVuWSwayOr21uReys7JYXmfIMRr1CbUMjewmVSdnikRTxktbRiELMkD82pKXZDepaxxHzfjg4CDpVOkbj2EyWNlslvkUirJk9cgIuyTzC0WKHePCmktSWxQXMewqWWAZpxmUoSnkrcxnDylRV1dnmqZt21NTU52dncPDw/Re6+3ttW3bNM2urq7+/v7M+tHU1MQiY3V1dWxsLBQKZTKZXC5nmmYsFrt+/XoqlbJtu6Ojg0XM6upqIpHo6ekhO5ZlNTc3k1CbnZ29fv16e3v7zMyM4zgDAwNs37IsljtNTU2ZTGZhYaGzs5MGwvv373u93ubmZsuy4vF4Z2dnT0/P+Pi49uycPXt2aGjIcZzx8fHW1taGhgaKy9raWiKRCIVCExMTtm0/ePCAxtRCDVEtunMo7TjO2NhYTU2NxrOmpmZ6ejqbzX711Vft7e0TExOXLl2ikFmWlUwm+/v7o9GoZVnpdPr48eNEKR6P9/X1tba2GoZh2/bExERlZSU1VIheIVefyCSvh25QSqmRkZHR0dH29nZizg7TmzmTybz77rskRtvb2xOJRCaT+eyzz1paWmpqauSoTGPB6upqLBbr7u5eXFzkWHs8nuHhYcdxTNPs7u6+c+cO6Q9+OTBezcOjR4+SWfd9kslk+vv7u7q66Mbu7e31eDwc9/n5+a6uroWFBcdxEomEaZrXr1+n24+wc4tKqaNHj3722WeZTCaRSHzyyScXLlz4+7//+3g8XiiU9fX1S0tLy8vLn68fqVQqkUi4tZEGkGUNvalOnTq1urpqWVY0Gu3p6Ukmk7lcToqYvK2/+uqrhaKQTqcj64dlWdlsNpFI0JObzWbX1tbeeecdpRTdTnnRkT+Li4td68f09PSbb7554cKF8fFxx3GGhoZaW1uPHj0quSmldBEj31M8zPAQJa/Si1u+pvmlSVM4PDBTSRqK5HDFrx5+9bNzWkPayMSOcXnOkRVp2GPj9HjTLcs9clvgHEqwZc7nHO0VL7tThIDmFZulBDOU1uiS7Jrbf85xe8WXpAWtXT6VKkobkMLhMIsb/gVPUeYmyA5Pt/j9ftM0WQTTqc/n4wSVl6HhunSJgWjcZBV2XqtCp+w2BeXRkjP1gmNELx2+T9zkNft8KnutcdO85SqU4E7RO4WpMpZSIsU2pf+yXdlKcRFTZLJKGtG80iS7uxfsISUGBgZs26YXPV86fvx4Op1eWFg4cOAAZX744Ye5XM4wDI/HQ4NHLBaj37idnZ2O47AO+MMf/mDbdjQa5ZBlMpnTp09LO3S1oqKCfwW+/vrr6XR6Zmamurqa7N+9e7eyslIpVVlZOTExkUgkDh8+TEboh/u5c+dCoZDjOF1dXWRHGuS+kDUeFCku7BLdsQ8fPjxz5kyRhqiWFDGPJk5ef/11boUThw8fXl5eNk3z0KFDNFdUUVFBreRyuQ8//JAySazQZIzH46moqCAL+/fvX1hYWFxcPHjwoOaqUoqiEI1Gi7j6RCZ5PWTtyKCIPPcrEonkcjlSnzQGy70p1EH5G8MtYqampuiGoceBYk1xn/3xsy+PxzM4OMg/abh1SmihzHufrK2tvf/++1T+8OHDiUQimUwePXqUYK6srPzmN79RSlG7PIQfPXo0mUwSdq1RGXp+9xYK5cDAAN9aSil6NDo7OzWbboASF6Fua2ujWm+88UY6nZYiplDrhaIwNDRED0gkEnEch7UaNdrd3U23UyF0LS0ttm1/++23dJfyUyZ91jqYR8SQc+FwmIDSm53frfKtLaUJ2eX3Hd06cgqIdx1yGaoiW5HOae9cKWLIQznk0FV67OV7Vqb5nqAnRxsp3X0hZ4q3xazYc84pQkDziupSkIgYP58aHFnR7T/HiH1gr2TUtIkWLsMJlmjuHKorw8rLQLIJOZ8XCAQMw+Bosp6gl4I0RW8Tcl7LJyCy+1o02VVKaPcYn/r9/lgsduHCBdM0fT4fe8XopB03Yb4qObCI17hp3lLdvFGWrTMfuiH5qeGm8ya0+4RnN7nj8gEhC7KK5qqsJZ87kq1yMp/7TpeIqibL2OHq6uqZmRn3eEyvrb6+Pi5JvpHxvGMJD2n0lLEk1b5nrqurS6fT8Xh8z549NTU1HR0dsVgsnU7T7++89mnQ1W4/Wsw9ceJEMpm0bTuRSFy9etU9L0Ks5KAoO0K9MwyDHpkiDclaMs18OOHxeL7++mvbtmml6eTJk/xc8DtE++VdUVFx6dKl8fHx5eVl4kAl3Q0xvX/6p39aXl7eHJO8HrpBKaVOnjx569Yt0zRXV1epLXrDu0cvekUU6qB2w8h+NTc353I5eadphRms20OtJIVvbm7u5Zdf5locXNkoy+uFhYX9+/fnDRBb0CoW6emePXu0RRaCJnUhmXUD5Bx+JHn+RrYo025Txa/yXceiigEWR3fgwIH5+XlaG+3t7d23b5+7acbFCX0mhkcgftdzGGhA4t9b9J6Vp/z6k+9lbokSXIZOKWyaIqF7SL4iKYduXMKnVZEDEv+s1N7OVPG5iRh+p2sENK+0G1fy0eDIiu4hlpnLblLTmsKgAoUGSG0wllF2N8pd05pgV0nB0JzHhQsX4vE4BY7jxRYokTe4dIltypLuh1beKlSSMdLuJW6Cu8PoqDz9P1+VmXLU5CeFlhU0bpq3RaLM/ni93lgsJucvi0eKHeMOUg7VIvL8rteAyyqaq/IO1GBqJdkBfjU/ekW4eyG9SqfT/Mak/E2IGA66DIdGWCnV0NCwurp69+7dX/7ylyMjIzRnHggEmpqaSNx4vV5+t5IzZGR+fv6NN97wiYO2v+zdu/fTTz+lET0ej/NOC+aQ15p8j2njXN6GZEdkmluRCY/Hc+rUKcMwaIfQlStXKPocdx5O6LmjvxEyMTHR2tra2Ng4Pz9PJd0NMb0333wzlUrldVUp9UQmbg/pppJqr7GxMZPJ0CJCU1MTTZCQwzzicq+Ld7BICLRLj6apLl++LN3gJtweanWLj8QaTO3U7T+3+8SSTIOMpNPpM2fOiPvUpy1xatGnhjQj8lZ5+eWX5+bmKMftJ1fk513WlVfd7TLA4uiUUlVVVYFAYGFhwbbtpaWl+vp6tzUmRok8IobeYtFoVAoUmi1PpVJSPWgvbn79UTBkSW6Vy1BOoZLaqhN1g5Fp7cqBVr5nZZq5s4iRLxcKmOwvO1ykLarFr1S5wlKoX7IMNaEBkaeaEdkdTTQQH+qR2yt3YW1w4s5Kku4A5bVDxbRL5EMwGKQ9VWRWnsq+yNbdDvBVrYq7m1xSMqRMwzAikQhLhHA4LE81zlK1s01KaN2Up9p9onmrueQ+NQyDJorcryGtsOZSXm9pdI9EIqykNSNUgJ7Q0l3VSmqe0I+cQr1QSkWjUdu2P/nkE1mRBkue5FdK/e53v2ZpjeYAACAASURBVLMs6/bt27ycxI8YvwrJglvEpNPpN954g65+8skntm0PDAxQfPl5p1p0qhmk36bZbPbs2bPSSaXUL37xC15IGhkZ4fUOWUyzprVL9zbNxBRpSNaSadkQpSsqKmjRRClFOuDRZsn6+nrtj93x6EKPDL9FaV2DTqmhvPSKuPpEJnk95FU8Dit7yOtf/C2IvES91nqhjXBFQkBxv3fvHs2iVVVV0ZQquyEJa3a0UzeTv/3bv/3hhx9oIVKLmnbq9p/bfWJJSSMajeZyOV4JYiNaQlahS5zj8XgMw+AFI6XU2bNn+XMTt59c8dGdXPyqFhQpCoujq6qqooUkj8fT09PjOE53d7fbmtbHPCKGfjenUikZXYoiPwBkRXtxyxelXC+XuxplmbzvX7JMjLT3DrdOtyO7JxWPfM/KNHOnWpoFCk9eEaOVlG2Rk/y8aT4XIqB5JU/pJuZukkHuprskO0xO0pik1ZL6xu/3B4NBIqwFgm8L7cGWvdBQ+Hy+wcHBQtY0pHTKAdVYKaV4wyzdaayA2WfZfS2a7DwltJL8CHHr7pvZvbGXC0vjEhrR4GLas6D5IE+1KNNTEI/Ho9GojLU7UryJR7pU6CEi4HwvUaNkn+DzfSt9c6tbrcs8zan5kLcXWhnatWfb9p07dzo7O0dGRmhj761bt7SNvel0uqGhgQPHWLSxhEJATwF1kLb9dnV18YbWN9544+DBg4uLi5Zl9fX1ff755z/88ANt0XXPxCil/vCHP1iWRbsOW1tbh4aGvvnmm0ebNkKh0J07d9rb2+l7t5WVFVq+kX08d+6cZVmpVOqLL75ob28nl/gOkSKmSEOylkzLhihNn1z09PTwLt1bt25RcDnucgCg8cO27eHh4c7Ozng8vra2RiWL0Cvi6hOZ5PVQKaWBoq+EZmdn29vbR0dHV1ZW+Oak25jfBrR75u7du7ZtG4bR29t7+PBhWUa7QyRA2mVMm9a7urru37+/tLS0uZkYpRRtatZ2p3722Wf8PHLcpQ/84pIB4sjSLiXLsiKRSCgU4q+T+ItX2VOSrTS/2Nra2tfXNzY25v4JJKtQQzKHekF7w/v7+1Op1OrqKvlW5EZ6YhTkXUeNyrgUQXfp0qX79+93rh+maVqWdeHCBd7xY5pmKBQ6d+4cE6NEHhGjPWxUTr4v2IT24pbvOzLCK6k83GplKMDyHmXj/Kql266jo0MGnvwh+1o+v2e1tzMZ5BeitEB7EdhJ9kH23d0WGYxEIrw8yTcuVZSbJ9i45hXHm75V074kp9jTI61VJHTkFe9N4YeEu6mJGN7TIKHJ/lJM2XOtmITmbpS/auH9ExxZqii9kvHVXiXca/5+zz2DpUVTdoHvPXaeWHHrdMoRobr0bBNP7ZI0zmTi8TiFvpTlpOJRJofZW6an3XLakhB7lfchIj7SJlPNrv+7HDyrqt1X2hMqT7WS7AAnpOTlTJk4ceIEfVpp23YymaTNm1VVVTdu3ODvfmdmZvhjUfnuc2sauqkoWARhdnb2s88+o+9a5+fnT506Ra1fvHgxmUzSRyKXLl3i3TOafZoJaGlp4e+9k8nktWvXlFIfffQReWjbtvwIXPauqqqKNgJblnXt2jVySb4TeDmpSEOylkzLhij9yiuvTE1N0daWTCYzNDS0d+9ed9zloNXQ0EDf0dD35zxnU5yex+PZHJO8HtKSgQS1d+9e+lCcxu/+/v4iIoamneiT9fn5+QMHDsgOagHVAB45coS++KXP7Ds6OrQ3D0PW7GinVEx+DJxIJK5cuUJzdVqj2qk7QNyoUqqlpYXu3omJiSKTalSFFgRt26Y/KPDll1/S/nRpUMKhfJnj8Xjow29+NPiWcPspKxaPAr/u+P2vASyEzu/386MnkdbW1vKX27yZmruZX8Tw5d2T0ARZKR2nMPPQWEoVlAGBvARKuf1oT0/e6mWSWUovnpGr2lDxjFrZqWZ3Jz36uooH2p0a3NL7RRtWpOwuve4LLAkR8yf49Axv9G6GiHmBN+5OarrE2y8ajcptv+VGoMRePCO3d+cwvFUwdyG9AwcOLCwsyK+Utwrm9rVD28hoO9o26sUuFTF+v5/+gASvv2xCfkLEbKMbvZxdlRuEy9nP4r692F7swmG4eDg2dHWX0BseHjYMo7Ozs6+vL5VKOY4zMjLiXoLZELptXfjMmTP379/v7e3t7OykhbZMJiP/qPS26N0uFTH00NKeA7mTY0Mxg4jZEC4UdhOgXR1y54q7TPnnlEMvdskw/Ixuhl1C74svvqBdw7Qlq6enJ+/f+3lGkMvQLG27oW1VlmVNT0/zNrIy9LaQS7tUxBTCgXwQAAEQAAEQAIHtQgAiZrtECn6CAAiAAAiAAAg8RgAi5jEcOAEBEAABEAABENguBCBitkuk4CcIgAAIgAAIgMBjBCBiHsOBExAAARAAARAAge1CACJmu0QKfoIACIAACIAACDxGACLmMRw4AQEQAAEQAAEQ2C4EIGK2S6TgJwiAAAiAAAiAwGMEIGIew4ETEAABEAABEACB7UIAIma7RAp+ggAIgAAIgAAIPEYAIuYxHDgBARAAARAAARDYLgQgYrZLpOAnCIAACIAACIDAYwSeIGICgYDjOOFwWClVV1eXSCRmZ2dra2sfs/G8Tl64A5vuKP0LeYFAYNMWnlHFp/83LP1+fyqV8vv9T/SQ7qVsNltK4SdaQwEQAAEQAAEQ2JiIMU1zZmbG6/W+EHB1dXUv1oFN9xoipnSts2nIqAgCIAACILDbCGxAxOw2NOXcX5/Pl0qlNjG1o029aKeb6HKJ6iQQCKRSKZ/PR02Ew+F4PP6i1PAmuokqIAACIAACZUgAIqYMg/JklyBinswIJUAABEAABHY6AV3E1NTUDAwMZLNZ27ZnZma6u7t5TwwNnPQDmtNtbW0rKyu2bX///fevvfYan87OztbV1RG9ioqKjo6OdDrtOE4mkwmFQlVVVUop2iTR398fCoWoxfHxcdpw4/F4rly5kkgkbNu2LGtkZKS6upobpV/wFRUVH3/8MZWxbXt+fv69996jFotYLhRQmpOIRCLxeNxZPwKBALXIp1yXClO+4zg0I+Ke1aDqgUBATlfQnEQgEMhms27LskXjx4Pblb3TWldKhcNhzjQMQ6ullKJVLS4TDofZZ8MwKF+bIOH8QntZZNeUUtJ/NsVGHMcx1w/2gcu4vUUOCIAACIAACBQn8JiI8Xg8w8PDNNJ0d3ffuXPHsqwiImZtbW1+fr6rq2thYcFxnEQiYZrm9evXZ2ZmHMeZmJiorKz0eDy9vb25XG5sbKy1tdUwjFwuFwqFWMSsrq7GYrHu7u7FxUXHcQYGBpRSzc3NlmXF4/HOzs6enp7x8XGv10sDJA17ZNa2bdM0u7q6+vv7M+tHU1NTccuFcNBwzkM1CQJ5yqsh5AarBFIGtPdZWyXhUznSk8DiwTscDmuWyRSLEm5Iek4+yOUkwzDYDvWFm5AVWbVQJp2yDiOz7ACJKCpJqsu9J1d2TfPKMAz2ActJMgpIgwAIgAAIbAmBx0TM66+/nk6nFxYWDhw4oJTyeDyDg4NFRMzKyspvfvMbpRRVXFtbe+edd5RSR48eTSaTi4uLBw8ePH78eDqdvn37tsfjUUrt379/Yf3Yv38/DedTU1M0MUNqYGZmprq6OhQKOY7T1dVFtSoqKjweD42RNC6SWXZVKfXhhx/mcjnDMDweTxHLhahpo7s2nMvhmaUJm+IcOaJLgzJfUwPFLUsZwc3xhAeLGGmfirlzKF96pZSiU6mTZF9M0+RdLFpFdkY29GhqR5qSlyBimBgSIAACIAACW0XgMRHT0tJi23ZfXx9bJzVAP82lhpBpHlMXFhb279/PQyNNDJBNXj6gBF2SxtkIaZQTJ04kk0nbthOJxNWrV2tqarQCblelS0Usc9e0hDZIS23BTZNoMAyD5yrIiN/v5/Ger8rMIsO5bIjrsm8liphAIMBzHlSXusMqhw1q3dROafqHTBFDLXBax2mJij+xlstGVJGnsiBiOARIgAAIgAAIbBWBx0SMNvbzukyJIobHURoapVIZHBz0iePQoUMVFRVac1KFKKX27t376aefLi8vO44Tj8dra2tlgbIVMawn5LTENhUxHNAid5vsmluEcUWIGEaBBAiAAAiAwFYReEzEnDlz5uHDh/fu3aOZD4/Hc/v27SLLSTzISXmhzcQ0NDSsrq7m/RN5RUTML37xC15IGhkZyeVyzc3NshW32d/97neWZdG6VRHLhcBpcxLUFs9kyFNecGFTMsfn85mmeeHChXg8ztXlSK8N59Ky3ETCGOUCDbcoa2nTIVRGtsi12CZPqGi9ljMxhSxIa1rTkoNWTOt1kZJaRZyCAAiAAAiAQCECj4mYmpqa6elpmvm4du3axMTE0tLSU4qYysrKkZER2izc1dXV2dk5OTn54YcfatM8vGRDwigUCt25c6e9vf3zzz9PpVIrKysnT56kkZsKeDyeW7duaRt70+l0Q0NDccskMtwbVLXhXFMJ8pTSrC3cf8guHA7H1g/+OyhSEGjDubQs9wgX39ireftInbg39rKHWuzlEpXbDssLusQ6VSlF02maNdk1zX+fzzc4OEjltV5rp5p605rAKQiAAAiAAAjkJfCYiFFKHTlyZGpqij5sHh4e7ujoeEoRo5Siz7YzmYzjOJZlzc3NPVFqfPTRR/RJtvx2msZ7Hlarqqpu3LhBxSzLmpmZOXHiBHWyyEwML/doOLThXGoLFlg8s0JXtW0fbFAby7XpCm381hqiumSZFqQKaRHqI39YRDqGKnLI2CWZ4CbkJ9ZcgEUMT9sUtylFDPWUPx3nDTEkK/njKWmZogkRw/yRAAEQAAEQKJ2ALmJKr7lNS4bXj+3ivJw12S4+w08QAAEQAAEQeD4Edp2IiUaj7rWk58N6o61okzQbrY7yIAACIAACILCzCew6EVPO4fT7/dFolDx0b0kpZ8/hGwiAAAiAAAg8fwIQMc+fecEW5VYb2l7NW4ML1sEFEAABEAABENitBCBidmvk0W8QAAEQAAEQ2OYEIGK2eQDhPgiAAAiAAAjsVgIQMbs18ug3CIAACIAACGxzAhAx2zyAcB8EQAAEQAAEdisBiJjdGnn0GwRAAARAAAS2OQGImG0eQLgPAiAAAiAAAruVAETMbo08+g0CIAACIAAC25wARMw2DyDcBwEQAAEQAIHdSgAiZrdGHv0GARAAARAAgW1OACJmmwcQ7oMACIAACIDAbiUAEbNbI49+gwAIgAAIgMA2JwARs80DCPdBAARAAARAYLcSePEiJhAIpFIpn8+nlAoEAtls1u/3v5BwGIYRj8fxby5uLXyv13v//v1kMllfX0//NDeHW2uI/v3LLQ+BvMG0FnEKAiAAAiCwrQk8JmIMw3Bcx7NWFXKMgYjZ1jdTXue9Xu/MzIxpmnV1dRAxeREhEwRAAARAYHMEHhMxbCIcDm/5D2I2riWkiNEu4XQ7EmhsbHzw4MHNmzfdzkPEuJkgBwRAAARAYNMEIGI2jQ4V8xMIBAKO44TDYfdliBg3E+SAAAiAAAhsmsCTRYzf70+lUrxPRVvxCYfDhmFQ8zR60XpU8YkcXrdKpVLBYJA3SchZGePHgww+aoiGQD6VfQ6Hw7wOFggE2J9UKkUO01W+JE3xehk1yGYLdYeczGtWKcVdcxyHm2ObSinpKo/05E8kEonH41zR7/dns1nynCFLU0opj8dz8eJF0zTt9SMejx84cEApdezYsbGxMcuyHMfJZDJDQ0N79+6luuTA1atXx8fHbdvOZrNXr1597bXXpqam6DQYDHo8Hna1ra1taGjIsizbtqempo4cOUJ2Pvjgg/n5eWp3cXHx/PnzWvdJykjhwul33313dnaWmguFQlVVVUopbU9MRUVFR0dHOp2mLnAxJkDWmCFV51O/32+aps/nKx4vqkWQ+aZlyxxNvkRByRtZdgwJEAABEACB50PgySKGX+jkEL3WaaiQl8LhMKsBGsxYmmg9kftnaUjgkpqI4eGc9QQNHm4hlXeMoVp8KRwOc0NSrwSDQZJoMrNId4qYlctwgfVD67vP5xscHKRMORwSSQlQake6mlfH3Lx507btVCrV19fX1dU1NTV1+PDh+vr6paUly7Ki0WhnZ+f9+/dt2x4dHSWtQCImnU5H1g/LsrLZbCKRGBsbC4VC2Wx2bW3tnXfeYRGztLQ0MTFx7do1sjM9PV1TU6OUGhkZGR0dbW9vp1rpdPr48eNnz54dGhpyHGd8fLy1tbWhoYGcJ/KUXltbW1pa+uqrr3p6elKplG3bwWBQEzEej6e3tzeXy42NjbW2thqGkcvlQqGQxlMD7jiODDeli8SLFAwrEr4zyU++/aQ8klHTnMEpCIAACIDAcybwZBFDgxmNoD6fzzTNWCwmT/1+vzYY8IDEwwP3So7NlCmFi0xLSaGN4nRKQopc4oki0k/knqZ12ElZnR2TFbkkX5U5hcxKC1yxSEK6oXWQTPGkAn23xQqMbR4/fjydTj/SK/X19ZyplBoYGLBt+5NPPqHMmpqae/fusUIiETM0NETTLZFIxHGciYmJyspKFi7d3d2cvn37NpUkO6urqw0NDUopKk9NRCKRXC7X3NxMrsrlJOqaFDG5XO7DDz+kiqdPn85kMjMzM9XV1QSZlAd1jZvev3//wvqxf/9+2VOebiFisViMZl8kwCLxkvOISim+Od3hkGpJOoA0CIAACIDACyRQkohhbeH3+2Ox2IULF3iinoYcOZZwZwzDkMMw5QcCAf6tzDk8PHNDmiCgQYWtyVP6ZcxrSXLxRVrTdBX9Oud2yROWTcW7U8QsOcNygVHIBA3V7DB1SvboUd/plMtQQvNWKdXc3JzL5SKRiLS/Z8+eeDyeTqfr6uo4n4QLaUqZZqXS2dlJhYkMeaWVVEr19fXZtt3S0qKUOnny5K1bt0zTXF1dJQ95nqy4iJEdefnll+fm5paXlw8fPixFTEtLi23bTyTA4tLr9dKdGY/HA4GAlLZF4sWrRdwQxU4LB1HS7ltmiwQIgAAIgMCLIlCSiOGhIrx+0Cs+EAiwTCk+6su+PQsRwz++ZUPu2QvuBRejQZrH1KcXMWSZdEBeKSNlgRwpZZpFjHseiz2XDfX19cn8zYkYbqu4iIlGo5ZlnTt3rrGxMZPJLC4udnV1NTU1DQ4O8uKLtMB9IcjUTQaulDp48ODi4uLCwsL+/fuliCEjg4ODPnEcOnSooqJCdpbFLslrr9dLkyvyNisuYlgZS7NaOCBiJBykQQAEQKB8CJQkYmioiEQisViMFm7C4bA8desDdw71WZvbp+GBRzU53rCk4IGQxxs5xhRqqBQRo03PcItumzJHOqlZ4LhKDwtlyjIyTeXZGa7uTjQ0NKyuri4sLNBmXi4QjUZzuVxbWxvlVFVVxWKxTCZz+vRpnnph1SJ1lbYYRJcGBwdpOenAgQMLCwu090XW8ng8NKVR4kzM2tra+++/T769//77a2trtJhFkGnCg7o2OztbW1vL/cqbIL0SiUTo9iA1w6fFb4NCi0TucBQqmdclZIIACIAACDwfAqWKGPplzDPqdMrig4ZGOffAeyS1btDwwHZo/YXtSH0gR3FtUNFODcNgC0op3qgrrUm14fV6I5EI/WVeqU5ki+6NvexzIbNKKZo5cKsuhqA1wcsuWo9YTLDU8Pv9tPuVTdGnScPDw47jpFKpnp6e69evx2Kxw4cPNzQ0pNNpubE3l8vdunVLfnPElqUc4XblctLa2lo0Gu3q6jJN03Ec0jTd3d2O48zOzra3t4+Ojq6srPBMzLlz5yzLSqVSX3zxRXt7O3WNAkRp27ZXV1f7149MJsOaRoqYysrKkZERx3FM0+zq6urs7JycnOSdNBIC1eJ7j07ZmeIihm4/Fse87dodDhYxVIXpSU+QBgEQAAEQeM4EShUxNDbI130qldK+l6HhkLYXaJdkr2iEoGLxeLyjo4MliNQHcrzXBhXtlCaKeFsDNy2taSKGvmSmKjwgyRZ5xsLdnUJmNTeYlew7D7GO49AH1VTM3SPWE+QAI5LWHm1SqaqqunHjBn2HbFnWoy6QODtx4sTMzAx9Yp1Op2/cuEGfJnG/uNdPFDHd3d389XVvby99mrR37176hNuyrEgk0t/fz7qhqqoqEolY68e1a9eoa1LEpFKpjo6ORCLhOM7y8nJLSwupK4LDYrGmpmZgYCCTyTiOY1nW3NwcbSjWCBB2rkWnEleReNFmXv6OnZWQOxwQMW7syAEBEACBF04gv4h54W7BgXIgoOmbcnAJPoAACIAACIAAE4CIYRRI6AQgYnQiOAcBEAABECgnAhAx5RSNMvMFIqbMAgJ3QAAEQAAEHiMAEfMYDpxIAhAxkgbSIAACIAAC5UYAIqbcIgJ/QAAEQAAEQAAESiIAEVMSJhQCARAAARAAARAoNwIQMeUWEfgDAiAAAiAAAiBQEgGImJIwoRAIgAAIgAAIgEC5EYCIKbeIwB8QAAEQAAEQAIGSCEDElIQJhUAABEAABEAABMqNAERMuUUE/oAACIAACIAACJREACKmJEwoBAIgAAIgAAIgUG4EIGLKLSLwBwRAAARAAARAoCQCEDElYUIhEAABEAABEACBciMAEVNuEYE/IAACIAACIAACJRGAiCkJEwqBAAiAAAiAAAiUGwGImHKLCPwBARAAARAAARAoiQBETEmYUAgEQAAEQAAEQKDcCEDElFtE4A8IgAAIgAAIgEBJBCBiSsKEQiAAAiAAAiAAAuVGoFxEjN/vT6VSfr+/3AC9QH/C4bDjOIFA4AX6gKZBAARAAARAoGwJbFjEBIPBZDIZDAY30SXDMBzXkc1m/esHRIyGFCJGA4JTEAABEAABEJAENiBi3nrrLdM0k+vH5kQMNxwOh+PxuNfr5RzMxDAKTkDEMAokQAAEQAAEQMBNoFQR09zcTPIFIsYN8RnlQMQ8I7AwCwIgAAIgsDMIbEDEmKbZ3Nw8Nze36eUkRlZoJiYQCKRSKVpxCofDXN7n83E+TeF4vd54PO4u495BIuumUimfz0dmjR8Px3HYDi940SIXOyATx44dm5yctCzLtu3Z2dkTJ07Q1ZqamoGBgWw2S/k3btxgy5oc8fv92WzWMAyq+MEHH8zPz9vrx+Li4vnz5ylfqyV9kGnZQek2IYpEIvF4HHtrJDGkQQAEQAAEdgaBUkUM9fbQoUPPTsRks1kWGYFAgMdjGqRZnRiGQTpGU0IkgFijcHiCwSDvF+a6SinSK2yWclhYSAfYlFKqvr5+aWlpeXn58/UjlUolEom6ujqPxzM8POw4jmma3d3dd+7csSyrRBEzMjIyOjra3t4eCoWy2Ww6nT5+/LhSqhQRQ3qIRVggEGC9QiKGMcpeIA0CIAACIAACO4BAeYkYlhRyoiUcDrO2UErx7hmfz2eaphQoPJYXCowUOlLQkFnTNFkDSQektYGBgUwmc/r0acrs7Ox0HOfR/7/++uvpdHp2dra2tlYp5fF4BgcHSxQxlZWV3EQkEsnlcs3NzSWKGJpO4upSilEXJDpZDGkQAAEQAAEQ2O4EykjEyK+TpIbgJR7+sIlnFwzDIOGiCRotKjSlQdV5skcb/mkOg5twL2kppfbs2UNLM+5iLS0ttm339fVx02SQ3NPmVLTlpJMnT966dcs0zdXVVbJMYk6rxZY5QZRY+VF+IBAotOLGFZEAARAAARAAgR1AYHuImEJTLDxgBwKBvFMOtBTFX0JpMzGyCpsqElQSDel0+syZMz5xeL1eKVnIgszR5IgUMY2NjZlMZnFxsaurq6mpieZvIGKKRAGXQAAEQAAEQIAIbIGIob8c8+2335bOVNvOIheJyIiciXEX5oa8Xm8sFvP7/YZhaBMSVEaqFqWUPNVmYniVio3nTUSj0Vwu19bWpl09c+bMw4cP7927V1NTQ8tJt2/f5uWky5cvO44TiUSo1uXLl3O5HEkoqW88Ho/cqSMvac3xqdYL93JSIf3HFpAAARAAARAAgW1K4GlFzEsvvTQ+Pp5MJufm5g4dOlQiBbcu0TSEFDHa3lWfzzc4OMgNhcPhaDQaj8d5Owtf0rQRzcoUWk6iFnnORik1ODjotkkTJ5ZlRaPR1tbWvr6+sbExr9dbU1MzPT1t2/b9+/evXbs2MTGxtLTEIub06dOZTCabzX61fmQyGdu2ScR0d3c7jjM7O9ve3j46OrqyssI7c6WIKTRRpMGR+5ElQ8kEaRAAARAAARDYGQSeVsQopZ71TAxpkWw2S/tFeEMMBUAbxd1RISngOE4qlQoGg4VEzKM5DBr1eb9LoTmMxsZG+iLacZyVlZUvv/ySduYeOXJkamrKtm3LsoaHhzs6OljEeDyetra2lZUV27bn5+c7Ozv5E+u9e/eOjY1Z60ckEunv788rYnj3j7uDRIDc5t5xdwr1wm0HOSAAAiAAAiCwvQhsTMSUYd+0KZzy8VDuiXlKr3jV7CntoDoIgAAIgAAI7CQC217EuFemyiQ8WyhifD7fo70v8l9pKJM+wg0QAAEQAAEQeIEEtreI0f4O3gvk6G56C0WM2zhyQAAEQAAEQAAEtrGIoQ95ynbPB0QMni4QAAEQAAEQeKYEtrGIeaZcYBwEQAAEQAAEQKDMCUDElHmA4B4IgAAIgAAIgEB+AhAx+bkgFwRAAARAAARAoMwJQMSUeYDgHgiAAAiAAAiAQH4CEDH5uSAXBEAABEAABECgzAlAxJR5gOAeCIAACIAACIBAfgIQMfm5IBcEQAAEQAAEQKDMCUDElHmA4B4IgAAIgAAIgEB+AhAx+bkgFwRAAARAAARAoMwJQMSUeYDgHgiAAAiAAAiAQH4CEDH5uSAXBEAABEAABECgzAlAxJR5gOAeCIAACIAACIBAfgK7UcR4vd54PO44jmEY+an8mGusHz+ewAefhAAABCJJREFUPcP/kktP9OcZegDTIAACIAACILDdCJQqYg4dOjQ3N5f88fj222+fpqf0Lzw7Px7P+V+iLl2alF7yaWgopTYqYjwez9mzZxcWFqB7npI8qoMACIAACGxfAiWJmJdeeml8fPxHAfP//3dzOoZG61Qq5fP5iJrP50ulUvF43Ov1PgeO5EAh2RQOh6Unz03EbKjjH330UTqdJgUIEbMhdCgMAiAAAiCwkwiUKmK+/fbbQ4cOUc+//fbbZDI5NzfHOaUTCYfDUsFQxeLConTjpZQs3ta2EDE3b96cmZnp6urKZrMQMaUEHWVAAARAAAR2JIGSRIzW8+bm5mQyaZrmW2+9pV0qfkqTLoFAwF0sEAiwuKH5j3A4TJMNnE+1ON9xnLym3MV4pPf7/dls9sdVrMeqk7jhSzQfswlP/H5/KpUKBoPUEDnPy2daX5iDJq0Mw2BPCvWR+sJdY1NIgAAIgAAIgMAuIbBhEcNLS+Pj4y+99NKGMNEA7/f73bXkJRrCacWHRncequVMCY3iecd4wzBYLpAFXiTS5ILmibT/aKvKJjwhr6g5astxHHnKfZFNS6+kD4H1Q5bkNEQMo0ACBEAABEBgdxLYmIhhBbOJaRillN/vN02Td8NI4j6fzzRN0jeGYbDmUErxJI0sQ3Xz7lmReoiKyRwpF6QDlJYCgkTMRj2RbZHz2WyWdRv3RWtaepW3U1p5gonlJDcW5IAACIAACOweAhsQMW+99ZZpmptbSCKg2gAvKctL2ijOAz/NPfA6CyXcExuBQEAqD/72h+ZspFyQDlDaLWKk/VI8kR2RCozsswWtaekVdVNKH60wnWImJi8WZIIACIAACOweAqWKGNoHk0wmN/dREgHd0J4YjgEP/EUmcrgw6YbnIGIKTSk9vYihvtA2miJSBiJGBh1pEAABEACBXUigJBHDfyQmGAy6GQWDwdLFjTbVQdbkPAQt4uSd/yiigaRXmoyglZdUKkVrOlpbsqJSSnOv0JxQEU+01lmBUUPaKbee16u8mVwFIoZRIAECIAACILA7CZQkYngaRv6pGNoWw7tkSvzimgZm3nWrlCJBIOdOCkkH0jeybjAY5O0mMn7ujb2sioorA01kbMKTpxcxg4ODtG2ouKsQMTLiSIMACIAACOxCAk8rYpRSG5qJIcTyM2n3l9JFpAPpGN4Ww9LEHTn5lbL803bFlQFd5e+JNuHJ04uYQp5rfYSI0YDgFARAAARAYLcRKEnE7DYo6C8IgAAIgAAIgED5E4CIKf8YwUMQAAEQAAEQAIE8BCBi8kBBFgiAAAiAAAiAQPkTgIgp/xjBQxAAARAAARAAgTwEIGLyQEEWCIAACIAACIBA+ROAiCn/GMFDEAABEAABEACBPAQgYvJAQRYIgAAIgAAIgED5E/j/AHRp9aW8CT+OAAAAAElFTkSuQmCC)\n",
        "\n",
        "![image.png](data:image/png;base64,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)\n",
        "\n",
        "![image.png](data:image/png;base64,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)\n",
        "\n",
        "![image.png](data:image/png;base64,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)\n",
        "\n",
        "![image.png](data:image/png;base64,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)\n",
        "\n"
      ],
      "metadata": {
        "id": "VHfuk1eg8CBq"
      }
    },
    {
      "cell_type": "code",
      "source": [
        "#  Aggregate functions: perform an operation on a set of values, an array  and produce a single result\n",
        "a = np.array([3.3, 4.5, 1.2, 5.7, 0.3])\n",
        "print(\"a=\",a)  #array([3.3, 4.5, 1.2, 5.7, 0.3])\n",
        "print(\"Sum=\",a.sum())  #   15.0\n",
        "print(\"Largest=\",a.max())  #  5.7\n",
        "print(\"Smallest=\",a.min()) #   0.3\n",
        "print(\"Mean=\",a.mean())  #   3.0\n",
        "print(\"Std deviation=\",a.std())   # 2.0079840636817816"
      ],
      "metadata": {
        "colab": {
          "base_uri": "https://localhost:8080/"
        },
        "id": "VP6kM_ga2ENE",
        "outputId": "a6562cf5-3ee6-44c4-d356-3d23f4da7530"
      },
      "execution_count": 45,
      "outputs": [
        {
          "output_type": "stream",
          "name": "stdout",
          "text": [
            "a= [3.3 4.5 1.2 5.7 0.3]\n",
            "Sum= 15.0\n",
            "Largest= 5.7\n",
            "Smallest= 0.3\n",
            "Mean= 3.0\n",
            "Std deviation= 2.0079840636817816\n"
          ]
        }
      ]
    },
    {
      "cell_type": "code",
      "source": [
        "B = np.arange(1, 5)  # [1, 2, 3, 4]\n",
        "print(B)\n",
        "print(np.sqrt(B))  # square root of each element → [1.0, 1.4142, 1.732, 2.0]\n",
        "print(np.sin(B))   # sin() of each element (in radians)\n",
        "print(np.log(B))   # natural log (base e) of each element → [0.0, 0.6931, 1.0986, 1.3863]"
      ],
      "metadata": {
        "colab": {
          "base_uri": "https://localhost:8080/"
        },
        "id": "cjG3CWj3QToj",
        "outputId": "14548309-1205-4b12-d4b8-31c5bf75f9b0"
      },
      "execution_count": 46,
      "outputs": [
        {
          "output_type": "stream",
          "name": "stdout",
          "text": [
            "[1 2 3 4]\n",
            "[1.         1.41421356 1.73205081 2.        ]\n",
            "[ 0.84147098  0.90929743  0.14112001 -0.7568025 ]\n",
            "[0.         0.69314718 1.09861229 1.38629436]\n"
          ]
        }
      ]
    },
    {
      "cell_type": "markdown",
      "source": [
        "Increment (+=) and decrement (-=) operators change the original array in-place."
      ],
      "metadata": {
        "id": "fFvfXeNORD_X"
      }
    },
    {
      "cell_type": "code",
      "source": [
        "a = np.arange(4)  # [0, 1, 2, 3]\n",
        "a += 1\n",
        "a"
      ],
      "metadata": {
        "colab": {
          "base_uri": "https://localhost:8080/"
        },
        "id": "GhmFGDbMQoF7",
        "outputId": "38d493cd-4914-4064-cc6e-5cd883f70831"
      },
      "execution_count": 47,
      "outputs": [
        {
          "output_type": "execute_result",
          "data": {
            "text/plain": [
              "array([1, 2, 3, 4])"
            ]
          },
          "metadata": {},
          "execution_count": 47
        }
      ]
    },
    {
      "cell_type": "code",
      "source": [
        "a = np.arange(4)  # [0, 1, 2, 3]\n",
        "a -= 1\n",
        "a"
      ],
      "metadata": {
        "colab": {
          "base_uri": "https://localhost:8080/"
        },
        "id": "ZjYB0P-3RGUK",
        "outputId": "59f6ddc9-a9ca-46c6-a203-7c69902b5adf"
      },
      "execution_count": 48,
      "outputs": [
        {
          "output_type": "execute_result",
          "data": {
            "text/plain": [
              "array([-1,  0,  1,  2])"
            ]
          },
          "metadata": {},
          "execution_count": 48
        }
      ]
    },
    {
      "cell_type": "markdown",
      "source": [
        "![image.png](data:image/png;base64,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)"
      ],
      "metadata": {
        "id": "-GbyIQVcRyae"
      }
    },
    {
      "cell_type": "code",
      "source": [
        "a = np.array([1, 2, 3])\n",
        "b = a           # b points to same array as a\n",
        "a += 1          # in-place addition\n",
        "\n",
        "print(\"a:\", a)  # [2, 3, 4]\n",
        "print(\"b:\", b)  # [2, 3, 4] — b is also affected\n",
        "# ✅ Because both a and b refer to the same memory, b also sees the change."
      ],
      "metadata": {
        "colab": {
          "base_uri": "https://localhost:8080/"
        },
        "id": "0iBemknLR4pC",
        "outputId": "047efeb8-4d23-4c49-e9cb-eab1812534ca"
      },
      "execution_count": 49,
      "outputs": [
        {
          "output_type": "stream",
          "name": "stdout",
          "text": [
            "a: [2 3 4]\n",
            "b: [2 3 4]\n"
          ]
        }
      ]
    },
    {
      "cell_type": "code",
      "source": [
        "a = np.array([1, 2, 3])\n",
        "b = a           # b points to same array\n",
        "a = a + 1       # new array is created, 'a' now points to that\n",
        "\n",
        "print(\"a:\", a)  # [2, 3, 4]\n",
        "print(\"b:\", b)  # [1, 2, 3] — b is not affected\n",
        "# ❌ Here, a now points to a new array, but b still points to the original one."
      ],
      "metadata": {
        "colab": {
          "base_uri": "https://localhost:8080/"
        },
        "id": "63hKr6cER_jU",
        "outputId": "eb4a638d-d279-4369-b42a-e11299294d78"
      },
      "execution_count": 50,
      "outputs": [
        {
          "output_type": "stream",
          "name": "stdout",
          "text": [
            "a: [2 3 4]\n",
            "b: [1 2 3]\n"
          ]
        }
      ]
    },
    {
      "cell_type": "markdown",
      "source": [
        "![image.png](data:image/png;base64,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)"
      ],
      "metadata": {
        "id": "ovaccgeMSm8e"
      }
    },
    {
      "cell_type": "markdown",
      "source": [
        "🔹 Mixed Data Types in Arrays:"
      ],
      "metadata": {
        "id": "xpkFDy0zed9v"
      }
    },
    {
      "cell_type": "code",
      "source": [
        "mixed_array = np.array([1, 3.14, 'hello'])\n",
        "mixed_array\n",
        "# Here:\n",
        "# 1 → integer\n",
        "# 3.14 → float\n",
        "# 'hello' → string\n",
        "\n",
        "# NumPy tries to upcast all elements to the most general type that can represent all of them.\n",
        "# So it upcasts all elements to strings because string is the only type that can represent all 3 safely.\n",
        "# 🚫 Downsides:\n",
        "      # Loss of numeric operations (you can’t compute .sum() or .mean() here)\n",
        "      # Wastes memory (strings are much heavier than numbers)"
      ],
      "metadata": {
        "id": "lgvLAR2_STnJ",
        "colab": {
          "base_uri": "https://localhost:8080/"
        },
        "outputId": "5d750274-d776-4f58-d3e5-28fe5fc97343"
      },
      "execution_count": 51,
      "outputs": [
        {
          "output_type": "execute_result",
          "data": {
            "text/plain": [
              "array(['1', '3.14', 'hello'], dtype='<U32')"
            ]
          },
          "metadata": {},
          "execution_count": 51
        }
      ]
    },
    {
      "cell_type": "markdown",
      "source": [
        "🔹 Indexing:"
      ],
      "metadata": {
        "id": "IYmAB-g5fAqb"
      }
    },
    {
      "cell_type": "code",
      "source": [
        "a = np.arange(10,16)  # array([10, 11, 12, 13, 14, 15])\n",
        "a"
      ],
      "metadata": {
        "colab": {
          "base_uri": "https://localhost:8080/"
        },
        "id": "-Z0Ac_n0eP_4",
        "outputId": "18abf3bf-d383-4981-a00b-6c0207b18da7"
      },
      "execution_count": 52,
      "outputs": [
        {
          "output_type": "execute_result",
          "data": {
            "text/plain": [
              "array([10, 11, 12, 13, 14, 15])"
            ]
          },
          "metadata": {},
          "execution_count": 52
        }
      ]
    },
    {
      "cell_type": "code",
      "source": [
        "a[3] # → 13 ... 4th element (indexing starts at 0)"
      ],
      "metadata": {
        "colab": {
          "base_uri": "https://localhost:8080/"
        },
        "id": "XzHag5PTfDMJ",
        "outputId": "483760ce-4718-4038-c9e0-8266f87890ba"
      },
      "execution_count": 53,
      "outputs": [
        {
          "output_type": "execute_result",
          "data": {
            "text/plain": [
              "np.int64(13)"
            ]
          },
          "metadata": {},
          "execution_count": 53
        }
      ]
    },
    {
      "cell_type": "code",
      "source": [
        "a[-3] # → 13 ... Counts from the end: [-1] = 15, [-2] = 14, [-3] = 13"
      ],
      "metadata": {
        "colab": {
          "base_uri": "https://localhost:8080/"
        },
        "id": "_RKu9yKDfI_0",
        "outputId": "cc9dc765-9d92-48bf-cba3-43d379977491"
      },
      "execution_count": 54,
      "outputs": [
        {
          "output_type": "execute_result",
          "data": {
            "text/plain": [
              "np.int64(13)"
            ]
          },
          "metadata": {},
          "execution_count": 54
        }
      ]
    },
    {
      "cell_type": "code",
      "source": [
        "a = np.arange(10,14).reshape(2,2)\n",
        "a"
      ],
      "metadata": {
        "colab": {
          "base_uri": "https://localhost:8080/"
        },
        "id": "iaiKBMZFfMaj",
        "outputId": "425d1f21-4b5d-4f15-afaf-629984752300"
      },
      "execution_count": 55,
      "outputs": [
        {
          "output_type": "execute_result",
          "data": {
            "text/plain": [
              "array([[10, 11],\n",
              "       [12, 13]])"
            ]
          },
          "metadata": {},
          "execution_count": 55
        }
      ]
    },
    {
      "cell_type": "code",
      "source": [
        "# 🔹 2D Array Indexing\n",
        "a[1, 0]"
      ],
      "metadata": {
        "colab": {
          "base_uri": "https://localhost:8080/"
        },
        "id": "k-S4X0xLfU2y",
        "outputId": "74c63019-e4d5-4b71-8d2d-28c63158fa49"
      },
      "execution_count": 56,
      "outputs": [
        {
          "output_type": "execute_result",
          "data": {
            "text/plain": [
              "np.int64(12)"
            ]
          },
          "metadata": {},
          "execution_count": 56
        }
      ]
    },
    {
      "cell_type": "code",
      "source": [
        "# OR\n",
        "a[1][0]"
      ],
      "metadata": {
        "colab": {
          "base_uri": "https://localhost:8080/"
        },
        "id": "hNAnuFWvfapJ",
        "outputId": "a583a8ee-170e-4dbe-e7b1-51200284db32"
      },
      "execution_count": 57,
      "outputs": [
        {
          "output_type": "execute_result",
          "data": {
            "text/plain": [
              "np.int64(12)"
            ]
          },
          "metadata": {},
          "execution_count": 57
        }
      ]
    },
    {
      "cell_type": "code",
      "source": [
        "# 🔹 Fancy Indexing (selecting multiple positions)\n",
        "a = np.arange(10,16)\n",
        "print(a)\n",
        "\n",
        "a[[1, 4, 5]]"
      ],
      "metadata": {
        "colab": {
          "base_uri": "https://localhost:8080/"
        },
        "id": "yaVe-Vd6feye",
        "outputId": "a794b2f6-b5ba-4d0f-96fe-1853541fedff"
      },
      "execution_count": 58,
      "outputs": [
        {
          "output_type": "stream",
          "name": "stdout",
          "text": [
            "[10 11 12 13 14 15]\n"
          ]
        },
        {
          "output_type": "execute_result",
          "data": {
            "text/plain": [
              "array([11, 14, 15])"
            ]
          },
          "metadata": {},
          "execution_count": 58
        }
      ]
    },
    {
      "cell_type": "markdown",
      "source": [
        "Slicing:"
      ],
      "metadata": {
        "id": "QGEektsRf3FX"
      }
    },
    {
      "cell_type": "code",
      "source": [
        "arr = np.arange(10,16)  # array([10, 11, 12, 13, 14, 15])\n",
        "arr[1:5]"
      ],
      "metadata": {
        "colab": {
          "base_uri": "https://localhost:8080/"
        },
        "id": "rKV3Jp3BfsZe",
        "outputId": "421a104d-184f-4f59-fb68-aeba05341f21"
      },
      "execution_count": 59,
      "outputs": [
        {
          "output_type": "execute_result",
          "data": {
            "text/plain": [
              "array([11, 12, 13, 14])"
            ]
          },
          "metadata": {},
          "execution_count": 59
        }
      ]
    },
    {
      "cell_type": "code",
      "source": [
        "# 🧩 Slicing with Step: arr[start : stop : step] -> step is excluded ie till step-1\n",
        "print('arr:',arr)\n",
        "print('****************')\n",
        "\n",
        "print(arr[1:5:2])  # start at 1, skip every 2nd element\n",
        "\n",
        "# start = 1 → Start from index 1 (which is 20)\n",
        "# stop = 5 → Go up to index 5 (but not including index 5, so go only till index 4)\n",
        "# step = 2 → Take every 2nd element\n",
        "\n",
        "print(arr[1:5:2])  # start at 1, skip every 2nd element\n",
        "print(arr[:5:2])   # start at 0, go to 5, step 2\n",
        "print(arr[:5:])    # default step is 1\n",
        "print(arr[::2])    # whole array, step 2"
      ],
      "metadata": {
        "colab": {
          "base_uri": "https://localhost:8080/"
        },
        "id": "Se00j1x7f5OU",
        "outputId": "254474d3-bdb0-4987-df65-04f2471b71c5"
      },
      "execution_count": 60,
      "outputs": [
        {
          "output_type": "stream",
          "name": "stdout",
          "text": [
            "arr: [10 11 12 13 14 15]\n",
            "****************\n",
            "[11 13]\n",
            "[11 13]\n",
            "[10 12 14]\n",
            "[10 11 12 13 14]\n",
            "[10 12 14]\n"
          ]
        }
      ]
    },
    {
      "cell_type": "markdown",
      "source": [
        " Slicing a 2D NumPy array:"
      ],
      "metadata": {
        "id": "YXevMBcPlPRF"
      }
    },
    {
      "cell_type": "code",
      "source": [
        "A = np.arange(10, 19).reshape(3, 3)\n",
        "A"
      ],
      "metadata": {
        "colab": {
          "base_uri": "https://localhost:8080/"
        },
        "id": "OkT-TEunf8WJ",
        "outputId": "be8a6279-4ae5-450e-dd26-1fd00aeab9d9"
      },
      "execution_count": 61,
      "outputs": [
        {
          "output_type": "execute_result",
          "data": {
            "text/plain": [
              "array([[10, 11, 12],\n",
              "       [13, 14, 15],\n",
              "       [16, 17, 18]])"
            ]
          },
          "metadata": {},
          "execution_count": 61
        }
      ]
    },
    {
      "cell_type": "code",
      "source": [
        "A[1, :] # → Access full row at index 1\n",
        "# 1 → row index 1 → [13, 14, 15]\n",
        "# : → all columns in that row"
      ],
      "metadata": {
        "colab": {
          "base_uri": "https://localhost:8080/"
        },
        "id": "Qj270wjFldl1",
        "outputId": "d4458fb1-b437-4514-9dc6-5084569a433b"
      },
      "execution_count": 62,
      "outputs": [
        {
          "output_type": "execute_result",
          "data": {
            "text/plain": [
              "array([13, 14, 15])"
            ]
          },
          "metadata": {},
          "execution_count": 62
        }
      ]
    },
    {
      "cell_type": "code",
      "source": [
        "A[0:1, 1:2] # → Row slice 0 to 1; Column slice 1 to 2\n",
        "# So you're getting the element at [0,1] but as a 2D array."
      ],
      "metadata": {
        "colab": {
          "base_uri": "https://localhost:8080/"
        },
        "id": "TusLaTT0lpM5",
        "outputId": "fea53081-e0d7-483e-a47f-733c7279be8a"
      },
      "execution_count": 63,
      "outputs": [
        {
          "output_type": "execute_result",
          "data": {
            "text/plain": [
              "array([[11]])"
            ]
          },
          "metadata": {},
          "execution_count": 63
        }
      ]
    },
    {
      "cell_type": "code",
      "source": [
        "A[0:2, 1:2] # → Rows 0 and 1, Column 1"
      ],
      "metadata": {
        "colab": {
          "base_uri": "https://localhost:8080/"
        },
        "id": "v7nHFsD5l5JK",
        "outputId": "4ca6ea8a-3bcb-4aa5-b4d4-e179246fa47f"
      },
      "execution_count": 64,
      "outputs": [
        {
          "output_type": "execute_result",
          "data": {
            "text/plain": [
              "array([[11],\n",
              "       [14]])"
            ]
          },
          "metadata": {},
          "execution_count": 64
        }
      ]
    },
    {
      "cell_type": "code",
      "source": [
        "A[[0,2], 1:2] # → Specific rows (0 and 2), Column"
      ],
      "metadata": {
        "colab": {
          "base_uri": "https://localhost:8080/"
        },
        "id": "4Ej9o66UmFFo",
        "outputId": "3fcc819f-6f05-42e0-ed87-0f120c0fd8b3"
      },
      "execution_count": 65,
      "outputs": [
        {
          "output_type": "execute_result",
          "data": {
            "text/plain": [
              "array([[11],\n",
              "       [17]])"
            ]
          },
          "metadata": {},
          "execution_count": 65
        }
      ]
    },
    {
      "cell_type": "markdown",
      "source": [
        "Iterating:"
      ],
      "metadata": {
        "id": "yRUT0j2omgqM"
      }
    },
    {
      "cell_type": "code",
      "source": [
        "A = np.arange(10, 19).reshape(3, 3)\n",
        "print(A)"
      ],
      "metadata": {
        "colab": {
          "base_uri": "https://localhost:8080/"
        },
        "id": "qmQErwwEmQkC",
        "outputId": "42df03a9-406b-447d-8b6a-12c8aedf169d"
      },
      "execution_count": 66,
      "outputs": [
        {
          "output_type": "stream",
          "name": "stdout",
          "text": [
            "[[10 11 12]\n",
            " [13 14 15]\n",
            " [16 17 18]]\n"
          ]
        }
      ]
    },
    {
      "cell_type": "code",
      "source": [
        "# 🔹 Row-by-row iteration:\n",
        "for row in A:\n",
        "    print(row) # Each row is itself a 1D NumPy array:\n",
        "    print()"
      ],
      "metadata": {
        "colab": {
          "base_uri": "https://localhost:8080/"
        },
        "id": "5DUdUEhVmigY",
        "outputId": "28b59378-4c52-4dc5-bccb-a4e4cc22aa06"
      },
      "execution_count": 67,
      "outputs": [
        {
          "output_type": "stream",
          "name": "stdout",
          "text": [
            "[10 11 12]\n",
            "\n",
            "[13 14 15]\n",
            "\n",
            "[16 17 18]\n",
            "\n"
          ]
        }
      ]
    },
    {
      "cell_type": "code",
      "source": [
        "# Element-by-element iteration:\n",
        "for item in A.flat:\n",
        "    print(item, end=\" \")\n",
        "# A.flat:\n",
        "    # It doesn't create a new array (which saves memory).\n",
        "    # But you can use it like a 1D array when iterating."
      ],
      "metadata": {
        "colab": {
          "base_uri": "https://localhost:8080/"
        },
        "id": "iLm3twqNmo8z",
        "outputId": "c993532d-5e9b-4d82-8bff-41684e6020dc"
      },
      "execution_count": 68,
      "outputs": [
        {
          "output_type": "stream",
          "name": "stdout",
          "text": [
            "10 11 12 13 14 15 16 17 18 "
          ]
        }
      ]
    },
    {
      "cell_type": "code",
      "source": [
        "A.flatten()  # returns a new 1D array"
      ],
      "metadata": {
        "colab": {
          "base_uri": "https://localhost:8080/"
        },
        "id": "hRj2iu8Yn6pD",
        "outputId": "66b143af-047a-45f7-b8f5-e084494b7b48"
      },
      "execution_count": 69,
      "outputs": [
        {
          "output_type": "execute_result",
          "data": {
            "text/plain": [
              "array([10, 11, 12, 13, 14, 15, 16, 17, 18])"
            ]
          },
          "metadata": {},
          "execution_count": 69
        }
      ]
    },
    {
      "cell_type": "code",
      "source": [
        "# Can also use flatten to iterate:\n",
        "for item in A.flatten():\n",
        "    print(item, end=\" \")"
      ],
      "metadata": {
        "colab": {
          "base_uri": "https://localhost:8080/"
        },
        "id": "HkdjDuGem-C-",
        "outputId": "0277e4dd-ee89-45e6-e6b7-35b6a6788585"
      },
      "execution_count": 70,
      "outputs": [
        {
          "output_type": "stream",
          "name": "stdout",
          "text": [
            "10 11 12 13 14 15 16 17 18 "
          ]
        }
      ]
    },
    {
      "cell_type": "markdown",
      "source": [
        "np.apply_along_axis(func, axis, arr):\n",
        "\n",
        "- func: the function you want to apply (it must take a 1D array).\n",
        "\n",
        "- axis=0: apply the function column-wise (function gets each column).\n",
        "\n",
        "- axis=1: apply the function row-wise (function gets each row).\n",
        "\n",
        "- arr: the input array."
      ],
      "metadata": {
        "id": "wZ5mkhbWoe2s"
      }
    },
    {
      "cell_type": "code",
      "source": [
        "A = np.arange(10, 19).reshape(3, 3)\n",
        "A"
      ],
      "metadata": {
        "colab": {
          "base_uri": "https://localhost:8080/"
        },
        "id": "I_dyhTWBnxMf",
        "outputId": "d5a0e829-c483-41d1-a575-1a5191ef5d92"
      },
      "execution_count": 71,
      "outputs": [
        {
          "output_type": "execute_result",
          "data": {
            "text/plain": [
              "array([[10, 11, 12],\n",
              "       [13, 14, 15],\n",
              "       [16, 17, 18]])"
            ]
          },
          "metadata": {},
          "execution_count": 71
        }
      ]
    },
    {
      "cell_type": "code",
      "source": [
        "np.apply_along_axis(np.sum, axis=0, arr=A) # column wise sum"
      ],
      "metadata": {
        "colab": {
          "base_uri": "https://localhost:8080/"
        },
        "id": "u3-TBUptoa24",
        "outputId": "69ffbedd-23e5-4c24-e021-cabaa270cc51"
      },
      "execution_count": 72,
      "outputs": [
        {
          "output_type": "execute_result",
          "data": {
            "text/plain": [
              "array([39, 42, 45])"
            ]
          },
          "metadata": {},
          "execution_count": 72
        }
      ]
    },
    {
      "cell_type": "code",
      "source": [
        "print(np.apply_along_axis(np.sum, axis=1, arr=A)) # row wise sum"
      ],
      "metadata": {
        "colab": {
          "base_uri": "https://localhost:8080/"
        },
        "id": "chxGzz9Lolml",
        "outputId": "97afac52-f430-46da-8ea1-4ff4c007a816"
      },
      "execution_count": 73,
      "outputs": [
        {
          "output_type": "stream",
          "name": "stdout",
          "text": [
            "[33 42 51]\n"
          ]
        }
      ]
    },
    {
      "cell_type": "code",
      "source": [
        "A"
      ],
      "metadata": {
        "colab": {
          "base_uri": "https://localhost:8080/"
        },
        "id": "Wox1y8GCqHnb",
        "outputId": "a0183696-573e-4fb7-8ac8-3400540b06d6"
      },
      "execution_count": 74,
      "outputs": [
        {
          "output_type": "execute_result",
          "data": {
            "text/plain": [
              "array([[10, 11, 12],\n",
              "       [13, 14, 15],\n",
              "       [16, 17, 18]])"
            ]
          },
          "metadata": {},
          "execution_count": 74
        }
      ]
    },
    {
      "cell_type": "code",
      "source": [
        "# custom fn:\n",
        "def foo(x):\n",
        "    print(\"column\", x, \"\\n\")\n",
        "    return x / 2\n",
        "\n",
        "print(np.apply_along_axis(foo, axis=0, arr=A))\n",
        "# First column: [10 13 16] → [5.0 6.5 8.0]\n",
        "# Second column: [11 14 17] → [5.5 7.0 8.5]\n",
        "# Third column: [12 15 18] → [6.0 7.5 9.0]"
      ],
      "metadata": {
        "colab": {
          "base_uri": "https://localhost:8080/"
        },
        "id": "djfHNJfkpa5h",
        "outputId": "e9268845-ef01-41cd-c77b-bd8cbbbbb798"
      },
      "execution_count": 75,
      "outputs": [
        {
          "output_type": "stream",
          "name": "stdout",
          "text": [
            "column [10 13 16] \n",
            "\n",
            "column [11 14 17] \n",
            "\n",
            "column [12 15 18] \n",
            "\n",
            "[[5.  5.5 6. ]\n",
            " [6.5 7.  7.5]\n",
            " [8.  8.5 9. ]]\n"
          ]
        }
      ]
    },
    {
      "cell_type": "code",
      "source": [
        "# same as:\n",
        "A/2"
      ],
      "metadata": {
        "colab": {
          "base_uri": "https://localhost:8080/"
        },
        "id": "73td8v9TqMvP",
        "outputId": "11410e32-9219-4996-d1f6-3d6af65215cb"
      },
      "execution_count": 76,
      "outputs": [
        {
          "output_type": "execute_result",
          "data": {
            "text/plain": [
              "array([[5. , 5.5, 6. ],\n",
              "       [6.5, 7. , 7.5],\n",
              "       [8. , 8.5, 9. ]])"
            ]
          },
          "metadata": {},
          "execution_count": 76
        }
      ]
    },
    {
      "cell_type": "code",
      "source": [
        "A"
      ],
      "metadata": {
        "colab": {
          "base_uri": "https://localhost:8080/"
        },
        "id": "cO9yuXmTqoR0",
        "outputId": "1955e6c7-ba1d-42a5-aeb0-37bdee42a33a"
      },
      "execution_count": 77,
      "outputs": [
        {
          "output_type": "execute_result",
          "data": {
            "text/plain": [
              "array([[10, 11, 12],\n",
              "       [13, 14, 15],\n",
              "       [16, 17, 18]])"
            ]
          },
          "metadata": {},
          "execution_count": 77
        }
      ]
    },
    {
      "cell_type": "code",
      "source": [
        "def foo1(x):\n",
        "    print(\"row\", x, \"\\n\")\n",
        "    return 2 * x\n",
        "\n",
        "print(np.apply_along_axis(foo1, axis=1, arr=A))"
      ],
      "metadata": {
        "colab": {
          "base_uri": "https://localhost:8080/"
        },
        "id": "r26qEeGbqXII",
        "outputId": "d8b53fc9-306b-406b-a4f3-d76dfe11ee7a"
      },
      "execution_count": 78,
      "outputs": [
        {
          "output_type": "stream",
          "name": "stdout",
          "text": [
            "row [10 11 12] \n",
            "\n",
            "row [13 14 15] \n",
            "\n",
            "row [16 17 18] \n",
            "\n",
            "[[20 22 24]\n",
            " [26 28 30]\n",
            " [32 34 36]]\n"
          ]
        }
      ]
    },
    {
      "cell_type": "markdown",
      "source": [
        "Conditions and Boolean Arrays in NumPy:\n",
        "\n",
        "In NumPy, conditions and boolean arrays are used for:\n",
        "\n",
        "- Filtering data\n",
        "- Performing operations on specific elements\n",
        "- Masking arrays based on conditions\n",
        "\n",
        "You can apply conditions like >, <, ==, etc., directly on NumPy arrays. These return a boolean array of the same shape — with True where the condition is met and False otherwise.\n",
        "\n",
        "You can then use that boolean array to filter elements from the original array."
      ],
      "metadata": {
        "id": "3fMAX00aq-jX"
      }
    },
    {
      "cell_type": "code",
      "source": [
        "B = np.random.random((3, 3))  # Random values between 0 and 1 in a 3x3 matrix\n",
        "print(\"B=\", B)"
      ],
      "metadata": {
        "colab": {
          "base_uri": "https://localhost:8080/"
        },
        "id": "S3pu2VujqiYb",
        "outputId": "d011d942-956a-419d-eea1-bbaac9aa4c05"
      },
      "execution_count": 79,
      "outputs": [
        {
          "output_type": "stream",
          "name": "stdout",
          "text": [
            "B= [[0.7106179  0.07122826 0.87843177]\n",
            " [0.58735765 0.50497009 0.60682835]\n",
            " [0.39742139 0.51319256 0.5602161 ]]\n"
          ]
        }
      ]
    },
    {
      "cell_type": "code",
      "source": [
        "print(B > 0.5) # Apply a condition"
      ],
      "metadata": {
        "colab": {
          "base_uri": "https://localhost:8080/"
        },
        "id": "9MSI-3JGrX4X",
        "outputId": "953e148d-b29c-4259-8936-7d6ed6c17852"
      },
      "execution_count": 80,
      "outputs": [
        {
          "output_type": "stream",
          "name": "stdout",
          "text": [
            "[[ True False  True]\n",
            " [ True  True  True]\n",
            " [False  True  True]]\n"
          ]
        }
      ]
    },
    {
      "cell_type": "code",
      "source": [
        "print(B[B > 0.5]) # Filter using the condition\n",
        "\n",
        "# Even though B is a 2D array, the output of B[B > 0.5] is a 1D array containing only the selected elements.\n",
        "# ➡️ That's because NumPy flattens the values that match the condition into a 1D result."
      ],
      "metadata": {
        "colab": {
          "base_uri": "https://localhost:8080/"
        },
        "id": "q4ta2cCjrgt8",
        "outputId": "428e080a-ee92-4da4-c42f-90452eaec8fd"
      },
      "execution_count": 81,
      "outputs": [
        {
          "output_type": "stream",
          "name": "stdout",
          "text": [
            "[0.7106179  0.87843177 0.58735765 0.50497009 0.60682835 0.51319256\n",
            " 0.5602161 ]\n"
          ]
        }
      ]
    },
    {
      "cell_type": "markdown",
      "source": [
        "Shape Manipulation in NumPy:"
      ],
      "metadata": {
        "id": "7_BvyLUlsjiT"
      }
    },
    {
      "cell_type": "code",
      "source": [
        "a = np.arange(6)\n",
        "print(\"a =\", a)"
      ],
      "metadata": {
        "colab": {
          "base_uri": "https://localhost:8080/"
        },
        "id": "sczGXnfkrouM",
        "outputId": "36dcb8f0-3069-4536-d522-e7e071e407d6"
      },
      "execution_count": 82,
      "outputs": [
        {
          "output_type": "stream",
          "name": "stdout",
          "text": [
            "a = [0 1 2 3 4 5]\n"
          ]
        }
      ]
    },
    {
      "cell_type": "code",
      "source": [
        "A = a.reshape(2, 3)\n",
        "print(\"Reshaped array: A=a.reshape(2,3)=\\n\", A)"
      ],
      "metadata": {
        "colab": {
          "base_uri": "https://localhost:8080/"
        },
        "id": "42dJQ2drst9X",
        "outputId": "bbd296ae-232f-45f7-b4d2-fda81b492d5e"
      },
      "execution_count": 83,
      "outputs": [
        {
          "output_type": "stream",
          "name": "stdout",
          "text": [
            "Reshaped array: A=a.reshape(2,3)=\n",
            " [[0 1 2]\n",
            " [3 4 5]]\n"
          ]
        }
      ]
    },
    {
      "cell_type": "code",
      "source": [
        "print(\"The transpose of A:\")\n",
        "print(A.transpose())"
      ],
      "metadata": {
        "colab": {
          "base_uri": "https://localhost:8080/"
        },
        "id": "SzM8tGkdsuf5",
        "outputId": "c80ffa8c-bdba-4a5b-b09e-48db28ce47a5"
      },
      "execution_count": 84,
      "outputs": [
        {
          "output_type": "stream",
          "name": "stdout",
          "text": [
            "The transpose of A:\n",
            "[[0 3]\n",
            " [1 4]\n",
            " [2 5]]\n"
          ]
        }
      ]
    },
    {
      "cell_type": "code",
      "source": [
        "print(\"The value of a.shape is \\n\", a.shape)\n",
        "print(a)\n",
        "# At this point, a is still 1D: shape = (6,)"
      ],
      "metadata": {
        "colab": {
          "base_uri": "https://localhost:8080/"
        },
        "id": "t288Zw6Lswyo",
        "outputId": "dc4bd896-ccac-42a1-c7b7-b1526baf9aed"
      },
      "execution_count": 85,
      "outputs": [
        {
          "output_type": "stream",
          "name": "stdout",
          "text": [
            "The value of a.shape is \n",
            " (6,)\n",
            "[0 1 2 3 4 5]\n"
          ]
        }
      ]
    },
    {
      "cell_type": "code",
      "source": [
        "a.shape = (2, 3)\n",
        "print(\"After executing a.shape=(2,3), a.shape=\\n\", a.shape)\n",
        "print()\n",
        "print(\"After reshape:a=\\n\", a)"
      ],
      "metadata": {
        "colab": {
          "base_uri": "https://localhost:8080/"
        },
        "id": "xpBAmoHZs7e4",
        "outputId": "a266cacd-68f2-41c1-8f2b-63dcd656e263"
      },
      "execution_count": 86,
      "outputs": [
        {
          "output_type": "stream",
          "name": "stdout",
          "text": [
            "After executing a.shape=(2,3), a.shape=\n",
            " (2, 3)\n",
            "\n",
            "After reshape:a=\n",
            " [[0 1 2]\n",
            " [3 4 5]]\n"
          ]
        }
      ]
    },
    {
      "cell_type": "code",
      "source": [
        "a1D = a.ravel()\n",
        "print(\"After converting 2D array to 1D array using a1D=a.ravel() :\", a1D)\n",
        "# .ravel() flattens the array (returns 1D)"
      ],
      "metadata": {
        "colab": {
          "base_uri": "https://localhost:8080/"
        },
        "id": "7ymOgTnutFNh",
        "outputId": "94642d66-f26a-4727-96be-d59f70939ca9"
      },
      "execution_count": 87,
      "outputs": [
        {
          "output_type": "stream",
          "name": "stdout",
          "text": [
            "After converting 2D array to 1D array using a1D=a.ravel() : [0 1 2 3 4 5]\n"
          ]
        }
      ]
    },
    {
      "cell_type": "markdown",
      "source": [
        "flatten() vs ravel():\n",
        "\n",
        "![image.png](data:image/png;base64,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)"
      ],
      "metadata": {
        "id": "dRvuSgnjuRn2"
      }
    },
    {
      "cell_type": "code",
      "source": [
        "a = np.array([[1, 2], [3, 4]])\n",
        "r = a.ravel()\n",
        "f = a.flatten()\n",
        "\n",
        "print(\"Original:\\n\", a)\n",
        "print()\n",
        "print(\"Ravel r:\\n\", r)\n",
        "print()\n",
        "print(\"Flatten f:\\n\", f)\n",
        "print()"
      ],
      "metadata": {
        "colab": {
          "base_uri": "https://localhost:8080/"
        },
        "id": "Tno-M95VtTO9",
        "outputId": "c3406435-96dd-401f-d5fb-425b396ea442"
      },
      "execution_count": 88,
      "outputs": [
        {
          "output_type": "stream",
          "name": "stdout",
          "text": [
            "Original:\n",
            " [[1 2]\n",
            " [3 4]]\n",
            "\n",
            "Ravel r:\n",
            " [1 2 3 4]\n",
            "\n",
            "Flatten f:\n",
            " [1 2 3 4]\n",
            "\n"
          ]
        }
      ]
    },
    {
      "cell_type": "code",
      "source": [
        "# Now change r and f\n",
        "r[0] = 100\n",
        "f[1] = 200\n",
        "\n",
        "print(\"\\nAfter modifying r and f:\")\n",
        "print(\"Original:\\n\", a)      # Will show change due to ravel\n",
        "print()\n",
        "print(\"Ravel:\\n\", r)\n",
        "print()\n",
        "print(\"Flatten:\\n\", f)\n",
        "print()"
      ],
      "metadata": {
        "colab": {
          "base_uri": "https://localhost:8080/"
        },
        "id": "Q4v-bQewtjcv",
        "outputId": "d3ec099c-c1d5-4792-998f-e37e3e0a13de"
      },
      "execution_count": 89,
      "outputs": [
        {
          "output_type": "stream",
          "name": "stdout",
          "text": [
            "\n",
            "After modifying r and f:\n",
            "Original:\n",
            " [[100   2]\n",
            " [  3   4]]\n",
            "\n",
            "Ravel:\n",
            " [100   2   3   4]\n",
            "\n",
            "Flatten:\n",
            " [  1 200   3   4]\n",
            "\n"
          ]
        }
      ]
    },
    {
      "cell_type": "markdown",
      "source": [
        "🧱 Stacking: This stacks two 1D arrays as rows in a 2D array."
      ],
      "metadata": {
        "id": "YjpTP2brAjOx"
      }
    },
    {
      "cell_type": "code",
      "source": [
        "a = np.array([1, 2, 3])\n",
        "b = np.array([4, 5, 6])\n",
        "\n",
        "print(np.row_stack((a, b)))"
      ],
      "metadata": {
        "colab": {
          "base_uri": "https://localhost:8080/"
        },
        "id": "RbLKHlTlucu5",
        "outputId": "ea9a7cbb-7b8a-4118-8f88-732f4fde955b"
      },
      "execution_count": 90,
      "outputs": [
        {
          "output_type": "stream",
          "name": "stdout",
          "text": [
            "[[1 2 3]\n",
            " [4 5 6]]\n"
          ]
        },
        {
          "output_type": "stream",
          "name": "stderr",
          "text": [
            "/tmp/ipython-input-1853027499.py:4: DeprecationWarning: `row_stack` alias is deprecated. Use `np.vstack` directly.\n",
            "  print(np.row_stack((a, b)))\n"
          ]
        }
      ]
    },
    {
      "cell_type": "markdown",
      "source": [
        "✂️ Splitting Arrays:"
      ],
      "metadata": {
        "id": "GoQ9ncnHAu6w"
      }
    },
    {
      "cell_type": "code",
      "source": [
        "A = np.arange(16).reshape(4, 4)\n",
        "A"
      ],
      "metadata": {
        "colab": {
          "base_uri": "https://localhost:8080/"
        },
        "id": "unPahmcTAtrc",
        "outputId": "89313a52-deb1-4fbd-c848-ce63e5e14cc2"
      },
      "execution_count": 91,
      "outputs": [
        {
          "output_type": "execute_result",
          "data": {
            "text/plain": [
              "array([[ 0,  1,  2,  3],\n",
              "       [ 4,  5,  6,  7],\n",
              "       [ 8,  9, 10, 11],\n",
              "       [12, 13, 14, 15]])"
            ]
          },
          "metadata": {},
          "execution_count": 91
        }
      ]
    },
    {
      "cell_type": "code",
      "source": [
        "np.hsplit(A, 2) # → Horizontal split (split columns)\n",
        "[B, C] = np.hsplit(A, 2) # 2 means \"split the array into 2 equal parts.\"\n",
        "print(B)\n",
        "print()\n",
        "print(C)\n",
        "# Splits the array into 2 equal parts column-wise.\n",
        "# A has 4 columns → two 2-column blocks"
      ],
      "metadata": {
        "colab": {
          "base_uri": "https://localhost:8080/"
        },
        "id": "W0P3lFUZAy5k",
        "outputId": "63c2db54-9a77-45fc-ece5-cbf6de0b1d5d"
      },
      "execution_count": 92,
      "outputs": [
        {
          "output_type": "stream",
          "name": "stdout",
          "text": [
            "[[ 0  1]\n",
            " [ 4  5]\n",
            " [ 8  9]\n",
            " [12 13]]\n",
            "\n",
            "[[ 2  3]\n",
            " [ 6  7]\n",
            " [10 11]\n",
            " [14 15]]\n"
          ]
        }
      ]
    },
    {
      "cell_type": "code",
      "source": [
        "np.vsplit(A, 2) #  → Vertical split (split rows)\n",
        "[B, C] = np.vsplit(A, 2)\n",
        "print(B)\n",
        "print()\n",
        "print(C)"
      ],
      "metadata": {
        "colab": {
          "base_uri": "https://localhost:8080/"
        },
        "id": "Met9D6aHA9C6",
        "outputId": "f8c1151e-6130-457e-c321-d3c0778d3489"
      },
      "execution_count": 93,
      "outputs": [
        {
          "output_type": "stream",
          "name": "stdout",
          "text": [
            "[[0 1 2 3]\n",
            " [4 5 6 7]]\n",
            "\n",
            "[[ 8  9 10 11]\n",
            " [12 13 14 15]]\n"
          ]
        }
      ]
    },
    {
      "cell_type": "code",
      "source": [
        "print('original:\\n', A)\n",
        "print()\n",
        "np.split(A, [1, 3], axis=1) # → Custom column split\n",
        "[A1, A2, A3] = np.split(A, [1, 3], axis=1)\n",
        "print(A1)\n",
        "print()\n",
        "print(A2)\n",
        "print()\n",
        "print(A3)\n",
        "# Split columns after 1st and after 3rd, so:\n",
        "    # A1: First column only\n",
        "    # A2: 2nd and 3rd columns (1:3)\n",
        "    # A3: Last column (from 3rd to end)"
      ],
      "metadata": {
        "colab": {
          "base_uri": "https://localhost:8080/"
        },
        "id": "zbwXH9jsBXoX",
        "outputId": "c27ccb9a-8edb-48df-cc27-23fb8cdf43f3"
      },
      "execution_count": 94,
      "outputs": [
        {
          "output_type": "stream",
          "name": "stdout",
          "text": [
            "original:\n",
            " [[ 0  1  2  3]\n",
            " [ 4  5  6  7]\n",
            " [ 8  9 10 11]\n",
            " [12 13 14 15]]\n",
            "\n",
            "[[ 0]\n",
            " [ 4]\n",
            " [ 8]\n",
            " [12]]\n",
            "\n",
            "[[ 1  2]\n",
            " [ 5  6]\n",
            " [ 9 10]\n",
            " [13 14]]\n",
            "\n",
            "[[ 3]\n",
            " [ 7]\n",
            " [11]\n",
            " [15]]\n"
          ]
        }
      ]
    },
    {
      "cell_type": "code",
      "source": [
        "[A1, A2, A3] = np.split(A, [1, 3], axis=0) #  → Custom row split\n",
        "print(A1)\n",
        "print()\n",
        "print(A2)\n",
        "print()\n",
        "print(A3)"
      ],
      "metadata": {
        "colab": {
          "base_uri": "https://localhost:8080/"
        },
        "id": "O8IO-Wn-G2UP",
        "outputId": "9e1ced95-affa-4834-93ef-e5898c3680f1"
      },
      "execution_count": 95,
      "outputs": [
        {
          "output_type": "stream",
          "name": "stdout",
          "text": [
            "[[0 1 2 3]]\n",
            "\n",
            "[[ 4  5  6  7]\n",
            " [ 8  9 10 11]]\n",
            "\n",
            "[[12 13 14 15]]\n"
          ]
        }
      ]
    },
    {
      "cell_type": "markdown",
      "source": [
        "Assignment vs Copy in NumPy Arrays:"
      ],
      "metadata": {
        "id": "rCEyWWHQI4aO"
      }
    },
    {
      "cell_type": "code",
      "source": [
        "a = np.array([1, 2, 3, 4])\n",
        "print(\"a =\\n\", a)\n",
        "print()\n",
        "\n",
        "b = a              # Just assignment\n",
        "a[1] = 5           # Change value in 'a'\n",
        "\n",
        "print(\"updated a =\\n\", a)\n",
        "print()\n",
        "print(\"b =\\n\", b)  # b also changes\n",
        "\n",
        "\n",
        "# b = a doesn't create a new array. It just gives another name (b) to the same data.\n",
        "# So when you modify a[1], it also reflects in b."
      ],
      "metadata": {
        "colab": {
          "base_uri": "https://localhost:8080/"
        },
        "id": "GFodSCp0IV5l",
        "outputId": "ea4c7c2d-d2f9-4e03-e20d-6106d28b2a72"
      },
      "execution_count": 96,
      "outputs": [
        {
          "output_type": "stream",
          "name": "stdout",
          "text": [
            "a =\n",
            " [1 2 3 4]\n",
            "\n",
            "updated a =\n",
            " [1 5 3 4]\n",
            "\n",
            "b =\n",
            " [1 5 3 4]\n"
          ]
        }
      ]
    },
    {
      "cell_type": "code",
      "source": [
        "# Creating a separate copy:\n",
        "print('a=',a)\n",
        "print()\n",
        "\n",
        "c = a.copy()       # Now c is a separate array\n",
        "a[1] = 78          # Modify a again\n",
        "\n",
        "print(\"updated a =\\n\", a)\n",
        "print()\n",
        "print(\"c =\\n\", c)  # c remains unchanged"
      ],
      "metadata": {
        "colab": {
          "base_uri": "https://localhost:8080/"
        },
        "id": "kW_4mX4HJScJ",
        "outputId": "c64f04cf-d309-4479-c222-685560a456a2"
      },
      "execution_count": 97,
      "outputs": [
        {
          "output_type": "stream",
          "name": "stdout",
          "text": [
            "a= [1 5 3 4]\n",
            "\n",
            "updated a =\n",
            " [ 1 78  3  4]\n",
            "\n",
            "c =\n",
            " [1 5 3 4]\n"
          ]
        }
      ]
    },
    {
      "cell_type": "markdown",
      "source": [
        "Vectorization in NumPy:\n",
        "\n",
        "Vectorization means using array operations directly without writing explicit for loops. NumPy does this internally in C, so it's faster."
      ],
      "metadata": {
        "id": "RDApuJ-ZKNJ8"
      }
    },
    {
      "cell_type": "code",
      "source": [
        "a = np.array([[1, 2, 3, 4],\n",
        "              [1, 2, 3, 4]])\n",
        "\n",
        "b = np.array([[1, 1, 1, 1],\n",
        "              [2, 2, 2, 2]])\n",
        "\n",
        "print(\"a =\\n\", a)\n",
        "print()\n",
        "print(\"b =\\n\", b)\n",
        "\n",
        "print(\"\\na * b =\\n\", a * b)\n",
        "# This multiplies each element of a with the corresponding element in b.\n",
        "# It’s the same as writing nested loops in C or Java, but done in 1 line here.\n",
        "    # Equivalent to:\n",
        "        # for i in range(2):\n",
        "        #     for j in range(4):\n",
        "        #         c[i][j] = a[i][j] * b[i][j]\n"
      ],
      "metadata": {
        "colab": {
          "base_uri": "https://localhost:8080/"
        },
        "id": "tDB6hoA-Jh5k",
        "outputId": "3151d7f4-9205-472e-f40a-4b45cf01e412"
      },
      "execution_count": 98,
      "outputs": [
        {
          "output_type": "stream",
          "name": "stdout",
          "text": [
            "a =\n",
            " [[1 2 3 4]\n",
            " [1 2 3 4]]\n",
            "\n",
            "b =\n",
            " [[1 1 1 1]\n",
            " [2 2 2 2]]\n",
            "\n",
            "a * b =\n",
            " [[1 2 3 4]\n",
            " [2 4 6 8]]\n"
          ]
        }
      ]
    },
    {
      "cell_type": "markdown",
      "source": [
        "🔹 What are Structured Arrays in NumPy?\n",
        "Structured arrays let you store heterogeneous data — different data types — in one NumPy array.\n",
        "Think of it like a table or a row in a database, where:\n",
        "\n",
        "Each column has a different type (int, float, string, complex, etc.)\n",
        "\n",
        "Each row is like a record or entry."
      ],
      "metadata": {
        "id": "GU8rXaabLKR3"
      }
    },
    {
      "cell_type": "code",
      "source": [
        "struct1 = np.array([\n",
        "    (1, 'first', 0.56, 1+2j),\n",
        "    (2, 'second', 0.66, 3+4j),\n",
        "    (3, 'third', 0.76, 5+6j)\n",
        "], dtype=('i2, S6, f4, c8'))\n",
        "\n",
        "struct1\n",
        "# i2 = int16 (2-byte integer)\n",
        "# S6 = string of length 6\n",
        "# f4 = float32\n",
        "# c8 = complex number with two 32-bit floats (real + imag)\n",
        "\n",
        "# So each row stores -> (int, string, float, complex)"
      ],
      "metadata": {
        "colab": {
          "base_uri": "https://localhost:8080/"
        },
        "id": "pMcdiTlwKQk_",
        "outputId": "d8d31e20-9c1c-4719-8b0e-2491b8d7f5d6"
      },
      "execution_count": 99,
      "outputs": [
        {
          "output_type": "execute_result",
          "data": {
            "text/plain": [
              "array([(1, b'first', 0.56, 1.+2.j), (2, b'second', 0.66, 3.+4.j),\n",
              "       (3, b'third', 0.76, 5.+6.j)],\n",
              "      dtype=[('f0', '<i2'), ('f1', 'S6'), ('f2', '<f4'), ('f3', '<c8')])"
            ]
          },
          "metadata": {},
          "execution_count": 99
        }
      ]
    },
    {
      "cell_type": "code",
      "source": [
        "struct1[1] # Access an entire row (record)"
      ],
      "metadata": {
        "colab": {
          "base_uri": "https://localhost:8080/"
        },
        "id": "HTXYc_QjLbjC",
        "outputId": "9aba7aef-f199-4f27-8ac4-f86bb8cbf89c"
      },
      "execution_count": 100,
      "outputs": [
        {
          "output_type": "execute_result",
          "data": {
            "text/plain": [
              "np.void((2, b'second', 0.66, 3.+4.j), dtype=[('f0', '<i2'), ('f1', 'S6'), ('f2', '<f4'), ('f3', '<c8')])"
            ]
          },
          "metadata": {},
          "execution_count": 100
        }
      ]
    },
    {
      "cell_type": "code",
      "source": [
        "#  Access a column (field):\n",
        "   #  If you don’t give custom field names, NumPy uses default names: 'f0', 'f1', 'f2', etc.\n",
        "struct1['f3']"
      ],
      "metadata": {
        "colab": {
          "base_uri": "https://localhost:8080/"
        },
        "id": "amJzRiY8MipL",
        "outputId": "440fd873-ffd9-47fe-c952-5decf2b6c480"
      },
      "execution_count": 101,
      "outputs": [
        {
          "output_type": "execute_result",
          "data": {
            "text/plain": [
              "array([1.+2.j, 3.+4.j, 5.+6.j], dtype=complex64)"
            ]
          },
          "metadata": {},
          "execution_count": 101
        }
      ]
    },
    {
      "cell_type": "code",
      "source": [
        "# 🔹 Giving Custom Field Names:\n",
        "structured = np.array([\n",
        "    (1, 'First', 0.50, 1+2j),\n",
        "    (2, 'Second', 0.6, 2-2j),\n",
        "    (3, 'Third', 0.7, 1+3j)\n",
        "], dtype=[('id', 'i2'), ('order', 'S6'), ('value', 'f4'), ('complex', 'c8')])\n",
        "\n",
        "structured"
      ],
      "metadata": {
        "colab": {
          "base_uri": "https://localhost:8080/"
        },
        "id": "cwTJ1G4cM0EA",
        "outputId": "a1798667-019f-4a1b-b4b2-96e05b6a879d"
      },
      "execution_count": 102,
      "outputs": [
        {
          "output_type": "execute_result",
          "data": {
            "text/plain": [
              "array([(1, b'First', 0.5, 1.+2.j), (2, b'Second', 0.6, 2.-2.j),\n",
              "       (3, b'Third', 0.7, 1.+3.j)],\n",
              "      dtype=[('id', '<i2'), ('order', 'S6'), ('value', '<f4'), ('complex', '<c8')])"
            ]
          },
          "metadata": {},
          "execution_count": 102
        }
      ]
    },
    {
      "cell_type": "code",
      "source": [
        "structured['id']"
      ],
      "metadata": {
        "colab": {
          "base_uri": "https://localhost:8080/"
        },
        "id": "BBOk2jiyM6L9",
        "outputId": "24b73a04-4176-4b86-f67a-0661d2846a0c"
      },
      "execution_count": 103,
      "outputs": [
        {
          "output_type": "execute_result",
          "data": {
            "text/plain": [
              "array([1, 2, 3], dtype=int16)"
            ]
          },
          "metadata": {},
          "execution_count": 103
        }
      ]
    },
    {
      "cell_type": "markdown",
      "source": [
        "Reading and Writing Array Data on Files:"
      ],
      "metadata": {
        "id": "ajb6H3UJNVLZ"
      }
    },
    {
      "cell_type": "code",
      "source": [
        "data = np.random.rand(4, 3)\n",
        "print(data)\n",
        "print()\n",
        "np.save('saved_data', data)  # saves to 'saved_data.npy'\n",
        "loaded_data = np.load('saved_data.npy')\n",
        "print(loaded_data)\n",
        "\n",
        "# np.save() saves NumPy arrays in .npy binary format.\n",
        "# np.load() loads it back.\n",
        "# This is efficient and fast for storing pure array data."
      ],
      "metadata": {
        "colab": {
          "base_uri": "https://localhost:8080/"
        },
        "id": "4IeUQ77SNC-s",
        "outputId": "eaf870ba-4e7e-4ab7-f405-8b7e1451cd9d"
      },
      "execution_count": 104,
      "outputs": [
        {
          "output_type": "stream",
          "name": "stdout",
          "text": [
            "[[0.22462994 0.99969984 0.84202151]\n",
            " [0.67029282 0.0756318  0.54655997]\n",
            " [0.63292155 0.97733631 0.94259837]\n",
            " [0.16589816 0.30736133 0.57892069]]\n",
            "\n",
            "[[0.22462994 0.99969984 0.84202151]\n",
            " [0.67029282 0.0756318  0.54655997]\n",
            " [0.63292155 0.97733631 0.94259837]\n",
            " [0.16589816 0.30736133 0.57892069]]\n"
          ]
        }
      ]
    },
    {
      "cell_type": "markdown",
      "source": [
        "Reading CSV File with Tabular Data:\n",
        "\n",
        "CSV for reference:\n",
        "\n",
        "![image.png](data:image/png;base64,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)"
      ],
      "metadata": {
        "id": "XupMxk2fNtOo"
      }
    },
    {
      "cell_type": "code",
      "source": [
        "# Load CSV as structured array\n",
        "data = np.genfromtxt(\n",
        "    '/content/drive/MyDrive/SampleData.csv',         # File name\n",
        "    delimiter=',',           # CSV delimiter\n",
        "    names=True,              # First row has column names\n",
        "    dtype=None,              # Let NumPy infer data types\n",
        "    encoding='utf-8'         # Decode string columns properly\n",
        ")\n",
        "\n",
        "print(data)\n",
        "print()\n",
        "print(type(data))            # Will show numpy.ndarray\n",
        "print()\n",
        "print(data[0])               # Access first row as a record\n",
        "print()\n",
        "print(data['name'])          # Access name column"
      ],
      "metadata": {
        "colab": {
          "base_uri": "https://localhost:8080/"
        },
        "id": "1uXpdXuRNawK",
        "outputId": "c5803d34-e516-416d-a23b-c14b2aadf29e"
      },
      "execution_count": 105,
      "outputs": [
        {
          "output_type": "stream",
          "name": "stdout",
          "text": [
            "[(1, 'Alice', 24, 'HR', 40000) (2, 'Bob', 30, 'IT', 55000)\n",
            " (3, 'Charlie', 28, 'Finance', 48000) (4, 'David', 35, 'IT', 62000)\n",
            " (5, 'Eva', 26, 'Marketing', 45000)]\n",
            "\n",
            "<class 'numpy.ndarray'>\n",
            "\n",
            "(1, 'Alice', 24, 'HR', 40000)\n",
            "\n",
            "['Alice' 'Bob' 'Charlie' 'David' 'Eva']\n"
          ]
        }
      ]
    },
    {
      "cell_type": "code",
      "source": [
        "# And this is a structured array, where each row is like a dictionary (record), and you can access by column name:\n",
        "print(data['age'])     # [24 30 28 35 26]\n",
        "print(data[2]['name']) # 'Bob'"
      ],
      "metadata": {
        "colab": {
          "base_uri": "https://localhost:8080/"
        },
        "id": "yqO6_01zPdDU",
        "outputId": "d0cc6bc6-a66f-494d-a3ac-5d01fa455399"
      },
      "execution_count": 106,
      "outputs": [
        {
          "output_type": "stream",
          "name": "stdout",
          "text": [
            "[24 30 28 35 26]\n",
            "Charlie\n"
          ]
        }
      ]
    },
    {
      "cell_type": "markdown",
      "source": [
        "Handling Missing Values in CSV:\n",
        "\n",
        "  If the file has missing values (e.g., sample2.csv):\n",
        "\n",
        "  id,value1,value2,value3\n",
        "\n",
        "  1, 123, 1.4, 23\n",
        "\n",
        "  2, 110, , 18\n",
        "\n",
        "  3, , 2.1, 19\n",
        "\n"
      ],
      "metadata": {
        "id": "ThR7D35-QXHr"
      }
    },
    {
      "cell_type": "code",
      "source": [
        "# data2 = np.genfromtxt('sample2.csv', delimiter=',', names=True)\n",
        "# print(\"data2.dtype=\", data2.dtype)\n",
        "# print(data2)\n",
        "\n",
        "# Missing values are handled gracefully.\n",
        "# genfromtxt() fills them with nan if type is float, or default zero for integers."
      ],
      "metadata": {
        "id": "BPE1TcfrQKCp"
      },
      "execution_count": 107,
      "outputs": []
    },
    {
      "cell_type": "code",
      "source": [
        "# Using np.linspace() to Generate Sequences\n",
        "result = np.linspace(0, 1, num=5, retstep=True)\n",
        "print(result)\n",
        "\n",
        "# start=0, stop=1: Sequence is from 0 to 1.\n",
        "# num=5: 5 points.\n",
        "# retstep=True: Also returns the spacing (which is 0.25 here).\n",
        "# endpoint=True: Includes the stop value."
      ],
      "metadata": {
        "colab": {
          "base_uri": "https://localhost:8080/"
        },
        "id": "TNXEYdTQQ42Q",
        "outputId": "639828e4-ebfc-4aa9-e7b1-07d60b14e62f"
      },
      "execution_count": 108,
      "outputs": [
        {
          "output_type": "stream",
          "name": "stdout",
          "text": [
            "(array([0.  , 0.25, 0.5 , 0.75, 1.  ]), np.float64(0.25))\n"
          ]
        }
      ]
    },
    {
      "cell_type": "code",
      "source": [
        "ans = np.linspace(0, 2, num=8, endpoint=False, retstep=True)\n",
        "print(\"Result:\", ans[0])\n",
        "print(\"Step size:\", ans[1])\n",
        "\n",
        "# np.linspace(start, stop, num, endpoint, retstep)\n",
        "# endpoint=False: so it excludes the stop value (2), and ends just before it.\n",
        "# num=8: divides the range into 8 evenly spaced values.\n",
        "# retstep=True: returns a tuple → (array, step_size)"
      ],
      "metadata": {
        "colab": {
          "base_uri": "https://localhost:8080/"
        },
        "id": "3OjfLUAaeJcw",
        "outputId": "cda04cd0-212c-4062-ef21-4020d026e2e9"
      },
      "execution_count": 109,
      "outputs": [
        {
          "output_type": "stream",
          "name": "stdout",
          "text": [
            "Result: [0.   0.25 0.5  0.75 1.   1.25 1.5  1.75]\n",
            "Step size: 0.25\n"
          ]
        }
      ]
    },
    {
      "cell_type": "code",
      "source": [
        "# Saving and Loading Tuple Data\n",
        "data = (1, 2, 3, 4, 5.6, 6.7, 8, 9, 'abc')\n",
        "np.save('F1', data)\n",
        "F2 = np.load('F1.npy', allow_pickle=True)  # Required because tuples are Python objects\n",
        "print(F2)\n",
        "\n",
        "# Since this is a tuple of mixed types, NumPy saves it as an object array.\n",
        "# All elements get converted to strings → hence the result:"
      ],
      "metadata": {
        "colab": {
          "base_uri": "https://localhost:8080/"
        },
        "id": "F84IFfSxRlw-",
        "outputId": "cc684c64-292e-4794-c40a-fdca78889998"
      },
      "execution_count": 110,
      "outputs": [
        {
          "output_type": "stream",
          "name": "stdout",
          "text": [
            "['1' '2' '3' '4' '5.6' '6.7' '8' '9' 'abc']\n"
          ]
        }
      ]
    },
    {
      "cell_type": "markdown",
      "source": [
        "String vs number in arrays:"
      ],
      "metadata": {
        "id": "Vi9ym0V3eoPy"
      }
    },
    {
      "cell_type": "code",
      "source": [
        "arr = np.array(((1,2,5),(1,2,\"5.6asdfgh67\")))\n",
        "arr\n",
        "\n",
        "# Mixed types (int and str) → upcast to string (like Python lists).\n",
        "# NumPy calculates dtype as string of length = 11 (the longest item).\n",
        "# Total elements = 2 × 3 = 6\n",
        "# Each element is 11-byte string → total 44 bytes."
      ],
      "metadata": {
        "colab": {
          "base_uri": "https://localhost:8080/"
        },
        "id": "SfaVZMicR8Nd",
        "outputId": "6acd1d62-185f-4c4d-a87f-6cce5d97d8ed"
      },
      "execution_count": 111,
      "outputs": [
        {
          "output_type": "execute_result",
          "data": {
            "text/plain": [
              "array([['1', '2', '5'],\n",
              "       ['1', '2', '5.6asdfgh67']], dtype='<U21')"
            ]
          },
          "metadata": {},
          "execution_count": 111
        }
      ]
    },
    {
      "cell_type": "markdown",
      "source": [
        "Mixed-type NumPy array:"
      ],
      "metadata": {
        "id": "K6Dnk5JIfBZm"
      }
    },
    {
      "cell_type": "code",
      "source": [
        "mixed_array = np.array([1, 3.14, True])\n",
        "print(mixed_array)\n",
        "print(\"Data type of the array:\", mixed_array.dtype)\n",
        "\n",
        "# NumPy will upcast to the most general/common type among:\n",
        "    # int, float, bool → becomes float\n",
        "    # True → 1.0"
      ],
      "metadata": {
        "colab": {
          "base_uri": "https://localhost:8080/"
        },
        "id": "RgCEleEVel69",
        "outputId": "b5417418-e461-4f54-ca33-9f45995245ae"
      },
      "execution_count": 112,
      "outputs": [
        {
          "output_type": "stream",
          "name": "stdout",
          "text": [
            "[1.   3.14 1.  ]\n",
            "Data type of the array: float64\n"
          ]
        }
      ]
    },
    {
      "cell_type": "markdown",
      "source": [
        "Structured Array for Library Records:"
      ],
      "metadata": {
        "id": "BtQeSFFcj3ti"
      }
    },
    {
      "cell_type": "code",
      "source": [
        "book_dtype = [\n",
        "    ('title', 'S50'),\n",
        "    ('ISBN', 'S13'),\n",
        "    ('author', 'S30'),\n",
        "    ('year', 'i4'),\n",
        "    ('available_copies', 'i4')\n",
        "] # Store datatypes of all columns\n",
        "\n",
        "library_records = np.array([\n",
        "    ('Introduction to Algorithms', '9780262033848', 'Thomas H. Cormen', 2009, 5),\n",
        "    ('Clean Code', '9780132350884', 'Robert C. Martin', 2008, 2),\n",
        "], dtype=book_dtype)"
      ],
      "metadata": {
        "id": "03bj_IZZfEcE"
      },
      "execution_count": 113,
      "outputs": []
    },
    {
      "cell_type": "code",
      "source": [
        "library_records"
      ],
      "metadata": {
        "colab": {
          "base_uri": "https://localhost:8080/"
        },
        "id": "XQR7waXekI-k",
        "outputId": "227ba86d-d2f9-48dd-fbf4-49b566e2b14c"
      },
      "execution_count": 114,
      "outputs": [
        {
          "output_type": "execute_result",
          "data": {
            "text/plain": [
              "array([(b'Introduction to Algorithms', b'9780262033848', b'Thomas H. Cormen', 2009, 5),\n",
              "       (b'Clean Code', b'9780132350884', b'Robert C. Martin', 2008, 2)],\n",
              "      dtype=[('title', 'S50'), ('ISBN', 'S13'), ('author', 'S30'), ('year', '<i4'), ('available_copies', '<i4')])"
            ]
          },
          "metadata": {},
          "execution_count": 114
        }
      ]
    },
    {
      "cell_type": "code",
      "source": [
        "# ✅ Accessing and Querying\n",
        "print(library_records['title'])       # All titles\n",
        "print(library_records['author'])      # All authors\n",
        "print(library_records[0])             # First record"
      ],
      "metadata": {
        "colab": {
          "base_uri": "https://localhost:8080/"
        },
        "id": "K27TlXcnkJ-2",
        "outputId": "55688098-7158-4e6d-c1f1-9986303d956c"
      },
      "execution_count": 115,
      "outputs": [
        {
          "output_type": "stream",
          "name": "stdout",
          "text": [
            "[b'Introduction to Algorithms' b'Clean Code']\n",
            "[b'Thomas H. Cormen' b'Robert C. Martin']\n",
            "(b'Introduction to Algorithms', b'9780262033848', b'Thomas H. Cormen', 2009, 5)\n"
          ]
        }
      ]
    },
    {
      "cell_type": "code",
      "source": [
        "# ✅ Filtering:\n",
        "books_after_2000 = library_records[library_records['year'] > 2000]\n",
        "books_after_2000"
      ],
      "metadata": {
        "colab": {
          "base_uri": "https://localhost:8080/"
        },
        "id": "guuiBFQxkP5H",
        "outputId": "50a92169-6416-4a80-abef-12b131cadd33"
      },
      "execution_count": 116,
      "outputs": [
        {
          "output_type": "execute_result",
          "data": {
            "text/plain": [
              "array([(b'Introduction to Algorithms', b'9780262033848', b'Thomas H. Cormen', 2009, 5),\n",
              "       (b'Clean Code', b'9780132350884', b'Robert C. Martin', 2008, 2)],\n",
              "      dtype=[('title', 'S50'), ('ISBN', 'S13'), ('author', 'S30'), ('year', '<i4'), ('available_copies', '<i4')])"
            ]
          },
          "metadata": {},
          "execution_count": 116
        }
      ]
    },
    {
      "cell_type": "code",
      "source": [
        "# ✅ Sorting:\n",
        "np.sort(library_records, order='available_copies') # sort by copies"
      ],
      "metadata": {
        "colab": {
          "base_uri": "https://localhost:8080/"
        },
        "id": "qywg6Hn1kTiu",
        "outputId": "edf2cccd-84fb-49fb-a643-033d99496b24"
      },
      "execution_count": 117,
      "outputs": [
        {
          "output_type": "execute_result",
          "data": {
            "text/plain": [
              "array([(b'Clean Code', b'9780132350884', b'Robert C. Martin', 2008, 2),\n",
              "       (b'Introduction to Algorithms', b'9780262033848', b'Thomas H. Cormen', 2009, 5)],\n",
              "      dtype=[('title', 'S50'), ('ISBN', 'S13'), ('author', 'S30'), ('year', '<i4'), ('available_copies', '<i4')])"
            ]
          },
          "metadata": {},
          "execution_count": 117
        }
      ]
    },
    {
      "cell_type": "code",
      "source": [
        "np.sort(library_records, order='title') # sort by title"
      ],
      "metadata": {
        "colab": {
          "base_uri": "https://localhost:8080/"
        },
        "id": "Tj2-23-FkihH",
        "outputId": "b23cbce8-785d-46c4-c8a2-00eda567a806"
      },
      "execution_count": 118,
      "outputs": [
        {
          "output_type": "execute_result",
          "data": {
            "text/plain": [
              "array([(b'Clean Code', b'9780132350884', b'Robert C. Martin', 2008, 2),\n",
              "       (b'Introduction to Algorithms', b'9780262033848', b'Thomas H. Cormen', 2009, 5)],\n",
              "      dtype=[('title', 'S50'), ('ISBN', 'S13'), ('author', 'S30'), ('year', '<i4'), ('available_copies', '<i4')])"
            ]
          },
          "metadata": {},
          "execution_count": 118
        }
      ]
    },
    {
      "cell_type": "markdown",
      "source": [
        "np.where():\n",
        "\n",
        "np.where() is used to return indices or values based on a condition.:\n",
        "\n",
        "np.where(condition, value_if_true, value_if_false)\n"
      ],
      "metadata": {
        "id": "Qno1nDB-phS8"
      }
    },
    {
      "cell_type": "code",
      "source": [
        "marks = np.array([45, 72, 60, 30, 85])\n",
        "marks"
      ],
      "metadata": {
        "colab": {
          "base_uri": "https://localhost:8080/"
        },
        "id": "GbrOGZPBpg9S",
        "outputId": "6cdddfd5-db9c-44a3-8e40-9f66dd963244"
      },
      "execution_count": 119,
      "outputs": [
        {
          "output_type": "execute_result",
          "data": {
            "text/plain": [
              "array([45, 72, 60, 30, 85])"
            ]
          },
          "metadata": {},
          "execution_count": 119
        }
      ]
    },
    {
      "cell_type": "code",
      "source": [
        "# Eg1: Now, we want to label each student as \"Pass\" if marks ≥ 50, else \"Fail\".\n",
        "result = np.where(marks >= 50, 'Pass', 'Fail')\n",
        "print(result)"
      ],
      "metadata": {
        "colab": {
          "base_uri": "https://localhost:8080/"
        },
        "id": "vorb3-6FpsCV",
        "outputId": "b13c276b-5713-487f-933a-d79e79073be8"
      },
      "execution_count": 120,
      "outputs": [
        {
          "output_type": "stream",
          "name": "stdout",
          "text": [
            "['Fail' 'Pass' 'Pass' 'Fail' 'Pass']\n"
          ]
        }
      ]
    },
    {
      "cell_type": "code",
      "source": [
        "# Eg2: Only condition (get indices). If you give only the condition, it gives the indices where the condition is True.\n",
        "indices = np.where(marks >= 50)\n",
        "print(indices)"
      ],
      "metadata": {
        "colab": {
          "base_uri": "https://localhost:8080/"
        },
        "id": "ZP-L8fBNp06S",
        "outputId": "da8b8f57-982c-48e2-d586-99f8eea42e01"
      },
      "execution_count": 121,
      "outputs": [
        {
          "output_type": "stream",
          "name": "stdout",
          "text": [
            "(array([1, 2, 4]),)\n"
          ]
        }
      ]
    },
    {
      "cell_type": "code",
      "source": [
        "# Access marks from indices\n",
        "print(marks[indices])\n",
        "# Output: [72 60 85]"
      ],
      "metadata": {
        "colab": {
          "base_uri": "https://localhost:8080/"
        },
        "id": "En0gA1uDqDML",
        "outputId": "173503e6-f140-4aa1-e757-76d17d2aeca4"
      },
      "execution_count": 122,
      "outputs": [
        {
          "output_type": "stream",
          "name": "stdout",
          "text": [
            "[72 60 85]\n"
          ]
        }
      ]
    },
    {
      "cell_type": "code",
      "source": [
        "# Define structured dtype\n",
        "dtype = [('name', 'U10'), ('age', 'i4'), ('salary', 'i4')]\n",
        "\n",
        "# Create structured array\n",
        "data = np.array([\n",
        "    ('Alice', 24, 40000),\n",
        "    ('Bob', 30, 55000),\n",
        "    ('Charlie', 28, 48000),\n",
        "    ('David', 35, 62000),\n",
        "    ('Eva', 26, 45000)\n",
        "], dtype=dtype)\n",
        "\n",
        "print(data)"
      ],
      "metadata": {
        "colab": {
          "base_uri": "https://localhost:8080/"
        },
        "id": "khoFsRBOqcVL",
        "outputId": "bab5f1f4-9622-4a72-faf0-99072b81c687"
      },
      "execution_count": 123,
      "outputs": [
        {
          "output_type": "stream",
          "name": "stdout",
          "text": [
            "[('Alice', 24, 40000) ('Bob', 30, 55000) ('Charlie', 28, 48000)\n",
            " ('David', 35, 62000) ('Eva', 26, 45000)]\n"
          ]
        }
      ]
    },
    {
      "cell_type": "code",
      "source": [
        "# Use np.where to find employees with salary > 50000\n",
        "high_salary_indices = np.where(data['salary'] > 50000)\n",
        "high_salary_indices"
      ],
      "metadata": {
        "colab": {
          "base_uri": "https://localhost:8080/"
        },
        "id": "w3esUAlnqidZ",
        "outputId": "85af2e77-62ed-4be7-9fc9-785f2b24e75f"
      },
      "execution_count": 124,
      "outputs": [
        {
          "output_type": "execute_result",
          "data": {
            "text/plain": [
              "(array([1, 3]),)"
            ]
          },
          "metadata": {},
          "execution_count": 124
        }
      ]
    },
    {
      "cell_type": "code",
      "source": [
        "# Print their names\n",
        "print(\"Employees with salary > 50000:\", data['name'][high_salary_indices])"
      ],
      "metadata": {
        "colab": {
          "base_uri": "https://localhost:8080/"
        },
        "id": "RVJG4ZF3qpc0",
        "outputId": "a586178f-dc55-4521-9cde-bb7b9178023c"
      },
      "execution_count": 125,
      "outputs": [
        {
          "output_type": "stream",
          "name": "stdout",
          "text": [
            "Employees with salary > 50000: ['Bob' 'David']\n"
          ]
        }
      ]
    },
    {
      "cell_type": "markdown",
      "source": [
        ".unique():"
      ],
      "metadata": {
        "id": "vQJQwbYlrXLZ"
      }
    },
    {
      "cell_type": "code",
      "source": [
        "arr = [4, 2, 4, 1, 2, 3]\n",
        "print(np.unique(arr))  # Output: [1 2 3 4]"
      ],
      "metadata": {
        "colab": {
          "base_uri": "https://localhost:8080/"
        },
        "id": "mMig4bEyqrKD",
        "outputId": "da460c33-19d9-443d-8e1c-427ad210e1c8"
      },
      "execution_count": 126,
      "outputs": [
        {
          "output_type": "stream",
          "name": "stdout",
          "text": [
            "[1 2 3 4]\n"
          ]
        }
      ]
    },
    {
      "cell_type": "markdown",
      "source": [
        ".argmax() and .argmin():"
      ],
      "metadata": {
        "id": "hBX5lqRprdbV"
      }
    },
    {
      "cell_type": "code",
      "source": [
        "arr = [10, 5, 20, 8]\n",
        "print(np.argmax(arr))  # Output: 2 (because 20 is largest, at index 2)\n",
        "# Returns the index of the largest value in the array."
      ],
      "metadata": {
        "colab": {
          "base_uri": "https://localhost:8080/"
        },
        "id": "XzieO1XZrchQ",
        "outputId": "c7dd6074-2145-4056-d824-6825399e1f5d"
      },
      "execution_count": 127,
      "outputs": [
        {
          "output_type": "stream",
          "name": "stdout",
          "text": [
            "2\n"
          ]
        }
      ]
    },
    {
      "cell_type": "code",
      "source": [
        "arr = [10, 5, 20, 8]\n",
        "print(np.argmin(arr))  # Output: 1 (because 5 is smallest, at index 1)"
      ],
      "metadata": {
        "colab": {
          "base_uri": "https://localhost:8080/"
        },
        "id": "tOrBrb8ZrlQD",
        "outputId": "c00966e8-1c63-4a77-ef1f-4ebcbf7b719f"
      },
      "execution_count": 128,
      "outputs": [
        {
          "output_type": "stream",
          "name": "stdout",
          "text": [
            "1\n"
          ]
        }
      ]
    },
    {
      "cell_type": "code",
      "source": [
        "a = [1, 2, 3]\n",
        "b = [4, 5, 6]\n",
        "print(np.concatenate([a, b]))  # Output: [1 2 3 4 5 6]"
      ],
      "metadata": {
        "colab": {
          "base_uri": "https://localhost:8080/"
        },
        "id": "YBlXxtTErzyA",
        "outputId": "7c3bc684-f2cc-41dd-d396-58c6413a1e7b"
      },
      "execution_count": 129,
      "outputs": [
        {
          "output_type": "stream",
          "name": "stdout",
          "text": [
            "[1 2 3 4 5 6]\n"
          ]
        }
      ]
    },
    {
      "cell_type": "markdown",
      "source": [
        "np.random.seed(42):\n",
        "\n",
        "It’s used to set the starting point (seed) for NumPy’s random number generator so that the \"random\" numbers it creates are reproducible — i.e., you’ll get the same random numbers every time you run the code."
      ],
      "metadata": {
        "id": "hJ11l-RCsPBz"
      }
    },
    {
      "cell_type": "code",
      "source": [
        "# np.random.randint(low, high=None, size=None):\n",
        "# 🔸 Parameters:\n",
        "    # low: Start of range (inclusive)\n",
        "    # high: End of range (exclusive). If high is not given, range becomes [0, low)\n",
        "    # size: How many numbers you want (can be a single number or a tuple)\n",
        "\n",
        "np.random.randint(1, 10) # Generates 1 random number from 1 to 9"
      ],
      "metadata": {
        "colab": {
          "base_uri": "https://localhost:8080/"
        },
        "id": "hoXz4EHfr3DV",
        "outputId": "a9be313c-47bc-4be8-ddd7-a0f4756425f5"
      },
      "execution_count": 130,
      "outputs": [
        {
          "output_type": "execute_result",
          "data": {
            "text/plain": [
              "1"
            ]
          },
          "metadata": {},
          "execution_count": 130
        }
      ]
    },
    {
      "cell_type": "code",
      "source": [
        "np.random.randint(1, 10, size=5) # Generate 5 random numbers from 1 to 10"
      ],
      "metadata": {
        "colab": {
          "base_uri": "https://localhost:8080/"
        },
        "id": "rbtMLT2ms4Rj",
        "outputId": "3ece3f19-2a74-4c9d-ed2b-f6086b8a316d"
      },
      "execution_count": 131,
      "outputs": [
        {
          "output_type": "execute_result",
          "data": {
            "text/plain": [
              "array([5, 5, 4, 8, 2])"
            ]
          },
          "metadata": {},
          "execution_count": 131
        }
      ]
    },
    {
      "cell_type": "code",
      "source": [
        "np.random.randint(0, 100, size=(3, 2)) # Generates a 2D array (3x2)"
      ],
      "metadata": {
        "colab": {
          "base_uri": "https://localhost:8080/"
        },
        "id": "hT5JS0zmtPpK",
        "outputId": "e20795f3-e339-4bcb-a590-d1fb723e66c9"
      },
      "execution_count": 132,
      "outputs": [
        {
          "output_type": "execute_result",
          "data": {
            "text/plain": [
              "array([[51, 77],\n",
              "       [61, 35],\n",
              "       [28,  6]])"
            ]
          },
          "metadata": {},
          "execution_count": 132
        }
      ]
    },
    {
      "cell_type": "code",
      "source": [
        "np.random.randint(5) # Only one argument → treated as high, and low=0\n",
        "# Picks a number from [0, 4]"
      ],
      "metadata": {
        "colab": {
          "base_uri": "https://localhost:8080/"
        },
        "id": "41uWuqxhtXfv",
        "outputId": "95cb54b9-a16f-4ef5-abd8-409fb5c1c110"
      },
      "execution_count": 133,
      "outputs": [
        {
          "output_type": "execute_result",
          "data": {
            "text/plain": [
              "1"
            ]
          },
          "metadata": {},
          "execution_count": 133
        }
      ]
    },
    {
      "cell_type": "code",
      "source": [
        "np.random.seed(42)\n",
        "np.random.randint(1, 10, 5)\n",
        "# Output: [7 4 8 5 7] every time"
      ],
      "metadata": {
        "colab": {
          "base_uri": "https://localhost:8080/"
        },
        "id": "xiJqzhMXtkNg",
        "outputId": "fef8ce94-75b9-4d4b-a41b-6ffc76fb0f85"
      },
      "execution_count": 134,
      "outputs": [
        {
          "output_type": "execute_result",
          "data": {
            "text/plain": [
              "array([7, 4, 8, 5, 7])"
            ]
          },
          "metadata": {},
          "execution_count": 134
        }
      ]
    }
  ]
}